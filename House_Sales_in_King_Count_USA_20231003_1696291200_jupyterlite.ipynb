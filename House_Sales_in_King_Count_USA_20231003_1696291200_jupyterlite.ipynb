{
  "cells": [
    {
      "cell_type": "markdown",
      "metadata": {
        "id": "811b27b5-25d4-466b-a5f9-b893811ebbbc"
      },
      "source": [
        "<p style=\"text-align:center\">\n",
        "    <a href=\"https://skills.network/?utm_medium=Exinfluencer&utm_source=Exinfluencer&utm_content=000026UJ&utm_term=10006555&utm_id=NA-SkillsNetwork-Channel-SkillsNetworkCoursesIBMDeveloperSkillsNetworkML0101ENSkillsNetwork20718538-2022-01-01\" target=\"_blank\">\n",
        "    <img src=\"https://cf-courses-data.s3.us.cloud-object-storage.appdomain.cloud/assets/logos/SN_web_lightmode.png\" width=\"300\" alt=\"Skills Network Logo\">\n",
        "    </a>\n",
        "</p>\n",
        "\n",
        "<h1 align=\"center\"><font size=\"5\">Final Project: House Sales in King County, USA </font></h1>\n"
      ]
    },
    {
      "cell_type": "markdown",
      "metadata": {
        "id": "99344b73-5a13-435e-846c-9e34b0dad28a"
      },
      "source": [
        "<h2>Table of Contents</h2>\n",
        "<div class=\"alert alert-block alert-info\" style=\"margin-top: 20px\">\n",
        "    <ul>\n",
        "    <li><a href=\"#Instructions\">Instructions</a></li>\n",
        "    <li><a href=\"#About-the-Dataset\">About the Dataset</a></li>\n",
        "    <li><a href=\"#Module-1:-Importing-Data-Sets\">Module 1: Importing Data </a></li>\n",
        "    <li><a href=\"#Module-2:-Data-Wrangling\">Module 2: Data Wrangling</a> </li>\n",
        "    <li><a href=\"#Module-3:-Exploratory-Data-Analysis\">Module 3: Exploratory Data Analysis</a></li>\n",
        "    <li><a href=\"#Module-4:-Model-Development\">Module 4: Model Development</a></li>\n",
        "    <li><a href=\"#Module-5:-Model-Evaluation-and-Refinement\">Module 5: Model Evaluation and Refinement</a></li>\n",
        "</a></li>\n",
        "</div>\n",
        "<p>Estimated Time Needed: <strong>75 min</strong></p>\n",
        "</div>\n",
        "\n",
        "<hr>\n"
      ]
    },
    {
      "cell_type": "markdown",
      "metadata": {
        "id": "b825214a-ab76-4a9a-a7c6-08a1ab3fcdd1"
      },
      "source": [
        "# Instructions\n"
      ]
    },
    {
      "cell_type": "markdown",
      "metadata": {
        "id": "d56ad2cc-0682-4f3e-a611-17c1d4c60863"
      },
      "source": [
        "In this assignment, you are a Data Analyst working at a Real Estate Investment Trust. The Trust would like to start investing in Residential real estate. You are tasked with determining the market price of a house given a set of features. You will analyze and predict housing prices using attributes or features such as square footage, number of bedrooms, number of floors, and so on. This is a template notebook; your job is to complete the ten questions. Some hints to the questions are given.\n",
        "\n",
        "As you are completing this notebook, take and save the **screenshots** of the final outputs of your solutions (e.g., final charts, tables, calculation results etc.). They will need to be shared in the following Peer Review section of the Final Project module.\n"
      ]
    },
    {
      "cell_type": "markdown",
      "metadata": {
        "id": "c5317ac7-b938-4014-bb55-b30a0452c23b"
      },
      "source": [
        "# About the Dataset\n",
        "\n",
        "This dataset contains house sale prices for King County, which includes Seattle. It includes homes sold between May 2014 and May 2015. It was taken from [here](https://www.kaggle.com/harlfoxem/housesalesprediction?utm_medium=Exinfluencer&utm_source=Exinfluencer&utm_content=000026UJ&utm_term=10006555&utm_id=NA-SkillsNetwork-wwwcourseraorg-SkillsNetworkCoursesIBMDeveloperSkillsNetworkDA0101ENSkillsNetwork20235326-2022-01-01). It was also slightly modified for the purposes of this course.\n"
      ]
    },
    {
      "cell_type": "markdown",
      "metadata": {
        "id": "4621235c-3dd4-4a04-923c-0094ca89af1a"
      },
      "source": [
        "| Variable      | Description                                                                                                 |\n",
        "| ------------- | ----------------------------------------------------------------------------------------------------------- |\n",
        "| id            | A notation for a house                                                                                      |\n",
        "| date          | Date house was sold                                                                                         |\n",
        "| price         | Price is prediction target                                                                                  |\n",
        "| bedrooms      | Number of bedrooms                                                                                          |\n",
        "| bathrooms     | Number of bathrooms                                                                                         |\n",
        "| sqft_living   | Square footage of the home                                                                                  |\n",
        "| sqft_lot      | Square footage of the lot                                                                                   |\n",
        "| floors        | Total floors (levels) in house                                                                              |\n",
        "| waterfront    | House which has a view to a waterfront                                                                      |\n",
        "| view          | Has been viewed                                                                                             |\n",
        "| condition     | How good the condition is overall                                                                           |\n",
        "| grade         | overall grade given to the housing unit, based on King County grading system                                |\n",
        "| sqft_above    | Square footage of house apart from basement                                                                 |\n",
        "| sqft_basement | Square footage of the basement                                                                              |\n",
        "| yr_built      | Built Year                                                                                                  |\n",
        "| yr_renovated  | Year when house was renovated                                                                               |\n",
        "| zipcode       | Zip code                                                                                                    |\n",
        "| lat           | Latitude coordinate                                                                                         |\n",
        "| long          | Longitude coordinate                                                                                        |\n",
        "| sqft_living15 | Living room area in 2015(implies-- some renovations) This might or might not have affected the lotsize area |\n",
        "| sqft_lot15    | LotSize area in 2015(implies-- some renovations)                                                            |\n"
      ]
    },
    {
      "cell_type": "markdown",
      "metadata": {
        "id": "e4f491cb-b3f0-4d57-b67f-679a30d6f155"
      },
      "source": [
        "## **Import the required libraries**\n"
      ]
    },
    {
      "cell_type": "code",
      "execution_count": null,
      "metadata": {
        "id": "fa173989-dba0-4935-bd06-11348d0d1c18"
      },
      "outputs": [],
      "source": [
        "# All Libraries required for this lab are listed below. The libraries pre-installed on Skills Network Labs are commented.\n",
        "# !mamba install -qy pandas==1.3.4 numpy==1.21.4 seaborn==0.9.0 matplotlib==3.5.0 scikit-learn==0.20.1\n",
        "# Note: If your environment doesn't support \"!mamba install\", use \"!pip install\""
      ]
    },
    {
      "cell_type": "code",
      "execution_count": null,
      "metadata": {
        "id": "23a34e2b-b002-49fb-994d-2314a3b95380"
      },
      "outputs": [],
      "source": [
        "# Surpress warnings:\n",
        "def warn(*args, **kwargs):\n",
        "    pass\n",
        "import warnings\n",
        "warnings.warn = warn"
      ]
    },
    {
      "cell_type": "code",
      "execution_count": null,
      "metadata": {
        "colab": {
          "base_uri": "https://localhost:8080/"
        },
        "id": "3073af8b-1b24-487b-84d9-bdbdcf68f2f7",
        "outputId": "7851e209-5715-4486-da55-661c56b6936d"
      },
      "outputs": [
        {
          "output_type": "stream",
          "name": "stdout",
          "text": [
            "Requirement already satisfied: scikit-learn in /usr/local/lib/python3.10/dist-packages (1.2.2)\n",
            "Collecting scikit-learn\n",
            "  Downloading scikit_learn-1.4.1.post1-cp310-cp310-manylinux_2_17_x86_64.manylinux2014_x86_64.whl (12.1 MB)\n",
            "\u001b[2K     \u001b[90m━━━━━━━━━━━━━━━━━━━━━━━━━━━━━━━━━━━━━━━━\u001b[0m \u001b[32m12.1/12.1 MB\u001b[0m \u001b[31m24.8 MB/s\u001b[0m eta \u001b[36m0:00:00\u001b[0m\n",
            "\u001b[?25hRequirement already satisfied: numpy<2.0,>=1.19.5 in /usr/local/lib/python3.10/dist-packages (from scikit-learn) (1.25.2)\n",
            "Requirement already satisfied: scipy>=1.6.0 in /usr/local/lib/python3.10/dist-packages (from scikit-learn) (1.11.4)\n",
            "Requirement already satisfied: joblib>=1.2.0 in /usr/local/lib/python3.10/dist-packages (from scikit-learn) (1.3.2)\n",
            "Requirement already satisfied: threadpoolctl>=2.0.0 in /usr/local/lib/python3.10/dist-packages (from scikit-learn) (3.4.0)\n",
            "Installing collected packages: scikit-learn\n",
            "  Attempting uninstall: scikit-learn\n",
            "    Found existing installation: scikit-learn 1.2.2\n",
            "    Uninstalling scikit-learn-1.2.2:\n",
            "      Successfully uninstalled scikit-learn-1.2.2\n",
            "Successfully installed scikit-learn-1.4.1.post1\n",
            "Requirement already satisfied: seaborn in /usr/local/lib/python3.10/dist-packages (0.13.1)\n",
            "Requirement already satisfied: numpy!=1.24.0,>=1.20 in /usr/local/lib/python3.10/dist-packages (from seaborn) (1.25.2)\n",
            "Requirement already satisfied: pandas>=1.2 in /usr/local/lib/python3.10/dist-packages (from seaborn) (2.0.3)\n",
            "Requirement already satisfied: matplotlib!=3.6.1,>=3.4 in /usr/local/lib/python3.10/dist-packages (from seaborn) (3.7.1)\n",
            "Requirement already satisfied: contourpy>=1.0.1 in /usr/local/lib/python3.10/dist-packages (from matplotlib!=3.6.1,>=3.4->seaborn) (1.2.0)\n",
            "Requirement already satisfied: cycler>=0.10 in /usr/local/lib/python3.10/dist-packages (from matplotlib!=3.6.1,>=3.4->seaborn) (0.12.1)\n",
            "Requirement already satisfied: fonttools>=4.22.0 in /usr/local/lib/python3.10/dist-packages (from matplotlib!=3.6.1,>=3.4->seaborn) (4.50.0)\n",
            "Requirement already satisfied: kiwisolver>=1.0.1 in /usr/local/lib/python3.10/dist-packages (from matplotlib!=3.6.1,>=3.4->seaborn) (1.4.5)\n",
            "Requirement already satisfied: packaging>=20.0 in /usr/local/lib/python3.10/dist-packages (from matplotlib!=3.6.1,>=3.4->seaborn) (24.0)\n",
            "Requirement already satisfied: pillow>=6.2.0 in /usr/local/lib/python3.10/dist-packages (from matplotlib!=3.6.1,>=3.4->seaborn) (9.4.0)\n",
            "Requirement already satisfied: pyparsing>=2.3.1 in /usr/local/lib/python3.10/dist-packages (from matplotlib!=3.6.1,>=3.4->seaborn) (3.1.2)\n",
            "Requirement already satisfied: python-dateutil>=2.7 in /usr/local/lib/python3.10/dist-packages (from matplotlib!=3.6.1,>=3.4->seaborn) (2.8.2)\n",
            "Requirement already satisfied: pytz>=2020.1 in /usr/local/lib/python3.10/dist-packages (from pandas>=1.2->seaborn) (2023.4)\n",
            "Requirement already satisfied: tzdata>=2022.1 in /usr/local/lib/python3.10/dist-packages (from pandas>=1.2->seaborn) (2024.1)\n",
            "Requirement already satisfied: six>=1.5 in /usr/local/lib/python3.10/dist-packages (from python-dateutil>=2.7->matplotlib!=3.6.1,>=3.4->seaborn) (1.16.0)\n"
          ]
        }
      ],
      "source": [
        "!pip install -U scikit-learn\n"
      ]
    },
    {
      "cell_type": "code",
      "source": [
        "!pip install seaborn"
      ],
      "metadata": {
        "colab": {
          "base_uri": "https://localhost:8080/"
        },
        "id": "QK4nH6XoG3Ol",
        "outputId": "5c715ade-7b4a-49b4-948a-b8c3d29a6001"
      },
      "execution_count": null,
      "outputs": [
        {
          "output_type": "stream",
          "name": "stdout",
          "text": [
            "Requirement already satisfied: seaborn in /usr/local/lib/python3.10/dist-packages (0.13.1)\n",
            "Requirement already satisfied: numpy!=1.24.0,>=1.20 in /usr/local/lib/python3.10/dist-packages (from seaborn) (1.25.2)\n",
            "Requirement already satisfied: pandas>=1.2 in /usr/local/lib/python3.10/dist-packages (from seaborn) (2.0.3)\n",
            "Requirement already satisfied: matplotlib!=3.6.1,>=3.4 in /usr/local/lib/python3.10/dist-packages (from seaborn) (3.7.1)\n",
            "Requirement already satisfied: contourpy>=1.0.1 in /usr/local/lib/python3.10/dist-packages (from matplotlib!=3.6.1,>=3.4->seaborn) (1.2.0)\n",
            "Requirement already satisfied: cycler>=0.10 in /usr/local/lib/python3.10/dist-packages (from matplotlib!=3.6.1,>=3.4->seaborn) (0.12.1)\n",
            "Requirement already satisfied: fonttools>=4.22.0 in /usr/local/lib/python3.10/dist-packages (from matplotlib!=3.6.1,>=3.4->seaborn) (4.50.0)\n",
            "Requirement already satisfied: kiwisolver>=1.0.1 in /usr/local/lib/python3.10/dist-packages (from matplotlib!=3.6.1,>=3.4->seaborn) (1.4.5)\n",
            "Requirement already satisfied: packaging>=20.0 in /usr/local/lib/python3.10/dist-packages (from matplotlib!=3.6.1,>=3.4->seaborn) (24.0)\n",
            "Requirement already satisfied: pillow>=6.2.0 in /usr/local/lib/python3.10/dist-packages (from matplotlib!=3.6.1,>=3.4->seaborn) (9.4.0)\n",
            "Requirement already satisfied: pyparsing>=2.3.1 in /usr/local/lib/python3.10/dist-packages (from matplotlib!=3.6.1,>=3.4->seaborn) (3.1.2)\n",
            "Requirement already satisfied: python-dateutil>=2.7 in /usr/local/lib/python3.10/dist-packages (from matplotlib!=3.6.1,>=3.4->seaborn) (2.8.2)\n",
            "Requirement already satisfied: pytz>=2020.1 in /usr/local/lib/python3.10/dist-packages (from pandas>=1.2->seaborn) (2023.4)\n",
            "Requirement already satisfied: tzdata>=2022.1 in /usr/local/lib/python3.10/dist-packages (from pandas>=1.2->seaborn) (2024.1)\n",
            "Requirement already satisfied: six>=1.5 in /usr/local/lib/python3.10/dist-packages (from python-dateutil>=2.7->matplotlib!=3.6.1,>=3.4->seaborn) (1.16.0)\n"
          ]
        }
      ]
    },
    {
      "cell_type": "code",
      "execution_count": null,
      "metadata": {
        "id": "8e1eb5e2-8b8f-46f2-ad15-a0e251395956"
      },
      "outputs": [],
      "source": [
        "import pandas as pd\n",
        "import matplotlib.pyplot as plt\n",
        "import numpy as np\n",
        "import seaborn as sns\n",
        "from sklearn.pipeline import Pipeline\n",
        "from sklearn.preprocessing import StandardScaler,PolynomialFeatures\n",
        "from sklearn.linear_model import LinearRegression\n",
        "%matplotlib inline"
      ]
    },
    {
      "cell_type": "markdown",
      "metadata": {
        "id": "2fbf510b-b8c1-4815-b28c-df5d79454191"
      },
      "source": [
        "# Module 1: Importing Data Sets\n"
      ]
    },
    {
      "cell_type": "markdown",
      "metadata": {
        "id": "79065986-5e79-4d41-ac64-6258f407964d"
      },
      "source": [
        "Download the dataset by running the cell below.\n"
      ]
    },
    {
      "cell_type": "code",
      "execution_count": null,
      "metadata": {
        "colab": {
          "base_uri": "https://localhost:8080/",
          "height": 388
        },
        "id": "8505ae63-5c4f-475f-91ca-6c70641888fe",
        "outputId": "b0fc489c-a02d-4146-8238-99cb222e446e"
      },
      "outputs": [
        {
          "output_type": "error",
          "ename": "ModuleNotFoundError",
          "evalue": "No module named 'piplite'",
          "traceback": [
            "\u001b[0;31m---------------------------------------------------------------------------\u001b[0m",
            "\u001b[0;31mModuleNotFoundError\u001b[0m                       Traceback (most recent call last)",
            "\u001b[0;32m<ipython-input-7-99e2ab067a1a>\u001b[0m in \u001b[0;36m<cell line: 1>\u001b[0;34m()\u001b[0m\n\u001b[0;32m----> 1\u001b[0;31m \u001b[0;32mimport\u001b[0m \u001b[0mpiplite\u001b[0m\u001b[0;34m\u001b[0m\u001b[0;34m\u001b[0m\u001b[0m\n\u001b[0m\u001b[1;32m      2\u001b[0m \u001b[0;32mawait\u001b[0m \u001b[0mpiplite\u001b[0m\u001b[0;34m.\u001b[0m\u001b[0minstall\u001b[0m\u001b[0;34m(\u001b[0m\u001b[0;34m'seaborn'\u001b[0m\u001b[0;34m)\u001b[0m\u001b[0;34m\u001b[0m\u001b[0;34m\u001b[0m\u001b[0m\n",
            "\u001b[0;31mModuleNotFoundError\u001b[0m: No module named 'piplite'",
            "",
            "\u001b[0;31m---------------------------------------------------------------------------\u001b[0;32m\nNOTE: If your import is failing due to a missing package, you can\nmanually install dependencies using either !pip or !apt.\n\nTo view examples of installing some common dependencies, click the\n\"Open Examples\" button below.\n\u001b[0;31m---------------------------------------------------------------------------\u001b[0m\n"
          ],
          "errorDetails": {
            "actions": [
              {
                "action": "open_url",
                "actionText": "Open Examples",
                "url": "/notebooks/snippets/importing_libraries.ipynb"
              }
            ]
          }
        }
      ],
      "source": [
        "import piplite\n",
        "await piplite.install('seaborn')"
      ]
    },
    {
      "cell_type": "code",
      "execution_count": null,
      "metadata": {
        "id": "26dd2963-daa6-431c-a273-69b25919724d"
      },
      "outputs": [],
      "source": [
        "from pyodide.http import pyfetch\n",
        "\n",
        "async def download(url, filename):\n",
        "    response = await pyfetch(url)\n",
        "    if response.status == 200:\n",
        "        with open(filename, \"wb\") as f:\n",
        "            f.write(await response.bytes())"
      ]
    },
    {
      "cell_type": "code",
      "execution_count": null,
      "metadata": {
        "id": "96f3668f-275b-49b8-9dca-a3b29edc558a"
      },
      "outputs": [],
      "source": [
        "filepath='https://cf-courses-data.s3.us.cloud-object-storage.appdomain.cloud/IBMDeveloperSkillsNetwork-DA0101EN-SkillsNetwork/labs/FinalModule_Coursera/data/kc_house_data_NaN.csv'"
      ]
    },
    {
      "cell_type": "code",
      "execution_count": null,
      "metadata": {
        "colab": {
          "base_uri": "https://localhost:8080/",
          "height": 354
        },
        "id": "d7947153-7300-43d3-8743-2e6aa768cf28",
        "outputId": "16ded940-5fe5-454a-bead-c0065fb17085"
      },
      "outputs": [
        {
          "output_type": "error",
          "ename": "NameError",
          "evalue": "name '_jsfetch' is not defined",
          "traceback": [
            "\u001b[0;31m---------------------------------------------------------------------------\u001b[0m",
            "\u001b[0;31mNameError\u001b[0m                                 Traceback (most recent call last)",
            "\u001b[0;32m<ipython-input-15-05a1eae32013>\u001b[0m in \u001b[0;36m<cell line: 1>\u001b[0;34m()\u001b[0m\n\u001b[0;32m----> 1\u001b[0;31m \u001b[0;32mawait\u001b[0m \u001b[0mdownload\u001b[0m\u001b[0;34m(\u001b[0m\u001b[0mfilepath\u001b[0m\u001b[0;34m,\u001b[0m \u001b[0;34m\"housing.csv\"\u001b[0m\u001b[0;34m)\u001b[0m\u001b[0;34m\u001b[0m\u001b[0;34m\u001b[0m\u001b[0m\n\u001b[0m\u001b[1;32m      2\u001b[0m \u001b[0mfile_name\u001b[0m\u001b[0;34m=\u001b[0m\u001b[0;34m\"housing.csv\"\u001b[0m\u001b[0;34m\u001b[0m\u001b[0;34m\u001b[0m\u001b[0m\n",
            "\u001b[0;32m<ipython-input-13-f68b327ce09e>\u001b[0m in \u001b[0;36mdownload\u001b[0;34m(url, filename)\u001b[0m\n\u001b[1;32m      2\u001b[0m \u001b[0;34m\u001b[0m\u001b[0m\n\u001b[1;32m      3\u001b[0m \u001b[0;32masync\u001b[0m \u001b[0;32mdef\u001b[0m \u001b[0mdownload\u001b[0m\u001b[0;34m(\u001b[0m\u001b[0murl\u001b[0m\u001b[0;34m,\u001b[0m \u001b[0mfilename\u001b[0m\u001b[0;34m)\u001b[0m\u001b[0;34m:\u001b[0m\u001b[0;34m\u001b[0m\u001b[0;34m\u001b[0m\u001b[0m\n\u001b[0;32m----> 4\u001b[0;31m     \u001b[0mresponse\u001b[0m \u001b[0;34m=\u001b[0m \u001b[0;32mawait\u001b[0m \u001b[0mpyfetch\u001b[0m\u001b[0;34m(\u001b[0m\u001b[0murl\u001b[0m\u001b[0;34m)\u001b[0m\u001b[0;34m\u001b[0m\u001b[0;34m\u001b[0m\u001b[0m\n\u001b[0m\u001b[1;32m      5\u001b[0m     \u001b[0;32mif\u001b[0m \u001b[0mresponse\u001b[0m\u001b[0;34m.\u001b[0m\u001b[0mstatus\u001b[0m \u001b[0;34m==\u001b[0m \u001b[0;36m200\u001b[0m\u001b[0;34m:\u001b[0m\u001b[0;34m\u001b[0m\u001b[0;34m\u001b[0m\u001b[0m\n\u001b[1;32m      6\u001b[0m         \u001b[0;32mwith\u001b[0m \u001b[0mopen\u001b[0m\u001b[0;34m(\u001b[0m\u001b[0mfilename\u001b[0m\u001b[0;34m,\u001b[0m \u001b[0;34m\"wb\"\u001b[0m\u001b[0;34m)\u001b[0m \u001b[0;32mas\u001b[0m \u001b[0mf\u001b[0m\u001b[0;34m:\u001b[0m\u001b[0;34m\u001b[0m\u001b[0;34m\u001b[0m\u001b[0m\n",
            "\u001b[0;32m/usr/local/lib/python3.10/dist-packages/pyodide/http.py\u001b[0m in \u001b[0;36mpyfetch\u001b[0;34m(url, **kwargs)\u001b[0m\n\u001b[1;32m    304\u001b[0m     \u001b[0;32mtry\u001b[0m\u001b[0;34m:\u001b[0m\u001b[0;34m\u001b[0m\u001b[0;34m\u001b[0m\u001b[0m\n\u001b[1;32m    305\u001b[0m         return FetchResponse(\n\u001b[0;32m--> 306\u001b[0;31m             \u001b[0murl\u001b[0m\u001b[0;34m,\u001b[0m \u001b[0;32mawait\u001b[0m \u001b[0m_jsfetch\u001b[0m\u001b[0;34m(\u001b[0m\u001b[0murl\u001b[0m\u001b[0;34m,\u001b[0m \u001b[0mto_js\u001b[0m\u001b[0;34m(\u001b[0m\u001b[0mkwargs\u001b[0m\u001b[0;34m,\u001b[0m \u001b[0mdict_converter\u001b[0m\u001b[0;34m=\u001b[0m\u001b[0mObject\u001b[0m\u001b[0;34m.\u001b[0m\u001b[0mfromEntries\u001b[0m\u001b[0;34m)\u001b[0m\u001b[0;34m)\u001b[0m\u001b[0;34m\u001b[0m\u001b[0;34m\u001b[0m\u001b[0m\n\u001b[0m\u001b[1;32m    307\u001b[0m         )\n\u001b[1;32m    308\u001b[0m     \u001b[0;32mexcept\u001b[0m \u001b[0mJsException\u001b[0m \u001b[0;32mas\u001b[0m \u001b[0me\u001b[0m\u001b[0;34m:\u001b[0m\u001b[0;34m\u001b[0m\u001b[0;34m\u001b[0m\u001b[0m\n",
            "\u001b[0;31mNameError\u001b[0m: name '_jsfetch' is not defined"
          ]
        }
      ],
      "source": [
        "await download(filepath, \"housing.csv\")\n",
        "file_name=\"housing.csv\""
      ]
    },
    {
      "cell_type": "markdown",
      "metadata": {
        "id": "b357fec7-7a06-4c97-86d5-d4206d8cc4ed"
      },
      "source": [
        "Load the csv:\n"
      ]
    },
    {
      "cell_type": "code",
      "execution_count": null,
      "metadata": {
        "id": "9cd8466a-d143-4843-9983-dac6f3cfdb28"
      },
      "outputs": [],
      "source": [
        "df = pd.read_csv(filepath)"
      ]
    },
    {
      "cell_type": "code",
      "source": [],
      "metadata": {
        "id": "nYY2kq3-BEb1"
      },
      "execution_count": null,
      "outputs": []
    },
    {
      "cell_type": "markdown",
      "metadata": {
        "id": "a045f978-6774-4441-9327-b2b0f137d6e5"
      },
      "source": [
        "> Note: This version of the lab is working on JupyterLite, which requires the dataset to be downloaded to the interface.While working on the downloaded version of this notebook on their local machines(Jupyter Anaconda), the learners can simply **skip the steps above,** and simply use the URL directly in the `pandas.read_csv()` function. You can uncomment and run the statements in the cell below.\n"
      ]
    },
    {
      "cell_type": "code",
      "execution_count": null,
      "metadata": {
        "id": "a8838682-eea8-4d51-84a2-fff475698ac2"
      },
      "outputs": [],
      "source": [
        "#filepath='https://cf-courses-data.s3.us.cloud-object-storage.appdomain.cloud/IBMDeveloperSkillsNetwork-DA0101EN-SkillsNetwork/labs/FinalModule_Coursera/data/kc_house_data_NaN.csv'\n",
        "#df = pd.read_csv(filepath, header=None)"
      ]
    },
    {
      "cell_type": "markdown",
      "metadata": {
        "id": "3388df9d-2e1c-4763-a420-830a2852ec11"
      },
      "source": [
        "We use the method <code>head</code> to display the first 5 columns of the dataframe.\n"
      ]
    },
    {
      "cell_type": "code",
      "execution_count": null,
      "metadata": {
        "colab": {
          "base_uri": "https://localhost:8080/",
          "height": 305
        },
        "id": "1c22dd2e-609e-42c5-922a-e9ab94ae39de",
        "outputId": "e9daf999-9e9c-44f0-8bde-bd3f338a07f6"
      },
      "outputs": [
        {
          "output_type": "execute_result",
          "data": {
            "text/plain": [
              "   Unnamed: 0          id             date     price  bedrooms  bathrooms  \\\n",
              "0           0  7129300520  20141013T000000  221900.0       3.0       1.00   \n",
              "1           1  6414100192  20141209T000000  538000.0       3.0       2.25   \n",
              "2           2  5631500400  20150225T000000  180000.0       2.0       1.00   \n",
              "3           3  2487200875  20141209T000000  604000.0       4.0       3.00   \n",
              "4           4  1954400510  20150218T000000  510000.0       3.0       2.00   \n",
              "\n",
              "   sqft_living  sqft_lot  floors  waterfront  ...  grade  sqft_above  \\\n",
              "0         1180      5650     1.0           0  ...      7        1180   \n",
              "1         2570      7242     2.0           0  ...      7        2170   \n",
              "2          770     10000     1.0           0  ...      6         770   \n",
              "3         1960      5000     1.0           0  ...      7        1050   \n",
              "4         1680      8080     1.0           0  ...      8        1680   \n",
              "\n",
              "   sqft_basement  yr_built  yr_renovated  zipcode      lat     long  \\\n",
              "0              0      1955             0    98178  47.5112 -122.257   \n",
              "1            400      1951          1991    98125  47.7210 -122.319   \n",
              "2              0      1933             0    98028  47.7379 -122.233   \n",
              "3            910      1965             0    98136  47.5208 -122.393   \n",
              "4              0      1987             0    98074  47.6168 -122.045   \n",
              "\n",
              "   sqft_living15  sqft_lot15  \n",
              "0           1340        5650  \n",
              "1           1690        7639  \n",
              "2           2720        8062  \n",
              "3           1360        5000  \n",
              "4           1800        7503  \n",
              "\n",
              "[5 rows x 22 columns]"
            ],
            "text/html": [
              "\n",
              "  <div id=\"df-d370aeda-026d-4481-8883-1329f2f29dca\" class=\"colab-df-container\">\n",
              "    <div>\n",
              "<style scoped>\n",
              "    .dataframe tbody tr th:only-of-type {\n",
              "        vertical-align: middle;\n",
              "    }\n",
              "\n",
              "    .dataframe tbody tr th {\n",
              "        vertical-align: top;\n",
              "    }\n",
              "\n",
              "    .dataframe thead th {\n",
              "        text-align: right;\n",
              "    }\n",
              "</style>\n",
              "<table border=\"1\" class=\"dataframe\">\n",
              "  <thead>\n",
              "    <tr style=\"text-align: right;\">\n",
              "      <th></th>\n",
              "      <th>Unnamed: 0</th>\n",
              "      <th>id</th>\n",
              "      <th>date</th>\n",
              "      <th>price</th>\n",
              "      <th>bedrooms</th>\n",
              "      <th>bathrooms</th>\n",
              "      <th>sqft_living</th>\n",
              "      <th>sqft_lot</th>\n",
              "      <th>floors</th>\n",
              "      <th>waterfront</th>\n",
              "      <th>...</th>\n",
              "      <th>grade</th>\n",
              "      <th>sqft_above</th>\n",
              "      <th>sqft_basement</th>\n",
              "      <th>yr_built</th>\n",
              "      <th>yr_renovated</th>\n",
              "      <th>zipcode</th>\n",
              "      <th>lat</th>\n",
              "      <th>long</th>\n",
              "      <th>sqft_living15</th>\n",
              "      <th>sqft_lot15</th>\n",
              "    </tr>\n",
              "  </thead>\n",
              "  <tbody>\n",
              "    <tr>\n",
              "      <th>0</th>\n",
              "      <td>0</td>\n",
              "      <td>7129300520</td>\n",
              "      <td>20141013T000000</td>\n",
              "      <td>221900.0</td>\n",
              "      <td>3.0</td>\n",
              "      <td>1.00</td>\n",
              "      <td>1180</td>\n",
              "      <td>5650</td>\n",
              "      <td>1.0</td>\n",
              "      <td>0</td>\n",
              "      <td>...</td>\n",
              "      <td>7</td>\n",
              "      <td>1180</td>\n",
              "      <td>0</td>\n",
              "      <td>1955</td>\n",
              "      <td>0</td>\n",
              "      <td>98178</td>\n",
              "      <td>47.5112</td>\n",
              "      <td>-122.257</td>\n",
              "      <td>1340</td>\n",
              "      <td>5650</td>\n",
              "    </tr>\n",
              "    <tr>\n",
              "      <th>1</th>\n",
              "      <td>1</td>\n",
              "      <td>6414100192</td>\n",
              "      <td>20141209T000000</td>\n",
              "      <td>538000.0</td>\n",
              "      <td>3.0</td>\n",
              "      <td>2.25</td>\n",
              "      <td>2570</td>\n",
              "      <td>7242</td>\n",
              "      <td>2.0</td>\n",
              "      <td>0</td>\n",
              "      <td>...</td>\n",
              "      <td>7</td>\n",
              "      <td>2170</td>\n",
              "      <td>400</td>\n",
              "      <td>1951</td>\n",
              "      <td>1991</td>\n",
              "      <td>98125</td>\n",
              "      <td>47.7210</td>\n",
              "      <td>-122.319</td>\n",
              "      <td>1690</td>\n",
              "      <td>7639</td>\n",
              "    </tr>\n",
              "    <tr>\n",
              "      <th>2</th>\n",
              "      <td>2</td>\n",
              "      <td>5631500400</td>\n",
              "      <td>20150225T000000</td>\n",
              "      <td>180000.0</td>\n",
              "      <td>2.0</td>\n",
              "      <td>1.00</td>\n",
              "      <td>770</td>\n",
              "      <td>10000</td>\n",
              "      <td>1.0</td>\n",
              "      <td>0</td>\n",
              "      <td>...</td>\n",
              "      <td>6</td>\n",
              "      <td>770</td>\n",
              "      <td>0</td>\n",
              "      <td>1933</td>\n",
              "      <td>0</td>\n",
              "      <td>98028</td>\n",
              "      <td>47.7379</td>\n",
              "      <td>-122.233</td>\n",
              "      <td>2720</td>\n",
              "      <td>8062</td>\n",
              "    </tr>\n",
              "    <tr>\n",
              "      <th>3</th>\n",
              "      <td>3</td>\n",
              "      <td>2487200875</td>\n",
              "      <td>20141209T000000</td>\n",
              "      <td>604000.0</td>\n",
              "      <td>4.0</td>\n",
              "      <td>3.00</td>\n",
              "      <td>1960</td>\n",
              "      <td>5000</td>\n",
              "      <td>1.0</td>\n",
              "      <td>0</td>\n",
              "      <td>...</td>\n",
              "      <td>7</td>\n",
              "      <td>1050</td>\n",
              "      <td>910</td>\n",
              "      <td>1965</td>\n",
              "      <td>0</td>\n",
              "      <td>98136</td>\n",
              "      <td>47.5208</td>\n",
              "      <td>-122.393</td>\n",
              "      <td>1360</td>\n",
              "      <td>5000</td>\n",
              "    </tr>\n",
              "    <tr>\n",
              "      <th>4</th>\n",
              "      <td>4</td>\n",
              "      <td>1954400510</td>\n",
              "      <td>20150218T000000</td>\n",
              "      <td>510000.0</td>\n",
              "      <td>3.0</td>\n",
              "      <td>2.00</td>\n",
              "      <td>1680</td>\n",
              "      <td>8080</td>\n",
              "      <td>1.0</td>\n",
              "      <td>0</td>\n",
              "      <td>...</td>\n",
              "      <td>8</td>\n",
              "      <td>1680</td>\n",
              "      <td>0</td>\n",
              "      <td>1987</td>\n",
              "      <td>0</td>\n",
              "      <td>98074</td>\n",
              "      <td>47.6168</td>\n",
              "      <td>-122.045</td>\n",
              "      <td>1800</td>\n",
              "      <td>7503</td>\n",
              "    </tr>\n",
              "  </tbody>\n",
              "</table>\n",
              "<p>5 rows × 22 columns</p>\n",
              "</div>\n",
              "    <div class=\"colab-df-buttons\">\n",
              "\n",
              "  <div class=\"colab-df-container\">\n",
              "    <button class=\"colab-df-convert\" onclick=\"convertToInteractive('df-d370aeda-026d-4481-8883-1329f2f29dca')\"\n",
              "            title=\"Convert this dataframe to an interactive table.\"\n",
              "            style=\"display:none;\">\n",
              "\n",
              "  <svg xmlns=\"http://www.w3.org/2000/svg\" height=\"24px\" viewBox=\"0 -960 960 960\">\n",
              "    <path d=\"M120-120v-720h720v720H120Zm60-500h600v-160H180v160Zm220 220h160v-160H400v160Zm0 220h160v-160H400v160ZM180-400h160v-160H180v160Zm440 0h160v-160H620v160ZM180-180h160v-160H180v160Zm440 0h160v-160H620v160Z\"/>\n",
              "  </svg>\n",
              "    </button>\n",
              "\n",
              "  <style>\n",
              "    .colab-df-container {\n",
              "      display:flex;\n",
              "      gap: 12px;\n",
              "    }\n",
              "\n",
              "    .colab-df-convert {\n",
              "      background-color: #E8F0FE;\n",
              "      border: none;\n",
              "      border-radius: 50%;\n",
              "      cursor: pointer;\n",
              "      display: none;\n",
              "      fill: #1967D2;\n",
              "      height: 32px;\n",
              "      padding: 0 0 0 0;\n",
              "      width: 32px;\n",
              "    }\n",
              "\n",
              "    .colab-df-convert:hover {\n",
              "      background-color: #E2EBFA;\n",
              "      box-shadow: 0px 1px 2px rgba(60, 64, 67, 0.3), 0px 1px 3px 1px rgba(60, 64, 67, 0.15);\n",
              "      fill: #174EA6;\n",
              "    }\n",
              "\n",
              "    .colab-df-buttons div {\n",
              "      margin-bottom: 4px;\n",
              "    }\n",
              "\n",
              "    [theme=dark] .colab-df-convert {\n",
              "      background-color: #3B4455;\n",
              "      fill: #D2E3FC;\n",
              "    }\n",
              "\n",
              "    [theme=dark] .colab-df-convert:hover {\n",
              "      background-color: #434B5C;\n",
              "      box-shadow: 0px 1px 3px 1px rgba(0, 0, 0, 0.15);\n",
              "      filter: drop-shadow(0px 1px 2px rgba(0, 0, 0, 0.3));\n",
              "      fill: #FFFFFF;\n",
              "    }\n",
              "  </style>\n",
              "\n",
              "    <script>\n",
              "      const buttonEl =\n",
              "        document.querySelector('#df-d370aeda-026d-4481-8883-1329f2f29dca button.colab-df-convert');\n",
              "      buttonEl.style.display =\n",
              "        google.colab.kernel.accessAllowed ? 'block' : 'none';\n",
              "\n",
              "      async function convertToInteractive(key) {\n",
              "        const element = document.querySelector('#df-d370aeda-026d-4481-8883-1329f2f29dca');\n",
              "        const dataTable =\n",
              "          await google.colab.kernel.invokeFunction('convertToInteractive',\n",
              "                                                    [key], {});\n",
              "        if (!dataTable) return;\n",
              "\n",
              "        const docLinkHtml = 'Like what you see? Visit the ' +\n",
              "          '<a target=\"_blank\" href=https://colab.research.google.com/notebooks/data_table.ipynb>data table notebook</a>'\n",
              "          + ' to learn more about interactive tables.';\n",
              "        element.innerHTML = '';\n",
              "        dataTable['output_type'] = 'display_data';\n",
              "        await google.colab.output.renderOutput(dataTable, element);\n",
              "        const docLink = document.createElement('div');\n",
              "        docLink.innerHTML = docLinkHtml;\n",
              "        element.appendChild(docLink);\n",
              "      }\n",
              "    </script>\n",
              "  </div>\n",
              "\n",
              "\n",
              "<div id=\"df-720a25cf-925c-4aaa-920c-c881acbc12c0\">\n",
              "  <button class=\"colab-df-quickchart\" onclick=\"quickchart('df-720a25cf-925c-4aaa-920c-c881acbc12c0')\"\n",
              "            title=\"Suggest charts\"\n",
              "            style=\"display:none;\">\n",
              "\n",
              "<svg xmlns=\"http://www.w3.org/2000/svg\" height=\"24px\"viewBox=\"0 0 24 24\"\n",
              "     width=\"24px\">\n",
              "    <g>\n",
              "        <path d=\"M19 3H5c-1.1 0-2 .9-2 2v14c0 1.1.9 2 2 2h14c1.1 0 2-.9 2-2V5c0-1.1-.9-2-2-2zM9 17H7v-7h2v7zm4 0h-2V7h2v10zm4 0h-2v-4h2v4z\"/>\n",
              "    </g>\n",
              "</svg>\n",
              "  </button>\n",
              "\n",
              "<style>\n",
              "  .colab-df-quickchart {\n",
              "      --bg-color: #E8F0FE;\n",
              "      --fill-color: #1967D2;\n",
              "      --hover-bg-color: #E2EBFA;\n",
              "      --hover-fill-color: #174EA6;\n",
              "      --disabled-fill-color: #AAA;\n",
              "      --disabled-bg-color: #DDD;\n",
              "  }\n",
              "\n",
              "  [theme=dark] .colab-df-quickchart {\n",
              "      --bg-color: #3B4455;\n",
              "      --fill-color: #D2E3FC;\n",
              "      --hover-bg-color: #434B5C;\n",
              "      --hover-fill-color: #FFFFFF;\n",
              "      --disabled-bg-color: #3B4455;\n",
              "      --disabled-fill-color: #666;\n",
              "  }\n",
              "\n",
              "  .colab-df-quickchart {\n",
              "    background-color: var(--bg-color);\n",
              "    border: none;\n",
              "    border-radius: 50%;\n",
              "    cursor: pointer;\n",
              "    display: none;\n",
              "    fill: var(--fill-color);\n",
              "    height: 32px;\n",
              "    padding: 0;\n",
              "    width: 32px;\n",
              "  }\n",
              "\n",
              "  .colab-df-quickchart:hover {\n",
              "    background-color: var(--hover-bg-color);\n",
              "    box-shadow: 0 1px 2px rgba(60, 64, 67, 0.3), 0 1px 3px 1px rgba(60, 64, 67, 0.15);\n",
              "    fill: var(--button-hover-fill-color);\n",
              "  }\n",
              "\n",
              "  .colab-df-quickchart-complete:disabled,\n",
              "  .colab-df-quickchart-complete:disabled:hover {\n",
              "    background-color: var(--disabled-bg-color);\n",
              "    fill: var(--disabled-fill-color);\n",
              "    box-shadow: none;\n",
              "  }\n",
              "\n",
              "  .colab-df-spinner {\n",
              "    border: 2px solid var(--fill-color);\n",
              "    border-color: transparent;\n",
              "    border-bottom-color: var(--fill-color);\n",
              "    animation:\n",
              "      spin 1s steps(1) infinite;\n",
              "  }\n",
              "\n",
              "  @keyframes spin {\n",
              "    0% {\n",
              "      border-color: transparent;\n",
              "      border-bottom-color: var(--fill-color);\n",
              "      border-left-color: var(--fill-color);\n",
              "    }\n",
              "    20% {\n",
              "      border-color: transparent;\n",
              "      border-left-color: var(--fill-color);\n",
              "      border-top-color: var(--fill-color);\n",
              "    }\n",
              "    30% {\n",
              "      border-color: transparent;\n",
              "      border-left-color: var(--fill-color);\n",
              "      border-top-color: var(--fill-color);\n",
              "      border-right-color: var(--fill-color);\n",
              "    }\n",
              "    40% {\n",
              "      border-color: transparent;\n",
              "      border-right-color: var(--fill-color);\n",
              "      border-top-color: var(--fill-color);\n",
              "    }\n",
              "    60% {\n",
              "      border-color: transparent;\n",
              "      border-right-color: var(--fill-color);\n",
              "    }\n",
              "    80% {\n",
              "      border-color: transparent;\n",
              "      border-right-color: var(--fill-color);\n",
              "      border-bottom-color: var(--fill-color);\n",
              "    }\n",
              "    90% {\n",
              "      border-color: transparent;\n",
              "      border-bottom-color: var(--fill-color);\n",
              "    }\n",
              "  }\n",
              "</style>\n",
              "\n",
              "  <script>\n",
              "    async function quickchart(key) {\n",
              "      const quickchartButtonEl =\n",
              "        document.querySelector('#' + key + ' button');\n",
              "      quickchartButtonEl.disabled = true;  // To prevent multiple clicks.\n",
              "      quickchartButtonEl.classList.add('colab-df-spinner');\n",
              "      try {\n",
              "        const charts = await google.colab.kernel.invokeFunction(\n",
              "            'suggestCharts', [key], {});\n",
              "      } catch (error) {\n",
              "        console.error('Error during call to suggestCharts:', error);\n",
              "      }\n",
              "      quickchartButtonEl.classList.remove('colab-df-spinner');\n",
              "      quickchartButtonEl.classList.add('colab-df-quickchart-complete');\n",
              "    }\n",
              "    (() => {\n",
              "      let quickchartButtonEl =\n",
              "        document.querySelector('#df-720a25cf-925c-4aaa-920c-c881acbc12c0 button');\n",
              "      quickchartButtonEl.style.display =\n",
              "        google.colab.kernel.accessAllowed ? 'block' : 'none';\n",
              "    })();\n",
              "  </script>\n",
              "</div>\n",
              "\n",
              "    </div>\n",
              "  </div>\n"
            ],
            "application/vnd.google.colaboratory.intrinsic+json": {
              "type": "dataframe",
              "variable_name": "df"
            }
          },
          "metadata": {},
          "execution_count": 23
        }
      ],
      "source": [
        "df.head()"
      ]
    },
    {
      "cell_type": "markdown",
      "metadata": {
        "id": "9c0efac1-49ee-4e28-aa8b-190316755c4f"
      },
      "source": [
        "### Question 1\n",
        "\n",
        "Display the data types of each column using the function dtypes. Take a screenshot of your code and output. You will need to submit the screenshot for the final project.\n"
      ]
    },
    {
      "cell_type": "code",
      "execution_count": null,
      "metadata": {
        "colab": {
          "base_uri": "https://localhost:8080/"
        },
        "id": "9be299c3-4445-4b3d-a709-f09c2f61f359",
        "outputId": "c674d9d9-ae1b-4548-c86f-96d4e614cd68"
      },
      "outputs": [
        {
          "output_type": "execute_result",
          "data": {
            "text/plain": [
              "Unnamed: 0         int64\n",
              "id                 int64\n",
              "date              object\n",
              "price            float64\n",
              "bedrooms         float64\n",
              "bathrooms        float64\n",
              "sqft_living        int64\n",
              "sqft_lot           int64\n",
              "floors           float64\n",
              "waterfront         int64\n",
              "view               int64\n",
              "condition          int64\n",
              "grade              int64\n",
              "sqft_above         int64\n",
              "sqft_basement      int64\n",
              "yr_built           int64\n",
              "yr_renovated       int64\n",
              "zipcode            int64\n",
              "lat              float64\n",
              "long             float64\n",
              "sqft_living15      int64\n",
              "sqft_lot15         int64\n",
              "dtype: object"
            ]
          },
          "metadata": {},
          "execution_count": 7
        }
      ],
      "source": [
        "#Enter Your Code, Execute and take the Screenshot\n",
        "df.dtypes"
      ]
    },
    {
      "cell_type": "markdown",
      "metadata": {
        "id": "33fc4705-d49b-4ab9-813c-a5e59a438acb"
      },
      "source": [
        "We use the method describe to obtain a statistical summary of the dataframe.\n"
      ]
    },
    {
      "cell_type": "code",
      "execution_count": null,
      "metadata": {
        "colab": {
          "base_uri": "https://localhost:8080/",
          "height": 392
        },
        "id": "b2a4c3c0-f834-4ad0-aeac-f7c3ea745fe4",
        "outputId": "a0d1e7ab-b0e5-42ea-c031-6280e76c64a6"
      },
      "outputs": [
        {
          "output_type": "execute_result",
          "data": {
            "text/plain": [
              "        Unnamed: 0            id         price      bedrooms     bathrooms  \\\n",
              "count  21613.00000  2.161300e+04  2.161300e+04  21600.000000  21603.000000   \n",
              "mean   10806.00000  4.580302e+09  5.400881e+05      3.372870      2.115736   \n",
              "std     6239.28002  2.876566e+09  3.671272e+05      0.926657      0.768996   \n",
              "min        0.00000  1.000102e+06  7.500000e+04      1.000000      0.500000   \n",
              "25%     5403.00000  2.123049e+09  3.219500e+05      3.000000      1.750000   \n",
              "50%    10806.00000  3.904930e+09  4.500000e+05      3.000000      2.250000   \n",
              "75%    16209.00000  7.308900e+09  6.450000e+05      4.000000      2.500000   \n",
              "max    21612.00000  9.900000e+09  7.700000e+06     33.000000      8.000000   \n",
              "\n",
              "        sqft_living      sqft_lot        floors    waterfront          view  \\\n",
              "count  21613.000000  2.161300e+04  21613.000000  21613.000000  21613.000000   \n",
              "mean    2079.899736  1.510697e+04      1.494309      0.007542      0.234303   \n",
              "std      918.440897  4.142051e+04      0.539989      0.086517      0.766318   \n",
              "min      290.000000  5.200000e+02      1.000000      0.000000      0.000000   \n",
              "25%     1427.000000  5.040000e+03      1.000000      0.000000      0.000000   \n",
              "50%     1910.000000  7.618000e+03      1.500000      0.000000      0.000000   \n",
              "75%     2550.000000  1.068800e+04      2.000000      0.000000      0.000000   \n",
              "max    13540.000000  1.651359e+06      3.500000      1.000000      4.000000   \n",
              "\n",
              "       ...         grade    sqft_above  sqft_basement      yr_built  \\\n",
              "count  ...  21613.000000  21613.000000   21613.000000  21613.000000   \n",
              "mean   ...      7.656873   1788.390691     291.509045   1971.005136   \n",
              "std    ...      1.175459    828.090978     442.575043     29.373411   \n",
              "min    ...      1.000000    290.000000       0.000000   1900.000000   \n",
              "25%    ...      7.000000   1190.000000       0.000000   1951.000000   \n",
              "50%    ...      7.000000   1560.000000       0.000000   1975.000000   \n",
              "75%    ...      8.000000   2210.000000     560.000000   1997.000000   \n",
              "max    ...     13.000000   9410.000000    4820.000000   2015.000000   \n",
              "\n",
              "       yr_renovated       zipcode           lat          long  sqft_living15  \\\n",
              "count  21613.000000  21613.000000  21613.000000  21613.000000   21613.000000   \n",
              "mean      84.402258  98077.939805     47.560053   -122.213896    1986.552492   \n",
              "std      401.679240     53.505026      0.138564      0.140828     685.391304   \n",
              "min        0.000000  98001.000000     47.155900   -122.519000     399.000000   \n",
              "25%        0.000000  98033.000000     47.471000   -122.328000    1490.000000   \n",
              "50%        0.000000  98065.000000     47.571800   -122.230000    1840.000000   \n",
              "75%        0.000000  98118.000000     47.678000   -122.125000    2360.000000   \n",
              "max     2015.000000  98199.000000     47.777600   -121.315000    6210.000000   \n",
              "\n",
              "          sqft_lot15  \n",
              "count   21613.000000  \n",
              "mean    12768.455652  \n",
              "std     27304.179631  \n",
              "min       651.000000  \n",
              "25%      5100.000000  \n",
              "50%      7620.000000  \n",
              "75%     10083.000000  \n",
              "max    871200.000000  \n",
              "\n",
              "[8 rows x 21 columns]"
            ],
            "text/html": [
              "\n",
              "  <div id=\"df-24ea5074-fddf-49dc-8c11-ec38b0c19332\" class=\"colab-df-container\">\n",
              "    <div>\n",
              "<style scoped>\n",
              "    .dataframe tbody tr th:only-of-type {\n",
              "        vertical-align: middle;\n",
              "    }\n",
              "\n",
              "    .dataframe tbody tr th {\n",
              "        vertical-align: top;\n",
              "    }\n",
              "\n",
              "    .dataframe thead th {\n",
              "        text-align: right;\n",
              "    }\n",
              "</style>\n",
              "<table border=\"1\" class=\"dataframe\">\n",
              "  <thead>\n",
              "    <tr style=\"text-align: right;\">\n",
              "      <th></th>\n",
              "      <th>Unnamed: 0</th>\n",
              "      <th>id</th>\n",
              "      <th>price</th>\n",
              "      <th>bedrooms</th>\n",
              "      <th>bathrooms</th>\n",
              "      <th>sqft_living</th>\n",
              "      <th>sqft_lot</th>\n",
              "      <th>floors</th>\n",
              "      <th>waterfront</th>\n",
              "      <th>view</th>\n",
              "      <th>...</th>\n",
              "      <th>grade</th>\n",
              "      <th>sqft_above</th>\n",
              "      <th>sqft_basement</th>\n",
              "      <th>yr_built</th>\n",
              "      <th>yr_renovated</th>\n",
              "      <th>zipcode</th>\n",
              "      <th>lat</th>\n",
              "      <th>long</th>\n",
              "      <th>sqft_living15</th>\n",
              "      <th>sqft_lot15</th>\n",
              "    </tr>\n",
              "  </thead>\n",
              "  <tbody>\n",
              "    <tr>\n",
              "      <th>count</th>\n",
              "      <td>21613.00000</td>\n",
              "      <td>2.161300e+04</td>\n",
              "      <td>2.161300e+04</td>\n",
              "      <td>21600.000000</td>\n",
              "      <td>21603.000000</td>\n",
              "      <td>21613.000000</td>\n",
              "      <td>2.161300e+04</td>\n",
              "      <td>21613.000000</td>\n",
              "      <td>21613.000000</td>\n",
              "      <td>21613.000000</td>\n",
              "      <td>...</td>\n",
              "      <td>21613.000000</td>\n",
              "      <td>21613.000000</td>\n",
              "      <td>21613.000000</td>\n",
              "      <td>21613.000000</td>\n",
              "      <td>21613.000000</td>\n",
              "      <td>21613.000000</td>\n",
              "      <td>21613.000000</td>\n",
              "      <td>21613.000000</td>\n",
              "      <td>21613.000000</td>\n",
              "      <td>21613.000000</td>\n",
              "    </tr>\n",
              "    <tr>\n",
              "      <th>mean</th>\n",
              "      <td>10806.00000</td>\n",
              "      <td>4.580302e+09</td>\n",
              "      <td>5.400881e+05</td>\n",
              "      <td>3.372870</td>\n",
              "      <td>2.115736</td>\n",
              "      <td>2079.899736</td>\n",
              "      <td>1.510697e+04</td>\n",
              "      <td>1.494309</td>\n",
              "      <td>0.007542</td>\n",
              "      <td>0.234303</td>\n",
              "      <td>...</td>\n",
              "      <td>7.656873</td>\n",
              "      <td>1788.390691</td>\n",
              "      <td>291.509045</td>\n",
              "      <td>1971.005136</td>\n",
              "      <td>84.402258</td>\n",
              "      <td>98077.939805</td>\n",
              "      <td>47.560053</td>\n",
              "      <td>-122.213896</td>\n",
              "      <td>1986.552492</td>\n",
              "      <td>12768.455652</td>\n",
              "    </tr>\n",
              "    <tr>\n",
              "      <th>std</th>\n",
              "      <td>6239.28002</td>\n",
              "      <td>2.876566e+09</td>\n",
              "      <td>3.671272e+05</td>\n",
              "      <td>0.926657</td>\n",
              "      <td>0.768996</td>\n",
              "      <td>918.440897</td>\n",
              "      <td>4.142051e+04</td>\n",
              "      <td>0.539989</td>\n",
              "      <td>0.086517</td>\n",
              "      <td>0.766318</td>\n",
              "      <td>...</td>\n",
              "      <td>1.175459</td>\n",
              "      <td>828.090978</td>\n",
              "      <td>442.575043</td>\n",
              "      <td>29.373411</td>\n",
              "      <td>401.679240</td>\n",
              "      <td>53.505026</td>\n",
              "      <td>0.138564</td>\n",
              "      <td>0.140828</td>\n",
              "      <td>685.391304</td>\n",
              "      <td>27304.179631</td>\n",
              "    </tr>\n",
              "    <tr>\n",
              "      <th>min</th>\n",
              "      <td>0.00000</td>\n",
              "      <td>1.000102e+06</td>\n",
              "      <td>7.500000e+04</td>\n",
              "      <td>1.000000</td>\n",
              "      <td>0.500000</td>\n",
              "      <td>290.000000</td>\n",
              "      <td>5.200000e+02</td>\n",
              "      <td>1.000000</td>\n",
              "      <td>0.000000</td>\n",
              "      <td>0.000000</td>\n",
              "      <td>...</td>\n",
              "      <td>1.000000</td>\n",
              "      <td>290.000000</td>\n",
              "      <td>0.000000</td>\n",
              "      <td>1900.000000</td>\n",
              "      <td>0.000000</td>\n",
              "      <td>98001.000000</td>\n",
              "      <td>47.155900</td>\n",
              "      <td>-122.519000</td>\n",
              "      <td>399.000000</td>\n",
              "      <td>651.000000</td>\n",
              "    </tr>\n",
              "    <tr>\n",
              "      <th>25%</th>\n",
              "      <td>5403.00000</td>\n",
              "      <td>2.123049e+09</td>\n",
              "      <td>3.219500e+05</td>\n",
              "      <td>3.000000</td>\n",
              "      <td>1.750000</td>\n",
              "      <td>1427.000000</td>\n",
              "      <td>5.040000e+03</td>\n",
              "      <td>1.000000</td>\n",
              "      <td>0.000000</td>\n",
              "      <td>0.000000</td>\n",
              "      <td>...</td>\n",
              "      <td>7.000000</td>\n",
              "      <td>1190.000000</td>\n",
              "      <td>0.000000</td>\n",
              "      <td>1951.000000</td>\n",
              "      <td>0.000000</td>\n",
              "      <td>98033.000000</td>\n",
              "      <td>47.471000</td>\n",
              "      <td>-122.328000</td>\n",
              "      <td>1490.000000</td>\n",
              "      <td>5100.000000</td>\n",
              "    </tr>\n",
              "    <tr>\n",
              "      <th>50%</th>\n",
              "      <td>10806.00000</td>\n",
              "      <td>3.904930e+09</td>\n",
              "      <td>4.500000e+05</td>\n",
              "      <td>3.000000</td>\n",
              "      <td>2.250000</td>\n",
              "      <td>1910.000000</td>\n",
              "      <td>7.618000e+03</td>\n",
              "      <td>1.500000</td>\n",
              "      <td>0.000000</td>\n",
              "      <td>0.000000</td>\n",
              "      <td>...</td>\n",
              "      <td>7.000000</td>\n",
              "      <td>1560.000000</td>\n",
              "      <td>0.000000</td>\n",
              "      <td>1975.000000</td>\n",
              "      <td>0.000000</td>\n",
              "      <td>98065.000000</td>\n",
              "      <td>47.571800</td>\n",
              "      <td>-122.230000</td>\n",
              "      <td>1840.000000</td>\n",
              "      <td>7620.000000</td>\n",
              "    </tr>\n",
              "    <tr>\n",
              "      <th>75%</th>\n",
              "      <td>16209.00000</td>\n",
              "      <td>7.308900e+09</td>\n",
              "      <td>6.450000e+05</td>\n",
              "      <td>4.000000</td>\n",
              "      <td>2.500000</td>\n",
              "      <td>2550.000000</td>\n",
              "      <td>1.068800e+04</td>\n",
              "      <td>2.000000</td>\n",
              "      <td>0.000000</td>\n",
              "      <td>0.000000</td>\n",
              "      <td>...</td>\n",
              "      <td>8.000000</td>\n",
              "      <td>2210.000000</td>\n",
              "      <td>560.000000</td>\n",
              "      <td>1997.000000</td>\n",
              "      <td>0.000000</td>\n",
              "      <td>98118.000000</td>\n",
              "      <td>47.678000</td>\n",
              "      <td>-122.125000</td>\n",
              "      <td>2360.000000</td>\n",
              "      <td>10083.000000</td>\n",
              "    </tr>\n",
              "    <tr>\n",
              "      <th>max</th>\n",
              "      <td>21612.00000</td>\n",
              "      <td>9.900000e+09</td>\n",
              "      <td>7.700000e+06</td>\n",
              "      <td>33.000000</td>\n",
              "      <td>8.000000</td>\n",
              "      <td>13540.000000</td>\n",
              "      <td>1.651359e+06</td>\n",
              "      <td>3.500000</td>\n",
              "      <td>1.000000</td>\n",
              "      <td>4.000000</td>\n",
              "      <td>...</td>\n",
              "      <td>13.000000</td>\n",
              "      <td>9410.000000</td>\n",
              "      <td>4820.000000</td>\n",
              "      <td>2015.000000</td>\n",
              "      <td>2015.000000</td>\n",
              "      <td>98199.000000</td>\n",
              "      <td>47.777600</td>\n",
              "      <td>-121.315000</td>\n",
              "      <td>6210.000000</td>\n",
              "      <td>871200.000000</td>\n",
              "    </tr>\n",
              "  </tbody>\n",
              "</table>\n",
              "<p>8 rows × 21 columns</p>\n",
              "</div>\n",
              "    <div class=\"colab-df-buttons\">\n",
              "\n",
              "  <div class=\"colab-df-container\">\n",
              "    <button class=\"colab-df-convert\" onclick=\"convertToInteractive('df-24ea5074-fddf-49dc-8c11-ec38b0c19332')\"\n",
              "            title=\"Convert this dataframe to an interactive table.\"\n",
              "            style=\"display:none;\">\n",
              "\n",
              "  <svg xmlns=\"http://www.w3.org/2000/svg\" height=\"24px\" viewBox=\"0 -960 960 960\">\n",
              "    <path d=\"M120-120v-720h720v720H120Zm60-500h600v-160H180v160Zm220 220h160v-160H400v160Zm0 220h160v-160H400v160ZM180-400h160v-160H180v160Zm440 0h160v-160H620v160ZM180-180h160v-160H180v160Zm440 0h160v-160H620v160Z\"/>\n",
              "  </svg>\n",
              "    </button>\n",
              "\n",
              "  <style>\n",
              "    .colab-df-container {\n",
              "      display:flex;\n",
              "      gap: 12px;\n",
              "    }\n",
              "\n",
              "    .colab-df-convert {\n",
              "      background-color: #E8F0FE;\n",
              "      border: none;\n",
              "      border-radius: 50%;\n",
              "      cursor: pointer;\n",
              "      display: none;\n",
              "      fill: #1967D2;\n",
              "      height: 32px;\n",
              "      padding: 0 0 0 0;\n",
              "      width: 32px;\n",
              "    }\n",
              "\n",
              "    .colab-df-convert:hover {\n",
              "      background-color: #E2EBFA;\n",
              "      box-shadow: 0px 1px 2px rgba(60, 64, 67, 0.3), 0px 1px 3px 1px rgba(60, 64, 67, 0.15);\n",
              "      fill: #174EA6;\n",
              "    }\n",
              "\n",
              "    .colab-df-buttons div {\n",
              "      margin-bottom: 4px;\n",
              "    }\n",
              "\n",
              "    [theme=dark] .colab-df-convert {\n",
              "      background-color: #3B4455;\n",
              "      fill: #D2E3FC;\n",
              "    }\n",
              "\n",
              "    [theme=dark] .colab-df-convert:hover {\n",
              "      background-color: #434B5C;\n",
              "      box-shadow: 0px 1px 3px 1px rgba(0, 0, 0, 0.15);\n",
              "      filter: drop-shadow(0px 1px 2px rgba(0, 0, 0, 0.3));\n",
              "      fill: #FFFFFF;\n",
              "    }\n",
              "  </style>\n",
              "\n",
              "    <script>\n",
              "      const buttonEl =\n",
              "        document.querySelector('#df-24ea5074-fddf-49dc-8c11-ec38b0c19332 button.colab-df-convert');\n",
              "      buttonEl.style.display =\n",
              "        google.colab.kernel.accessAllowed ? 'block' : 'none';\n",
              "\n",
              "      async function convertToInteractive(key) {\n",
              "        const element = document.querySelector('#df-24ea5074-fddf-49dc-8c11-ec38b0c19332');\n",
              "        const dataTable =\n",
              "          await google.colab.kernel.invokeFunction('convertToInteractive',\n",
              "                                                    [key], {});\n",
              "        if (!dataTable) return;\n",
              "\n",
              "        const docLinkHtml = 'Like what you see? Visit the ' +\n",
              "          '<a target=\"_blank\" href=https://colab.research.google.com/notebooks/data_table.ipynb>data table notebook</a>'\n",
              "          + ' to learn more about interactive tables.';\n",
              "        element.innerHTML = '';\n",
              "        dataTable['output_type'] = 'display_data';\n",
              "        await google.colab.output.renderOutput(dataTable, element);\n",
              "        const docLink = document.createElement('div');\n",
              "        docLink.innerHTML = docLinkHtml;\n",
              "        element.appendChild(docLink);\n",
              "      }\n",
              "    </script>\n",
              "  </div>\n",
              "\n",
              "\n",
              "<div id=\"df-4d9522e8-5501-4bc2-828c-91cec479d9ce\">\n",
              "  <button class=\"colab-df-quickchart\" onclick=\"quickchart('df-4d9522e8-5501-4bc2-828c-91cec479d9ce')\"\n",
              "            title=\"Suggest charts\"\n",
              "            style=\"display:none;\">\n",
              "\n",
              "<svg xmlns=\"http://www.w3.org/2000/svg\" height=\"24px\"viewBox=\"0 0 24 24\"\n",
              "     width=\"24px\">\n",
              "    <g>\n",
              "        <path d=\"M19 3H5c-1.1 0-2 .9-2 2v14c0 1.1.9 2 2 2h14c1.1 0 2-.9 2-2V5c0-1.1-.9-2-2-2zM9 17H7v-7h2v7zm4 0h-2V7h2v10zm4 0h-2v-4h2v4z\"/>\n",
              "    </g>\n",
              "</svg>\n",
              "  </button>\n",
              "\n",
              "<style>\n",
              "  .colab-df-quickchart {\n",
              "      --bg-color: #E8F0FE;\n",
              "      --fill-color: #1967D2;\n",
              "      --hover-bg-color: #E2EBFA;\n",
              "      --hover-fill-color: #174EA6;\n",
              "      --disabled-fill-color: #AAA;\n",
              "      --disabled-bg-color: #DDD;\n",
              "  }\n",
              "\n",
              "  [theme=dark] .colab-df-quickchart {\n",
              "      --bg-color: #3B4455;\n",
              "      --fill-color: #D2E3FC;\n",
              "      --hover-bg-color: #434B5C;\n",
              "      --hover-fill-color: #FFFFFF;\n",
              "      --disabled-bg-color: #3B4455;\n",
              "      --disabled-fill-color: #666;\n",
              "  }\n",
              "\n",
              "  .colab-df-quickchart {\n",
              "    background-color: var(--bg-color);\n",
              "    border: none;\n",
              "    border-radius: 50%;\n",
              "    cursor: pointer;\n",
              "    display: none;\n",
              "    fill: var(--fill-color);\n",
              "    height: 32px;\n",
              "    padding: 0;\n",
              "    width: 32px;\n",
              "  }\n",
              "\n",
              "  .colab-df-quickchart:hover {\n",
              "    background-color: var(--hover-bg-color);\n",
              "    box-shadow: 0 1px 2px rgba(60, 64, 67, 0.3), 0 1px 3px 1px rgba(60, 64, 67, 0.15);\n",
              "    fill: var(--button-hover-fill-color);\n",
              "  }\n",
              "\n",
              "  .colab-df-quickchart-complete:disabled,\n",
              "  .colab-df-quickchart-complete:disabled:hover {\n",
              "    background-color: var(--disabled-bg-color);\n",
              "    fill: var(--disabled-fill-color);\n",
              "    box-shadow: none;\n",
              "  }\n",
              "\n",
              "  .colab-df-spinner {\n",
              "    border: 2px solid var(--fill-color);\n",
              "    border-color: transparent;\n",
              "    border-bottom-color: var(--fill-color);\n",
              "    animation:\n",
              "      spin 1s steps(1) infinite;\n",
              "  }\n",
              "\n",
              "  @keyframes spin {\n",
              "    0% {\n",
              "      border-color: transparent;\n",
              "      border-bottom-color: var(--fill-color);\n",
              "      border-left-color: var(--fill-color);\n",
              "    }\n",
              "    20% {\n",
              "      border-color: transparent;\n",
              "      border-left-color: var(--fill-color);\n",
              "      border-top-color: var(--fill-color);\n",
              "    }\n",
              "    30% {\n",
              "      border-color: transparent;\n",
              "      border-left-color: var(--fill-color);\n",
              "      border-top-color: var(--fill-color);\n",
              "      border-right-color: var(--fill-color);\n",
              "    }\n",
              "    40% {\n",
              "      border-color: transparent;\n",
              "      border-right-color: var(--fill-color);\n",
              "      border-top-color: var(--fill-color);\n",
              "    }\n",
              "    60% {\n",
              "      border-color: transparent;\n",
              "      border-right-color: var(--fill-color);\n",
              "    }\n",
              "    80% {\n",
              "      border-color: transparent;\n",
              "      border-right-color: var(--fill-color);\n",
              "      border-bottom-color: var(--fill-color);\n",
              "    }\n",
              "    90% {\n",
              "      border-color: transparent;\n",
              "      border-bottom-color: var(--fill-color);\n",
              "    }\n",
              "  }\n",
              "</style>\n",
              "\n",
              "  <script>\n",
              "    async function quickchart(key) {\n",
              "      const quickchartButtonEl =\n",
              "        document.querySelector('#' + key + ' button');\n",
              "      quickchartButtonEl.disabled = true;  // To prevent multiple clicks.\n",
              "      quickchartButtonEl.classList.add('colab-df-spinner');\n",
              "      try {\n",
              "        const charts = await google.colab.kernel.invokeFunction(\n",
              "            'suggestCharts', [key], {});\n",
              "      } catch (error) {\n",
              "        console.error('Error during call to suggestCharts:', error);\n",
              "      }\n",
              "      quickchartButtonEl.classList.remove('colab-df-spinner');\n",
              "      quickchartButtonEl.classList.add('colab-df-quickchart-complete');\n",
              "    }\n",
              "    (() => {\n",
              "      let quickchartButtonEl =\n",
              "        document.querySelector('#df-4d9522e8-5501-4bc2-828c-91cec479d9ce button');\n",
              "      quickchartButtonEl.style.display =\n",
              "        google.colab.kernel.accessAllowed ? 'block' : 'none';\n",
              "    })();\n",
              "  </script>\n",
              "</div>\n",
              "\n",
              "    </div>\n",
              "  </div>\n"
            ],
            "application/vnd.google.colaboratory.intrinsic+json": {
              "type": "dataframe"
            }
          },
          "metadata": {},
          "execution_count": 24
        }
      ],
      "source": [
        "df.describe()"
      ]
    },
    {
      "cell_type": "markdown",
      "metadata": {
        "id": "71c08cd7-cb93-4e5d-9c73-4b06e534fddc"
      },
      "source": [
        "# Module 2: Data Wrangling\n"
      ]
    },
    {
      "cell_type": "markdown",
      "metadata": {
        "id": "5199f63d-7b22-4c5e-921e-b355cca4a2cb"
      },
      "source": [
        "### Question 2\n",
        "\n",
        "Drop the columns <code>\"id\"</code>  and <code>\"Unnamed: 0\"</code> from axis 1 using the method <code>drop()</code>, then use the method <code>describe()</code> to obtain a statistical summary of the data. Make sure the <code>inplace</code> parameter is set to <code>True</code>. Take a screenshot of your code and output. You will need to submit the screenshot for the final project.\n"
      ]
    },
    {
      "cell_type": "code",
      "execution_count": null,
      "metadata": {
        "colab": {
          "base_uri": "https://localhost:8080/",
          "height": 360
        },
        "id": "babadba1-fb95-495e-804e-7a16f816b6da",
        "outputId": "8bf51019-b912-41a2-bc77-e24f3d0517d9"
      },
      "outputs": [
        {
          "output_type": "execute_result",
          "data": {
            "text/plain": [
              "              price      bedrooms     bathrooms   sqft_living      sqft_lot  \\\n",
              "count  2.161300e+04  21600.000000  21603.000000  21613.000000  2.161300e+04   \n",
              "mean   5.400881e+05      3.372870      2.115736   2079.899736  1.510697e+04   \n",
              "std    3.671272e+05      0.926657      0.768996    918.440897  4.142051e+04   \n",
              "min    7.500000e+04      1.000000      0.500000    290.000000  5.200000e+02   \n",
              "25%    3.219500e+05      3.000000      1.750000   1427.000000  5.040000e+03   \n",
              "50%    4.500000e+05      3.000000      2.250000   1910.000000  7.618000e+03   \n",
              "75%    6.450000e+05      4.000000      2.500000   2550.000000  1.068800e+04   \n",
              "max    7.700000e+06     33.000000      8.000000  13540.000000  1.651359e+06   \n",
              "\n",
              "             floors    waterfront          view     condition         grade  \\\n",
              "count  21613.000000  21613.000000  21613.000000  21613.000000  21613.000000   \n",
              "mean       1.494309      0.007542      0.234303      3.409430      7.656873   \n",
              "std        0.539989      0.086517      0.766318      0.650743      1.175459   \n",
              "min        1.000000      0.000000      0.000000      1.000000      1.000000   \n",
              "25%        1.000000      0.000000      0.000000      3.000000      7.000000   \n",
              "50%        1.500000      0.000000      0.000000      3.000000      7.000000   \n",
              "75%        2.000000      0.000000      0.000000      4.000000      8.000000   \n",
              "max        3.500000      1.000000      4.000000      5.000000     13.000000   \n",
              "\n",
              "         sqft_above  sqft_basement      yr_built  yr_renovated       zipcode  \\\n",
              "count  21613.000000   21613.000000  21613.000000  21613.000000  21613.000000   \n",
              "mean    1788.390691     291.509045   1971.005136     84.402258  98077.939805   \n",
              "std      828.090978     442.575043     29.373411    401.679240     53.505026   \n",
              "min      290.000000       0.000000   1900.000000      0.000000  98001.000000   \n",
              "25%     1190.000000       0.000000   1951.000000      0.000000  98033.000000   \n",
              "50%     1560.000000       0.000000   1975.000000      0.000000  98065.000000   \n",
              "75%     2210.000000     560.000000   1997.000000      0.000000  98118.000000   \n",
              "max     9410.000000    4820.000000   2015.000000   2015.000000  98199.000000   \n",
              "\n",
              "                lat          long  sqft_living15     sqft_lot15  \n",
              "count  21613.000000  21613.000000   21613.000000   21613.000000  \n",
              "mean      47.560053   -122.213896    1986.552492   12768.455652  \n",
              "std        0.138564      0.140828     685.391304   27304.179631  \n",
              "min       47.155900   -122.519000     399.000000     651.000000  \n",
              "25%       47.471000   -122.328000    1490.000000    5100.000000  \n",
              "50%       47.571800   -122.230000    1840.000000    7620.000000  \n",
              "75%       47.678000   -122.125000    2360.000000   10083.000000  \n",
              "max       47.777600   -121.315000    6210.000000  871200.000000  "
            ],
            "text/html": [
              "\n",
              "  <div id=\"df-eb28539e-25c7-4ece-8a04-9600ff220273\" class=\"colab-df-container\">\n",
              "    <div>\n",
              "<style scoped>\n",
              "    .dataframe tbody tr th:only-of-type {\n",
              "        vertical-align: middle;\n",
              "    }\n",
              "\n",
              "    .dataframe tbody tr th {\n",
              "        vertical-align: top;\n",
              "    }\n",
              "\n",
              "    .dataframe thead th {\n",
              "        text-align: right;\n",
              "    }\n",
              "</style>\n",
              "<table border=\"1\" class=\"dataframe\">\n",
              "  <thead>\n",
              "    <tr style=\"text-align: right;\">\n",
              "      <th></th>\n",
              "      <th>price</th>\n",
              "      <th>bedrooms</th>\n",
              "      <th>bathrooms</th>\n",
              "      <th>sqft_living</th>\n",
              "      <th>sqft_lot</th>\n",
              "      <th>floors</th>\n",
              "      <th>waterfront</th>\n",
              "      <th>view</th>\n",
              "      <th>condition</th>\n",
              "      <th>grade</th>\n",
              "      <th>sqft_above</th>\n",
              "      <th>sqft_basement</th>\n",
              "      <th>yr_built</th>\n",
              "      <th>yr_renovated</th>\n",
              "      <th>zipcode</th>\n",
              "      <th>lat</th>\n",
              "      <th>long</th>\n",
              "      <th>sqft_living15</th>\n",
              "      <th>sqft_lot15</th>\n",
              "    </tr>\n",
              "  </thead>\n",
              "  <tbody>\n",
              "    <tr>\n",
              "      <th>count</th>\n",
              "      <td>2.161300e+04</td>\n",
              "      <td>21600.000000</td>\n",
              "      <td>21603.000000</td>\n",
              "      <td>21613.000000</td>\n",
              "      <td>2.161300e+04</td>\n",
              "      <td>21613.000000</td>\n",
              "      <td>21613.000000</td>\n",
              "      <td>21613.000000</td>\n",
              "      <td>21613.000000</td>\n",
              "      <td>21613.000000</td>\n",
              "      <td>21613.000000</td>\n",
              "      <td>21613.000000</td>\n",
              "      <td>21613.000000</td>\n",
              "      <td>21613.000000</td>\n",
              "      <td>21613.000000</td>\n",
              "      <td>21613.000000</td>\n",
              "      <td>21613.000000</td>\n",
              "      <td>21613.000000</td>\n",
              "      <td>21613.000000</td>\n",
              "    </tr>\n",
              "    <tr>\n",
              "      <th>mean</th>\n",
              "      <td>5.400881e+05</td>\n",
              "      <td>3.372870</td>\n",
              "      <td>2.115736</td>\n",
              "      <td>2079.899736</td>\n",
              "      <td>1.510697e+04</td>\n",
              "      <td>1.494309</td>\n",
              "      <td>0.007542</td>\n",
              "      <td>0.234303</td>\n",
              "      <td>3.409430</td>\n",
              "      <td>7.656873</td>\n",
              "      <td>1788.390691</td>\n",
              "      <td>291.509045</td>\n",
              "      <td>1971.005136</td>\n",
              "      <td>84.402258</td>\n",
              "      <td>98077.939805</td>\n",
              "      <td>47.560053</td>\n",
              "      <td>-122.213896</td>\n",
              "      <td>1986.552492</td>\n",
              "      <td>12768.455652</td>\n",
              "    </tr>\n",
              "    <tr>\n",
              "      <th>std</th>\n",
              "      <td>3.671272e+05</td>\n",
              "      <td>0.926657</td>\n",
              "      <td>0.768996</td>\n",
              "      <td>918.440897</td>\n",
              "      <td>4.142051e+04</td>\n",
              "      <td>0.539989</td>\n",
              "      <td>0.086517</td>\n",
              "      <td>0.766318</td>\n",
              "      <td>0.650743</td>\n",
              "      <td>1.175459</td>\n",
              "      <td>828.090978</td>\n",
              "      <td>442.575043</td>\n",
              "      <td>29.373411</td>\n",
              "      <td>401.679240</td>\n",
              "      <td>53.505026</td>\n",
              "      <td>0.138564</td>\n",
              "      <td>0.140828</td>\n",
              "      <td>685.391304</td>\n",
              "      <td>27304.179631</td>\n",
              "    </tr>\n",
              "    <tr>\n",
              "      <th>min</th>\n",
              "      <td>7.500000e+04</td>\n",
              "      <td>1.000000</td>\n",
              "      <td>0.500000</td>\n",
              "      <td>290.000000</td>\n",
              "      <td>5.200000e+02</td>\n",
              "      <td>1.000000</td>\n",
              "      <td>0.000000</td>\n",
              "      <td>0.000000</td>\n",
              "      <td>1.000000</td>\n",
              "      <td>1.000000</td>\n",
              "      <td>290.000000</td>\n",
              "      <td>0.000000</td>\n",
              "      <td>1900.000000</td>\n",
              "      <td>0.000000</td>\n",
              "      <td>98001.000000</td>\n",
              "      <td>47.155900</td>\n",
              "      <td>-122.519000</td>\n",
              "      <td>399.000000</td>\n",
              "      <td>651.000000</td>\n",
              "    </tr>\n",
              "    <tr>\n",
              "      <th>25%</th>\n",
              "      <td>3.219500e+05</td>\n",
              "      <td>3.000000</td>\n",
              "      <td>1.750000</td>\n",
              "      <td>1427.000000</td>\n",
              "      <td>5.040000e+03</td>\n",
              "      <td>1.000000</td>\n",
              "      <td>0.000000</td>\n",
              "      <td>0.000000</td>\n",
              "      <td>3.000000</td>\n",
              "      <td>7.000000</td>\n",
              "      <td>1190.000000</td>\n",
              "      <td>0.000000</td>\n",
              "      <td>1951.000000</td>\n",
              "      <td>0.000000</td>\n",
              "      <td>98033.000000</td>\n",
              "      <td>47.471000</td>\n",
              "      <td>-122.328000</td>\n",
              "      <td>1490.000000</td>\n",
              "      <td>5100.000000</td>\n",
              "    </tr>\n",
              "    <tr>\n",
              "      <th>50%</th>\n",
              "      <td>4.500000e+05</td>\n",
              "      <td>3.000000</td>\n",
              "      <td>2.250000</td>\n",
              "      <td>1910.000000</td>\n",
              "      <td>7.618000e+03</td>\n",
              "      <td>1.500000</td>\n",
              "      <td>0.000000</td>\n",
              "      <td>0.000000</td>\n",
              "      <td>3.000000</td>\n",
              "      <td>7.000000</td>\n",
              "      <td>1560.000000</td>\n",
              "      <td>0.000000</td>\n",
              "      <td>1975.000000</td>\n",
              "      <td>0.000000</td>\n",
              "      <td>98065.000000</td>\n",
              "      <td>47.571800</td>\n",
              "      <td>-122.230000</td>\n",
              "      <td>1840.000000</td>\n",
              "      <td>7620.000000</td>\n",
              "    </tr>\n",
              "    <tr>\n",
              "      <th>75%</th>\n",
              "      <td>6.450000e+05</td>\n",
              "      <td>4.000000</td>\n",
              "      <td>2.500000</td>\n",
              "      <td>2550.000000</td>\n",
              "      <td>1.068800e+04</td>\n",
              "      <td>2.000000</td>\n",
              "      <td>0.000000</td>\n",
              "      <td>0.000000</td>\n",
              "      <td>4.000000</td>\n",
              "      <td>8.000000</td>\n",
              "      <td>2210.000000</td>\n",
              "      <td>560.000000</td>\n",
              "      <td>1997.000000</td>\n",
              "      <td>0.000000</td>\n",
              "      <td>98118.000000</td>\n",
              "      <td>47.678000</td>\n",
              "      <td>-122.125000</td>\n",
              "      <td>2360.000000</td>\n",
              "      <td>10083.000000</td>\n",
              "    </tr>\n",
              "    <tr>\n",
              "      <th>max</th>\n",
              "      <td>7.700000e+06</td>\n",
              "      <td>33.000000</td>\n",
              "      <td>8.000000</td>\n",
              "      <td>13540.000000</td>\n",
              "      <td>1.651359e+06</td>\n",
              "      <td>3.500000</td>\n",
              "      <td>1.000000</td>\n",
              "      <td>4.000000</td>\n",
              "      <td>5.000000</td>\n",
              "      <td>13.000000</td>\n",
              "      <td>9410.000000</td>\n",
              "      <td>4820.000000</td>\n",
              "      <td>2015.000000</td>\n",
              "      <td>2015.000000</td>\n",
              "      <td>98199.000000</td>\n",
              "      <td>47.777600</td>\n",
              "      <td>-121.315000</td>\n",
              "      <td>6210.000000</td>\n",
              "      <td>871200.000000</td>\n",
              "    </tr>\n",
              "  </tbody>\n",
              "</table>\n",
              "</div>\n",
              "    <div class=\"colab-df-buttons\">\n",
              "\n",
              "  <div class=\"colab-df-container\">\n",
              "    <button class=\"colab-df-convert\" onclick=\"convertToInteractive('df-eb28539e-25c7-4ece-8a04-9600ff220273')\"\n",
              "            title=\"Convert this dataframe to an interactive table.\"\n",
              "            style=\"display:none;\">\n",
              "\n",
              "  <svg xmlns=\"http://www.w3.org/2000/svg\" height=\"24px\" viewBox=\"0 -960 960 960\">\n",
              "    <path d=\"M120-120v-720h720v720H120Zm60-500h600v-160H180v160Zm220 220h160v-160H400v160Zm0 220h160v-160H400v160ZM180-400h160v-160H180v160Zm440 0h160v-160H620v160ZM180-180h160v-160H180v160Zm440 0h160v-160H620v160Z\"/>\n",
              "  </svg>\n",
              "    </button>\n",
              "\n",
              "  <style>\n",
              "    .colab-df-container {\n",
              "      display:flex;\n",
              "      gap: 12px;\n",
              "    }\n",
              "\n",
              "    .colab-df-convert {\n",
              "      background-color: #E8F0FE;\n",
              "      border: none;\n",
              "      border-radius: 50%;\n",
              "      cursor: pointer;\n",
              "      display: none;\n",
              "      fill: #1967D2;\n",
              "      height: 32px;\n",
              "      padding: 0 0 0 0;\n",
              "      width: 32px;\n",
              "    }\n",
              "\n",
              "    .colab-df-convert:hover {\n",
              "      background-color: #E2EBFA;\n",
              "      box-shadow: 0px 1px 2px rgba(60, 64, 67, 0.3), 0px 1px 3px 1px rgba(60, 64, 67, 0.15);\n",
              "      fill: #174EA6;\n",
              "    }\n",
              "\n",
              "    .colab-df-buttons div {\n",
              "      margin-bottom: 4px;\n",
              "    }\n",
              "\n",
              "    [theme=dark] .colab-df-convert {\n",
              "      background-color: #3B4455;\n",
              "      fill: #D2E3FC;\n",
              "    }\n",
              "\n",
              "    [theme=dark] .colab-df-convert:hover {\n",
              "      background-color: #434B5C;\n",
              "      box-shadow: 0px 1px 3px 1px rgba(0, 0, 0, 0.15);\n",
              "      filter: drop-shadow(0px 1px 2px rgba(0, 0, 0, 0.3));\n",
              "      fill: #FFFFFF;\n",
              "    }\n",
              "  </style>\n",
              "\n",
              "    <script>\n",
              "      const buttonEl =\n",
              "        document.querySelector('#df-eb28539e-25c7-4ece-8a04-9600ff220273 button.colab-df-convert');\n",
              "      buttonEl.style.display =\n",
              "        google.colab.kernel.accessAllowed ? 'block' : 'none';\n",
              "\n",
              "      async function convertToInteractive(key) {\n",
              "        const element = document.querySelector('#df-eb28539e-25c7-4ece-8a04-9600ff220273');\n",
              "        const dataTable =\n",
              "          await google.colab.kernel.invokeFunction('convertToInteractive',\n",
              "                                                    [key], {});\n",
              "        if (!dataTable) return;\n",
              "\n",
              "        const docLinkHtml = 'Like what you see? Visit the ' +\n",
              "          '<a target=\"_blank\" href=https://colab.research.google.com/notebooks/data_table.ipynb>data table notebook</a>'\n",
              "          + ' to learn more about interactive tables.';\n",
              "        element.innerHTML = '';\n",
              "        dataTable['output_type'] = 'display_data';\n",
              "        await google.colab.output.renderOutput(dataTable, element);\n",
              "        const docLink = document.createElement('div');\n",
              "        docLink.innerHTML = docLinkHtml;\n",
              "        element.appendChild(docLink);\n",
              "      }\n",
              "    </script>\n",
              "  </div>\n",
              "\n",
              "\n",
              "<div id=\"df-6789ae62-f603-4ee9-b0e4-f38924fbd20f\">\n",
              "  <button class=\"colab-df-quickchart\" onclick=\"quickchart('df-6789ae62-f603-4ee9-b0e4-f38924fbd20f')\"\n",
              "            title=\"Suggest charts\"\n",
              "            style=\"display:none;\">\n",
              "\n",
              "<svg xmlns=\"http://www.w3.org/2000/svg\" height=\"24px\"viewBox=\"0 0 24 24\"\n",
              "     width=\"24px\">\n",
              "    <g>\n",
              "        <path d=\"M19 3H5c-1.1 0-2 .9-2 2v14c0 1.1.9 2 2 2h14c1.1 0 2-.9 2-2V5c0-1.1-.9-2-2-2zM9 17H7v-7h2v7zm4 0h-2V7h2v10zm4 0h-2v-4h2v4z\"/>\n",
              "    </g>\n",
              "</svg>\n",
              "  </button>\n",
              "\n",
              "<style>\n",
              "  .colab-df-quickchart {\n",
              "      --bg-color: #E8F0FE;\n",
              "      --fill-color: #1967D2;\n",
              "      --hover-bg-color: #E2EBFA;\n",
              "      --hover-fill-color: #174EA6;\n",
              "      --disabled-fill-color: #AAA;\n",
              "      --disabled-bg-color: #DDD;\n",
              "  }\n",
              "\n",
              "  [theme=dark] .colab-df-quickchart {\n",
              "      --bg-color: #3B4455;\n",
              "      --fill-color: #D2E3FC;\n",
              "      --hover-bg-color: #434B5C;\n",
              "      --hover-fill-color: #FFFFFF;\n",
              "      --disabled-bg-color: #3B4455;\n",
              "      --disabled-fill-color: #666;\n",
              "  }\n",
              "\n",
              "  .colab-df-quickchart {\n",
              "    background-color: var(--bg-color);\n",
              "    border: none;\n",
              "    border-radius: 50%;\n",
              "    cursor: pointer;\n",
              "    display: none;\n",
              "    fill: var(--fill-color);\n",
              "    height: 32px;\n",
              "    padding: 0;\n",
              "    width: 32px;\n",
              "  }\n",
              "\n",
              "  .colab-df-quickchart:hover {\n",
              "    background-color: var(--hover-bg-color);\n",
              "    box-shadow: 0 1px 2px rgba(60, 64, 67, 0.3), 0 1px 3px 1px rgba(60, 64, 67, 0.15);\n",
              "    fill: var(--button-hover-fill-color);\n",
              "  }\n",
              "\n",
              "  .colab-df-quickchart-complete:disabled,\n",
              "  .colab-df-quickchart-complete:disabled:hover {\n",
              "    background-color: var(--disabled-bg-color);\n",
              "    fill: var(--disabled-fill-color);\n",
              "    box-shadow: none;\n",
              "  }\n",
              "\n",
              "  .colab-df-spinner {\n",
              "    border: 2px solid var(--fill-color);\n",
              "    border-color: transparent;\n",
              "    border-bottom-color: var(--fill-color);\n",
              "    animation:\n",
              "      spin 1s steps(1) infinite;\n",
              "  }\n",
              "\n",
              "  @keyframes spin {\n",
              "    0% {\n",
              "      border-color: transparent;\n",
              "      border-bottom-color: var(--fill-color);\n",
              "      border-left-color: var(--fill-color);\n",
              "    }\n",
              "    20% {\n",
              "      border-color: transparent;\n",
              "      border-left-color: var(--fill-color);\n",
              "      border-top-color: var(--fill-color);\n",
              "    }\n",
              "    30% {\n",
              "      border-color: transparent;\n",
              "      border-left-color: var(--fill-color);\n",
              "      border-top-color: var(--fill-color);\n",
              "      border-right-color: var(--fill-color);\n",
              "    }\n",
              "    40% {\n",
              "      border-color: transparent;\n",
              "      border-right-color: var(--fill-color);\n",
              "      border-top-color: var(--fill-color);\n",
              "    }\n",
              "    60% {\n",
              "      border-color: transparent;\n",
              "      border-right-color: var(--fill-color);\n",
              "    }\n",
              "    80% {\n",
              "      border-color: transparent;\n",
              "      border-right-color: var(--fill-color);\n",
              "      border-bottom-color: var(--fill-color);\n",
              "    }\n",
              "    90% {\n",
              "      border-color: transparent;\n",
              "      border-bottom-color: var(--fill-color);\n",
              "    }\n",
              "  }\n",
              "</style>\n",
              "\n",
              "  <script>\n",
              "    async function quickchart(key) {\n",
              "      const quickchartButtonEl =\n",
              "        document.querySelector('#' + key + ' button');\n",
              "      quickchartButtonEl.disabled = true;  // To prevent multiple clicks.\n",
              "      quickchartButtonEl.classList.add('colab-df-spinner');\n",
              "      try {\n",
              "        const charts = await google.colab.kernel.invokeFunction(\n",
              "            'suggestCharts', [key], {});\n",
              "      } catch (error) {\n",
              "        console.error('Error during call to suggestCharts:', error);\n",
              "      }\n",
              "      quickchartButtonEl.classList.remove('colab-df-spinner');\n",
              "      quickchartButtonEl.classList.add('colab-df-quickchart-complete');\n",
              "    }\n",
              "    (() => {\n",
              "      let quickchartButtonEl =\n",
              "        document.querySelector('#df-6789ae62-f603-4ee9-b0e4-f38924fbd20f button');\n",
              "      quickchartButtonEl.style.display =\n",
              "        google.colab.kernel.accessAllowed ? 'block' : 'none';\n",
              "    })();\n",
              "  </script>\n",
              "</div>\n",
              "\n",
              "    </div>\n",
              "  </div>\n"
            ],
            "application/vnd.google.colaboratory.intrinsic+json": {
              "type": "dataframe",
              "summary": "{\n  \"name\": \"df\",\n  \"rows\": 8,\n  \"fields\": [\n    {\n      \"column\": \"price\",\n      \"properties\": {\n        \"dtype\": \"number\",\n        \"std\": 2608803.1528446754,\n        \"min\": 21613.0,\n        \"max\": 7700000.0,\n        \"num_unique_values\": 8,\n        \"samples\": [\n          540088.1417665294,\n          450000.0,\n          21613.0\n        ],\n        \"semantic_type\": \"\",\n        \"description\": \"\"\n      }\n    },\n    {\n      \"column\": \"bedrooms\",\n      \"properties\": {\n        \"dtype\": \"number\",\n        \"std\": 7634.321255107158,\n        \"min\": 0.9266566928336006,\n        \"max\": 21600.0,\n        \"num_unique_values\": 7,\n        \"samples\": [\n          21600.0,\n          3.37287037037037,\n          4.0\n        ],\n        \"semantic_type\": \"\",\n        \"description\": \"\"\n      }\n    },\n    {\n      \"column\": \"bathrooms\",\n      \"properties\": {\n        \"dtype\": \"number\",\n        \"std\": 7636.910937001178,\n        \"min\": 0.5,\n        \"max\": 21603.0,\n        \"num_unique_values\": 8,\n        \"samples\": [\n          2.1157362403369904,\n          2.25,\n          21603.0\n        ],\n        \"semantic_type\": \"\",\n        \"description\": \"\"\n      }\n    },\n    {\n      \"column\": \"sqft_living\",\n      \"properties\": {\n        \"dtype\": \"number\",\n        \"std\": 7766.85900551995,\n        \"min\": 290.0,\n        \"max\": 21613.0,\n        \"num_unique_values\": 8,\n        \"samples\": [\n          2079.8997362698374,\n          1910.0,\n          21613.0\n        ],\n        \"semantic_type\": \"\",\n        \"description\": \"\"\n      }\n    },\n    {\n      \"column\": \"sqft_lot\",\n      \"properties\": {\n        \"dtype\": \"number\",\n        \"std\": 578829.9990074945,\n        \"min\": 520.0,\n        \"max\": 1651359.0,\n        \"num_unique_values\": 8,\n        \"samples\": [\n          15106.967565816869,\n          7618.0,\n          21613.0\n        ],\n        \"semantic_type\": \"\",\n        \"description\": \"\"\n      }\n    },\n    {\n      \"column\": \"floors\",\n      \"properties\": {\n        \"dtype\": \"number\",\n        \"std\": 7640.792167327785,\n        \"min\": 0.5399888951423463,\n        \"max\": 21613.0,\n        \"num_unique_values\": 7,\n        \"samples\": [\n          21613.0,\n          1.4943089807060566,\n          2.0\n        ],\n        \"semantic_type\": \"\",\n        \"description\": \"\"\n      }\n    },\n    {\n      \"column\": \"waterfront\",\n      \"properties\": {\n        \"dtype\": \"number\",\n        \"std\": 7641.294180390358,\n        \"min\": 0.0,\n        \"max\": 21613.0,\n        \"num_unique_values\": 5,\n        \"samples\": [\n          0.007541757275713691,\n          1.0,\n          0.08651719772788764\n        ],\n        \"semantic_type\": \"\",\n        \"description\": \"\"\n      }\n    },\n    {\n      \"column\": \"view\",\n      \"properties\": {\n        \"dtype\": \"number\",\n        \"std\": 7641.096983567199,\n        \"min\": 0.0,\n        \"max\": 21613.0,\n        \"num_unique_values\": 5,\n        \"samples\": [\n          0.23430342849211122,\n          4.0,\n          0.7663175692736122\n        ],\n        \"semantic_type\": \"\",\n        \"description\": \"\"\n      }\n    },\n    {\n      \"column\": \"condition\",\n      \"properties\": {\n        \"dtype\": \"number\",\n        \"std\": 7640.336375298775,\n        \"min\": 0.6507430463662071,\n        \"max\": 21613.0,\n        \"num_unique_values\": 7,\n        \"samples\": [\n          21613.0,\n          3.4094295100171195,\n          4.0\n        ],\n        \"semantic_type\": \"\",\n        \"description\": \"\"\n      }\n    },\n    {\n      \"column\": \"grade\",\n      \"properties\": {\n        \"dtype\": \"number\",\n        \"std\": 7639.08603681126,\n        \"min\": 1.0,\n        \"max\": 21613.0,\n        \"num_unique_values\": 7,\n        \"samples\": [\n          21613.0,\n          7.656873178179799,\n          8.0\n        ],\n        \"semantic_type\": \"\",\n        \"description\": \"\"\n      }\n    },\n    {\n      \"column\": \"sqft_above\",\n      \"properties\": {\n        \"dtype\": \"number\",\n        \"std\": 7361.316573579324,\n        \"min\": 290.0,\n        \"max\": 21613.0,\n        \"num_unique_values\": 8,\n        \"samples\": [\n          1788.3906907879516,\n          1560.0,\n          21613.0\n        ],\n        \"semantic_type\": \"\",\n        \"description\": \"\"\n      }\n    },\n    {\n      \"column\": \"sqft_basement\",\n      \"properties\": {\n        \"dtype\": \"number\",\n        \"std\": 7510.466222812158,\n        \"min\": 0.0,\n        \"max\": 21613.0,\n        \"num_unique_values\": 6,\n        \"samples\": [\n          21613.0,\n          291.5090454818859,\n          4820.0\n        ],\n        \"semantic_type\": \"\",\n        \"description\": \"\"\n      }\n    },\n    {\n      \"column\": \"yr_built\",\n      \"properties\": {\n        \"dtype\": \"number\",\n        \"std\": 7076.1007443477365,\n        \"min\": 29.37341080238659,\n        \"max\": 21613.0,\n        \"num_unique_values\": 8,\n        \"samples\": [\n          1971.0051357978994,\n          1975.0,\n          21613.0\n        ],\n        \"semantic_type\": \"\",\n        \"description\": \"\"\n      }\n    },\n    {\n      \"column\": \"yr_renovated\",\n      \"properties\": {\n        \"dtype\": \"number\",\n        \"std\": 7546.658183233566,\n        \"min\": 0.0,\n        \"max\": 21613.0,\n        \"num_unique_values\": 5,\n        \"samples\": [\n          84.40225790033776,\n          2015.0,\n          401.6792400191759\n        ],\n        \"semantic_type\": \"\",\n        \"description\": \"\"\n      }\n    },\n    {\n      \"column\": \"zipcode\",\n      \"properties\": {\n        \"dtype\": \"number\",\n        \"std\": 40797.46261995304,\n        \"min\": 53.505026257473084,\n        \"max\": 98199.0,\n        \"num_unique_values\": 8,\n        \"samples\": [\n          98077.93980474715,\n          98065.0,\n          21613.0\n        ],\n        \"semantic_type\": \"\",\n        \"description\": \"\"\n      }\n    },\n    {\n      \"column\": \"lat\",\n      \"properties\": {\n        \"dtype\": \"number\",\n        \"std\": 7626.954967781561,\n        \"min\": 0.13856371024192418,\n        \"max\": 21613.0,\n        \"num_unique_values\": 8,\n        \"samples\": [\n          47.56005251931708,\n          47.5718,\n          21613.0\n        ],\n        \"semantic_type\": \"\",\n        \"description\": \"\"\n      }\n    },\n    {\n      \"column\": \"long\",\n      \"properties\": {\n        \"dtype\": \"number\",\n        \"std\": 7678.470015507025,\n        \"min\": -122.519,\n        \"max\": 21613.0,\n        \"num_unique_values\": 8,\n        \"samples\": [\n          -122.21389640494147,\n          -122.23,\n          21613.0\n        ],\n        \"semantic_type\": \"\",\n        \"description\": \"\"\n      }\n    },\n    {\n      \"column\": \"sqft_living15\",\n      \"properties\": {\n        \"dtype\": \"number\",\n        \"std\": 7112.749157923504,\n        \"min\": 399.0,\n        \"max\": 21613.0,\n        \"num_unique_values\": 8,\n        \"samples\": [\n          1986.552491556008,\n          1840.0,\n          21613.0\n        ],\n        \"semantic_type\": \"\",\n        \"description\": \"\"\n      }\n    },\n    {\n      \"column\": \"sqft_lot15\",\n      \"properties\": {\n        \"dtype\": \"number\",\n        \"std\": 303839.26467140246,\n        \"min\": 651.0,\n        \"max\": 871200.0,\n        \"num_unique_values\": 8,\n        \"samples\": [\n          12768.455651691113,\n          7620.0,\n          21613.0\n        ],\n        \"semantic_type\": \"\",\n        \"description\": \"\"\n      }\n    }\n  ]\n}"
            }
          },
          "metadata": {},
          "execution_count": 25
        }
      ],
      "source": [
        "#Enter Your Code, Execute and take the Screenshot\n",
        "df.drop('id', axis = 1, inplace = True)\n",
        "df.drop('Unnamed: 0', axis = 1, inplace = True)\n",
        "df.describe()"
      ]
    },
    {
      "cell_type": "markdown",
      "metadata": {
        "id": "3b6423b6-3021-4f6d-86ab-982f5e01495c"
      },
      "source": [
        "We can see we have missing values for the columns <code> bedrooms</code>  and <code> bathrooms </code>\n"
      ]
    },
    {
      "cell_type": "code",
      "execution_count": null,
      "metadata": {
        "colab": {
          "base_uri": "https://localhost:8080/"
        },
        "id": "1065b084-4950-463d-80ab-c7f24ac7269d",
        "outputId": "aec6d5d7-cf57-4648-9d47-f6e739d95a89"
      },
      "outputs": [
        {
          "output_type": "stream",
          "name": "stdout",
          "text": [
            "number of NaN values for the column bedrooms : 13\n",
            "number of NaN values for the column bathrooms : 10\n"
          ]
        }
      ],
      "source": [
        "print(\"number of NaN values for the column bedrooms :\", df['bedrooms'].isnull().sum())\n",
        "print(\"number of NaN values for the column bathrooms :\", df['bathrooms'].isnull().sum())\n"
      ]
    },
    {
      "cell_type": "markdown",
      "metadata": {
        "id": "c3e98817-f142-4838-b723-13fcfb568eef"
      },
      "source": [
        "We can replace the missing values of the column <code>'bedrooms'</code> with the mean of the column  <code>'bedrooms' </code> using the method <code>replace()</code>. Don't forget to set the <code>inplace</code> parameter to <code>True</code>\n"
      ]
    },
    {
      "cell_type": "code",
      "execution_count": null,
      "metadata": {
        "id": "118b7897-dac9-4333-b518-9601fd22538a"
      },
      "outputs": [],
      "source": [
        "mean=df['bedrooms'].mean()\n",
        "df['bedrooms'].replace(np.nan,mean, inplace=True)"
      ]
    },
    {
      "cell_type": "markdown",
      "metadata": {
        "id": "f40d2d6f-6075-40cb-93e6-4867338aa0c9"
      },
      "source": [
        "We also replace the missing values of the column <code>'bathrooms'</code> with the mean of the column  <code>'bathrooms' </code> using the method <code>replace()</code>. Don't forget to set the <code> inplace </code>  parameter top <code> True </code>\n"
      ]
    },
    {
      "cell_type": "code",
      "execution_count": null,
      "metadata": {
        "id": "ae1987ad-9395-41c6-a3f8-1f05be21bd54"
      },
      "outputs": [],
      "source": [
        "mean=df['bathrooms'].mean()\n",
        "df['bathrooms'].replace(np.nan,mean, inplace=True)"
      ]
    },
    {
      "cell_type": "code",
      "execution_count": null,
      "metadata": {
        "colab": {
          "base_uri": "https://localhost:8080/"
        },
        "id": "ab4a7554-9c91-4162-86d2-caa61909918e",
        "outputId": "0910d2ca-64a3-4066-9da7-b502618e8b02"
      },
      "outputs": [
        {
          "output_type": "stream",
          "name": "stdout",
          "text": [
            "number of NaN values for the column bedrooms : 0\n",
            "number of NaN values for the column bathrooms : 0\n"
          ]
        }
      ],
      "source": [
        "print(\"number of NaN values for the column bedrooms :\", df['bedrooms'].isnull().sum())\n",
        "print(\"number of NaN values for the column bathrooms :\", df['bathrooms'].isnull().sum())"
      ]
    },
    {
      "cell_type": "markdown",
      "metadata": {
        "id": "897e4877-22a2-4cf7-8498-bf0542ca0597"
      },
      "source": [
        "# Module 3: Exploratory Data Analysis\n"
      ]
    },
    {
      "cell_type": "markdown",
      "metadata": {
        "id": "0c077feb-3892-43f8-9129-87e8dd5f3741"
      },
      "source": [
        "### Question 3\n",
        "\n",
        "Use the method <code>value_counts</code> to count the number of houses with unique floor values, use the method <code>.to_frame()</code> to convert it to a data frame. Take a screenshot of your code and output. You will need to submit the screenshot for the final project.\n"
      ]
    },
    {
      "cell_type": "code",
      "execution_count": null,
      "metadata": {
        "colab": {
          "base_uri": "https://localhost:8080/",
          "height": 623
        },
        "id": "ebd7c809-1028-49a6-9f5b-085e064665d2",
        "outputId": "fdb7a7ea-e125-446c-993a-746d8808237e"
      },
      "outputs": [
        {
          "output_type": "execute_result",
          "data": {
            "text/plain": [
              "        count\n",
              "floors       \n",
              "1.0     10680\n",
              "2.0      8241\n",
              "1.5      1910\n",
              "3.0       613\n",
              "2.5       161\n",
              "3.5         8"
            ],
            "text/html": [
              "\n",
              "  <div id=\"df-12c758d6-a966-4937-86e9-79f0959db48d\" class=\"colab-df-container\">\n",
              "    <div>\n",
              "<style scoped>\n",
              "    .dataframe tbody tr th:only-of-type {\n",
              "        vertical-align: middle;\n",
              "    }\n",
              "\n",
              "    .dataframe tbody tr th {\n",
              "        vertical-align: top;\n",
              "    }\n",
              "\n",
              "    .dataframe thead th {\n",
              "        text-align: right;\n",
              "    }\n",
              "</style>\n",
              "<table border=\"1\" class=\"dataframe\">\n",
              "  <thead>\n",
              "    <tr style=\"text-align: right;\">\n",
              "      <th></th>\n",
              "      <th>count</th>\n",
              "    </tr>\n",
              "    <tr>\n",
              "      <th>floors</th>\n",
              "      <th></th>\n",
              "    </tr>\n",
              "  </thead>\n",
              "  <tbody>\n",
              "    <tr>\n",
              "      <th>1.0</th>\n",
              "      <td>10680</td>\n",
              "    </tr>\n",
              "    <tr>\n",
              "      <th>2.0</th>\n",
              "      <td>8241</td>\n",
              "    </tr>\n",
              "    <tr>\n",
              "      <th>1.5</th>\n",
              "      <td>1910</td>\n",
              "    </tr>\n",
              "    <tr>\n",
              "      <th>3.0</th>\n",
              "      <td>613</td>\n",
              "    </tr>\n",
              "    <tr>\n",
              "      <th>2.5</th>\n",
              "      <td>161</td>\n",
              "    </tr>\n",
              "    <tr>\n",
              "      <th>3.5</th>\n",
              "      <td>8</td>\n",
              "    </tr>\n",
              "  </tbody>\n",
              "</table>\n",
              "</div>\n",
              "    <div class=\"colab-df-buttons\">\n",
              "\n",
              "  <div class=\"colab-df-container\">\n",
              "    <button class=\"colab-df-convert\" onclick=\"convertToInteractive('df-12c758d6-a966-4937-86e9-79f0959db48d')\"\n",
              "            title=\"Convert this dataframe to an interactive table.\"\n",
              "            style=\"display:none;\">\n",
              "\n",
              "  <svg xmlns=\"http://www.w3.org/2000/svg\" height=\"24px\" viewBox=\"0 -960 960 960\">\n",
              "    <path d=\"M120-120v-720h720v720H120Zm60-500h600v-160H180v160Zm220 220h160v-160H400v160Zm0 220h160v-160H400v160ZM180-400h160v-160H180v160Zm440 0h160v-160H620v160ZM180-180h160v-160H180v160Zm440 0h160v-160H620v160Z\"/>\n",
              "  </svg>\n",
              "    </button>\n",
              "\n",
              "  <style>\n",
              "    .colab-df-container {\n",
              "      display:flex;\n",
              "      gap: 12px;\n",
              "    }\n",
              "\n",
              "    .colab-df-convert {\n",
              "      background-color: #E8F0FE;\n",
              "      border: none;\n",
              "      border-radius: 50%;\n",
              "      cursor: pointer;\n",
              "      display: none;\n",
              "      fill: #1967D2;\n",
              "      height: 32px;\n",
              "      padding: 0 0 0 0;\n",
              "      width: 32px;\n",
              "    }\n",
              "\n",
              "    .colab-df-convert:hover {\n",
              "      background-color: #E2EBFA;\n",
              "      box-shadow: 0px 1px 2px rgba(60, 64, 67, 0.3), 0px 1px 3px 1px rgba(60, 64, 67, 0.15);\n",
              "      fill: #174EA6;\n",
              "    }\n",
              "\n",
              "    .colab-df-buttons div {\n",
              "      margin-bottom: 4px;\n",
              "    }\n",
              "\n",
              "    [theme=dark] .colab-df-convert {\n",
              "      background-color: #3B4455;\n",
              "      fill: #D2E3FC;\n",
              "    }\n",
              "\n",
              "    [theme=dark] .colab-df-convert:hover {\n",
              "      background-color: #434B5C;\n",
              "      box-shadow: 0px 1px 3px 1px rgba(0, 0, 0, 0.15);\n",
              "      filter: drop-shadow(0px 1px 2px rgba(0, 0, 0, 0.3));\n",
              "      fill: #FFFFFF;\n",
              "    }\n",
              "  </style>\n",
              "\n",
              "    <script>\n",
              "      const buttonEl =\n",
              "        document.querySelector('#df-12c758d6-a966-4937-86e9-79f0959db48d button.colab-df-convert');\n",
              "      buttonEl.style.display =\n",
              "        google.colab.kernel.accessAllowed ? 'block' : 'none';\n",
              "\n",
              "      async function convertToInteractive(key) {\n",
              "        const element = document.querySelector('#df-12c758d6-a966-4937-86e9-79f0959db48d');\n",
              "        const dataTable =\n",
              "          await google.colab.kernel.invokeFunction('convertToInteractive',\n",
              "                                                    [key], {});\n",
              "        if (!dataTable) return;\n",
              "\n",
              "        const docLinkHtml = 'Like what you see? Visit the ' +\n",
              "          '<a target=\"_blank\" href=https://colab.research.google.com/notebooks/data_table.ipynb>data table notebook</a>'\n",
              "          + ' to learn more about interactive tables.';\n",
              "        element.innerHTML = '';\n",
              "        dataTable['output_type'] = 'display_data';\n",
              "        await google.colab.output.renderOutput(dataTable, element);\n",
              "        const docLink = document.createElement('div');\n",
              "        docLink.innerHTML = docLinkHtml;\n",
              "        element.appendChild(docLink);\n",
              "      }\n",
              "    </script>\n",
              "  </div>\n",
              "\n",
              "\n",
              "<div id=\"df-768fae35-dc45-4949-bef2-79293954273f\">\n",
              "  <button class=\"colab-df-quickchart\" onclick=\"quickchart('df-768fae35-dc45-4949-bef2-79293954273f')\"\n",
              "            title=\"Suggest charts\"\n",
              "            style=\"display:none;\">\n",
              "\n",
              "<svg xmlns=\"http://www.w3.org/2000/svg\" height=\"24px\"viewBox=\"0 0 24 24\"\n",
              "     width=\"24px\">\n",
              "    <g>\n",
              "        <path d=\"M19 3H5c-1.1 0-2 .9-2 2v14c0 1.1.9 2 2 2h14c1.1 0 2-.9 2-2V5c0-1.1-.9-2-2-2zM9 17H7v-7h2v7zm4 0h-2V7h2v10zm4 0h-2v-4h2v4z\"/>\n",
              "    </g>\n",
              "</svg>\n",
              "  </button>\n",
              "\n",
              "<style>\n",
              "  .colab-df-quickchart {\n",
              "      --bg-color: #E8F0FE;\n",
              "      --fill-color: #1967D2;\n",
              "      --hover-bg-color: #E2EBFA;\n",
              "      --hover-fill-color: #174EA6;\n",
              "      --disabled-fill-color: #AAA;\n",
              "      --disabled-bg-color: #DDD;\n",
              "  }\n",
              "\n",
              "  [theme=dark] .colab-df-quickchart {\n",
              "      --bg-color: #3B4455;\n",
              "      --fill-color: #D2E3FC;\n",
              "      --hover-bg-color: #434B5C;\n",
              "      --hover-fill-color: #FFFFFF;\n",
              "      --disabled-bg-color: #3B4455;\n",
              "      --disabled-fill-color: #666;\n",
              "  }\n",
              "\n",
              "  .colab-df-quickchart {\n",
              "    background-color: var(--bg-color);\n",
              "    border: none;\n",
              "    border-radius: 50%;\n",
              "    cursor: pointer;\n",
              "    display: none;\n",
              "    fill: var(--fill-color);\n",
              "    height: 32px;\n",
              "    padding: 0;\n",
              "    width: 32px;\n",
              "  }\n",
              "\n",
              "  .colab-df-quickchart:hover {\n",
              "    background-color: var(--hover-bg-color);\n",
              "    box-shadow: 0 1px 2px rgba(60, 64, 67, 0.3), 0 1px 3px 1px rgba(60, 64, 67, 0.15);\n",
              "    fill: var(--button-hover-fill-color);\n",
              "  }\n",
              "\n",
              "  .colab-df-quickchart-complete:disabled,\n",
              "  .colab-df-quickchart-complete:disabled:hover {\n",
              "    background-color: var(--disabled-bg-color);\n",
              "    fill: var(--disabled-fill-color);\n",
              "    box-shadow: none;\n",
              "  }\n",
              "\n",
              "  .colab-df-spinner {\n",
              "    border: 2px solid var(--fill-color);\n",
              "    border-color: transparent;\n",
              "    border-bottom-color: var(--fill-color);\n",
              "    animation:\n",
              "      spin 1s steps(1) infinite;\n",
              "  }\n",
              "\n",
              "  @keyframes spin {\n",
              "    0% {\n",
              "      border-color: transparent;\n",
              "      border-bottom-color: var(--fill-color);\n",
              "      border-left-color: var(--fill-color);\n",
              "    }\n",
              "    20% {\n",
              "      border-color: transparent;\n",
              "      border-left-color: var(--fill-color);\n",
              "      border-top-color: var(--fill-color);\n",
              "    }\n",
              "    30% {\n",
              "      border-color: transparent;\n",
              "      border-left-color: var(--fill-color);\n",
              "      border-top-color: var(--fill-color);\n",
              "      border-right-color: var(--fill-color);\n",
              "    }\n",
              "    40% {\n",
              "      border-color: transparent;\n",
              "      border-right-color: var(--fill-color);\n",
              "      border-top-color: var(--fill-color);\n",
              "    }\n",
              "    60% {\n",
              "      border-color: transparent;\n",
              "      border-right-color: var(--fill-color);\n",
              "    }\n",
              "    80% {\n",
              "      border-color: transparent;\n",
              "      border-right-color: var(--fill-color);\n",
              "      border-bottom-color: var(--fill-color);\n",
              "    }\n",
              "    90% {\n",
              "      border-color: transparent;\n",
              "      border-bottom-color: var(--fill-color);\n",
              "    }\n",
              "  }\n",
              "</style>\n",
              "\n",
              "  <script>\n",
              "    async function quickchart(key) {\n",
              "      const quickchartButtonEl =\n",
              "        document.querySelector('#' + key + ' button');\n",
              "      quickchartButtonEl.disabled = true;  // To prevent multiple clicks.\n",
              "      quickchartButtonEl.classList.add('colab-df-spinner');\n",
              "      try {\n",
              "        const charts = await google.colab.kernel.invokeFunction(\n",
              "            'suggestCharts', [key], {});\n",
              "      } catch (error) {\n",
              "        console.error('Error during call to suggestCharts:', error);\n",
              "      }\n",
              "      quickchartButtonEl.classList.remove('colab-df-spinner');\n",
              "      quickchartButtonEl.classList.add('colab-df-quickchart-complete');\n",
              "    }\n",
              "    (() => {\n",
              "      let quickchartButtonEl =\n",
              "        document.querySelector('#df-768fae35-dc45-4949-bef2-79293954273f button');\n",
              "      quickchartButtonEl.style.display =\n",
              "        google.colab.kernel.accessAllowed ? 'block' : 'none';\n",
              "    })();\n",
              "  </script>\n",
              "</div>\n",
              "\n",
              "  <div id=\"id_50e7565d-bdcc-429b-b842-99f3369877ee\">\n",
              "    <style>\n",
              "      .colab-df-generate {\n",
              "        background-color: #E8F0FE;\n",
              "        border: none;\n",
              "        border-radius: 50%;\n",
              "        cursor: pointer;\n",
              "        display: none;\n",
              "        fill: #1967D2;\n",
              "        height: 32px;\n",
              "        padding: 0 0 0 0;\n",
              "        width: 32px;\n",
              "      }\n",
              "\n",
              "      .colab-df-generate:hover {\n",
              "        background-color: #E2EBFA;\n",
              "        box-shadow: 0px 1px 2px rgba(60, 64, 67, 0.3), 0px 1px 3px 1px rgba(60, 64, 67, 0.15);\n",
              "        fill: #174EA6;\n",
              "      }\n",
              "\n",
              "      [theme=dark] .colab-df-generate {\n",
              "        background-color: #3B4455;\n",
              "        fill: #D2E3FC;\n",
              "      }\n",
              "\n",
              "      [theme=dark] .colab-df-generate:hover {\n",
              "        background-color: #434B5C;\n",
              "        box-shadow: 0px 1px 3px 1px rgba(0, 0, 0, 0.15);\n",
              "        filter: drop-shadow(0px 1px 2px rgba(0, 0, 0, 0.3));\n",
              "        fill: #FFFFFF;\n",
              "      }\n",
              "    </style>\n",
              "    <button class=\"colab-df-generate\" onclick=\"generateWithVariable('y')\"\n",
              "            title=\"Generate code using this dataframe.\"\n",
              "            style=\"display:none;\">\n",
              "\n",
              "  <svg xmlns=\"http://www.w3.org/2000/svg\" height=\"24px\"viewBox=\"0 0 24 24\"\n",
              "       width=\"24px\">\n",
              "    <path d=\"M7,19H8.4L18.45,9,17,7.55,7,17.6ZM5,21V16.75L18.45,3.32a2,2,0,0,1,2.83,0l1.4,1.43a1.91,1.91,0,0,1,.58,1.4,1.91,1.91,0,0,1-.58,1.4L9.25,21ZM18.45,9,17,7.55Zm-12,3A5.31,5.31,0,0,0,4.9,8.1,5.31,5.31,0,0,0,1,6.5,5.31,5.31,0,0,0,4.9,4.9,5.31,5.31,0,0,0,6.5,1,5.31,5.31,0,0,0,8.1,4.9,5.31,5.31,0,0,0,12,6.5,5.46,5.46,0,0,0,6.5,12Z\"/>\n",
              "  </svg>\n",
              "    </button>\n",
              "    <script>\n",
              "      (() => {\n",
              "      const buttonEl =\n",
              "        document.querySelector('#id_50e7565d-bdcc-429b-b842-99f3369877ee button.colab-df-generate');\n",
              "      buttonEl.style.display =\n",
              "        google.colab.kernel.accessAllowed ? 'block' : 'none';\n",
              "\n",
              "      buttonEl.onclick = () => {\n",
              "        google.colab.notebook.generateWithVariable('y');\n",
              "      }\n",
              "      })();\n",
              "    </script>\n",
              "  </div>\n",
              "\n",
              "    </div>\n",
              "  </div>\n"
            ],
            "application/vnd.google.colaboratory.intrinsic+json": {
              "type": "dataframe",
              "variable_name": "y",
              "summary": "{\n  \"name\": \"y\",\n  \"rows\": 6,\n  \"fields\": [\n    {\n      \"column\": \"floors\",\n      \"properties\": {\n        \"dtype\": \"number\",\n        \"std\": 0.9354143466934853,\n        \"min\": 1.0,\n        \"max\": 3.5,\n        \"num_unique_values\": 6,\n        \"samples\": [\n          1.0,\n          2.0,\n          3.5\n        ],\n        \"semantic_type\": \"\",\n        \"description\": \"\"\n      }\n    },\n    {\n      \"column\": \"count\",\n      \"properties\": {\n        \"dtype\": \"number\",\n        \"std\": 4651,\n        \"min\": 8,\n        \"max\": 10680,\n        \"num_unique_values\": 6,\n        \"samples\": [\n          10680,\n          8241,\n          8\n        ],\n        \"semantic_type\": \"\",\n        \"description\": \"\"\n      }\n    }\n  ]\n}"
            }
          },
          "metadata": {},
          "execution_count": 31
        },
        {
          "output_type": "display_data",
          "data": {
            "text/plain": [
              "<google.colab._quickchart_helpers.SectionTitle at 0x7a5158e671c0>"
            ],
            "text/html": [
              "<h4 class=\"colab-quickchart-section-title\">Distributions</h4>\n",
              "<style>\n",
              "  .colab-quickchart-section-title {\n",
              "      clear: both;\n",
              "  }\n",
              "</style>"
            ]
          },
          "metadata": {}
        },
        {
          "output_type": "display_data",
          "data": {
            "text/plain": [
              "from matplotlib import pyplot as plt\n",
              "y['count'].plot(kind='hist', bins=20, title='count')\n",
              "plt.gca().spines[['top', 'right',]].set_visible(False)"
            ],
            "text/html": [
              "      <div class=\"colab-quickchart-chart-with-code\" id=\"chart-7712c6b5-f6c1-4a3f-bc7a-662f0f0c658b\">\n",
              "        <img style=\"width: 180px;\" src=\"data:image/png;base64,iVBORw0KGgoAAAANSUhEUgAAAjEAAAGrCAYAAAAxesZMAAAAOXRFWHRTb2Z0d2FyZQBNYXRwbG90\n",
              "bGliIHZlcnNpb24zLjcuMSwgaHR0cHM6Ly9tYXRwbG90bGliLm9yZy/bCgiHAAAACXBIWXMAAA9h\n",
              "AAAPYQGoP6dpAAAldElEQVR4nO3dfVBV94H/8c/1kr0xBvAhUrB4ofJklQS4BsZqxyTtOiF9QBfd\n",
              "qdmkEx94sKnrduiMKWPcRtsEO1Od2p1xhMgau3a1CWLL6CadmocuNmnQWGyrExXi9aIF2W26QFxD\n",
              "efj+/nByf7kroJfcA3zl/Zo5M97zPZz7vWcO+J57DxyXMcYIAADAMhNGewIAAADDQcQAAAArETEA\n",
              "AMBKRAwAALASEQMAAKxExAAAACsRMQAAwEpEDAAAsBIRAwAArETEAAAAKxExAMYdv98vl8ulpqam\n",
              "0Z4KgE+AiAEAAFYiYgCMimvXrunpp59Wenq6oqOjNWvWLO3du1eS9MILLygzM1MxMTHKzMwMrpek\n",
              "N954Qy6XS729vcF1L7zwghITE4OPV65cqRUrVmjdunWaNm2aPvWpT2nTpk3B8blz50qSsrKydPfd\n",
              "d2vt2rVOv1wADoga7QkAGJ+Ki4t17tw5/eIXv9Ds2bPV2tqqtrY2HTx4UOvXr9ehQ4f04IMP6vXX\n",
              "X9fSpUsVGxurpUuX3vL+Dx06pL1792rHjh1qaGjQokWL9IUvfEEPPfSQTp8+rc985jM6deqUUlNT\n",
              "nXuRABzFOzEARtx///d/66c//al27typz372s3K5XJoxY4Z8Pp+qqqq0Zs0affGLX5Tb7dbf/u3f\n",
              "as2aNdq1a1dYz7Fw4UKtWLFCbrdbn/vc55Sdna2GhgaHXhGA0UDEABhxFy5ckCRlZGTcMNbS0qKU\n",
              "lJSQdampqQoEAmE9x4wZM0IeT5o0SV1dXWHOFMBYRsQAGHHJycmSpHPnzt0wNnPmTDU3N4esa25u\n",
              "ltfrlSRFR0dLkq5evRoc/9Of/hTW80+YwI8+4HbAdzKAETd9+nQ9+uij+uY3v6mzZ89KklpbW3Xy\n",
              "5EkVFRXpX//1X/XGG2+or69Pr732mqqrq1VSUiJJwQuBKysr1d/fr8bGRlVVVYX9/BMmTAg+NwA7\n",
              "ETEARsXzzz+vBx54QI888ojuvvtuLVy4UKdPn9bf//3fa9u2bXryySc1efJk/eM//qN27NihwsJC\n",
              "Sdffidm7d6+qqqoUExOj8vLyYODcqokTJ+q5555TUVGRJk+erCeffNKJlwjAYS5jjBntSQAAAISL\n",
              "d2IAAICViBgAAGAlIgYAAFiJiAEAAFYiYgAAgJWIGAAAYCUiBgAAWOm2j5gdO3aM9hQAAIADbvuI\n",
              "uXjx4mhPAQAAOOC2jxgAAHB7ImIAAICViBgAAGAlIgYAAFiJiAEAAFYiYgAAgJWIGAAAYCUiBgAA\n",
              "WImIAQAAViJiAACAlYgYAABgJSIGAABYybGI+fDDD7V06VKlp6crKytLixcvVlNT04DbHj58WLNn\n",
              "z1ZaWpoKCwvV2dl5S2MAAGD8cvSdmJKSEp09e1anTp3SkiVLVFRUdMM2H3zwgdasWaOf//znOn/+\n",
              "vGbMmKHvfe97Nx0DAADjm2MRc+edd+pLX/qSXC6XJGn+/Pny+/03bPfyyy8rJydHs2fPliQ9+eST\n",
              "2r9//03HBtLd3a3Ozs6Qpa+vL8KvDAAAjAVRI/VEO3bs0JIlS25YHwgElJSUFHycnJys1tZW9fb2\n",
              "DjkWFXXj1CsqKrR58+aQdfPnz4/gq/j/kr9zxJH9SpJ/65cd2zcAALeLEbmw97nnnlNTU5MqKioc\n",
              "fZ7y8nJ1dHSELHl5eY4+JwAAGB2OR8wPf/hD1dbW6uWXX9Zdd911w7jX69XFixeDj/1+vxISEhQV\n",
              "FTXk2EA8Ho9iYmJCFrfbHfkXBQAARp2jEbN9+3bt379fv/rVrzR58uQBt8nPz9fJkyf17rvvSpJ2\n",
              "7typFStW3HQMAACMb45dE3Pp0iV9+9vf1qxZs/TQQw9Juv5Oydtvv61//ud/1owZM7R27VpFR0dr\n",
              "9+7dWrp0qXp7e5WZmam9e/dK0pBjAABgfHMZY8xoT8JJZWVl2r59e8T3y4W9AACMLv5iLwAAsBIR\n",
              "AwAArETEAAAAKxExAADASkQMAACwEhEDAACsRMQAAAArETEAAMBKRAwAALASEQMAAKxExAAAACsR\n",
              "MQAAwEpEDAAAsBIRAwAArETEAAAAKxExAADASkQMAACwEhEDAACsRMQAAAArETEAAMBKRAwAALAS\n",
              "EQMAAKxExAAAACsRMQAAwEpEDAAAsBIRAwAArETEAAAAKxExAADASkQMAACwEhEDAACsRMQAAAAr\n",
              "ETEAAMBKRAwAALASEQMAAKxExAAAACs5GjHr169XcnKyXC6XGhsbB9xmz549ys7ODi733HOPCgsL\n",
              "JUl+v19utztkvLm52ckpAwAAS0Q5ufPly5drw4YN+vznPz/oNqtWrdKqVauCjzMzM/XYY48FH0dH\n",
              "Rw8aQAAAYPxyNGIWLVoU1vZvv/222tvbVVBQMKzn6+7uVnd3d8i6vr6+Ye0LAACMbWPqmpjq6mp9\n",
              "/etf1x133BFcd/XqVeXm5srn82nLli1DRklFRYViY2NDloaGhpGYOgAAGGFjJmKuXr2qAwcOaM2a\n",
              "NcF1CQkJunz5so4fP66jR4+qvr5e27ZtG3Qf5eXl6ujoCFny8vJGYvoAAGCEjZmIeemllzR37lzN\n",
              "mTMnuM7j8SguLk6SNHXqVK1evVr19fWD7sPj8SgmJiZkcbvdjs8dAACMvDETMdXV1SHvwkhSe3u7\n",
              "enp6JF2/3qW2tlY5OTmjMT0AADDGOBoxpaWlSkxM1KVLl/Twww8rNTVVklRUVKS6urrgdmfPnlVj\n",
              "Y6O+9rWvhXz9sWPHlJOTo6ysLPl8PsXHx2vjxo1OThkAAFjCZYwxoz0JJ5WVlWn79u0R32/yd45E\n",
              "fJ8f8W/9smP7BgDgdjFmPk4CAAAIBxEDAACsRMQAAAArETEAAMBKRAwAALASEQMAAKxExAAAACsR\n",
              "MQAAwEpEDAAAsBIRAwAArETEAAAAKxExAADASkQMAACwEhEDAACsRMQAAAArETEAAMBKRAwAALAS\n",
              "EQMAAKxExAAAACsRMQAAwEpEDAAAsBIRAwAArETEAAAAKxExAADASkQMAACwEhEDAACsRMQAAAAr\n",
              "ETEAAMBKRAwAALASEQMAAKxExAAAACsRMQAAwEpEDAAAsBIRAwAArETEAAAAKzkaMevXr1dycrJc\n",
              "LpcaGxsH3OaNN97QxIkTlZ2dHVyuXbsWHK+urlZaWppSUlJUXFysnp4eJ6cMAAAs4WjELF++XMeO\n",
              "HVNSUtKQ22VkZKixsTG4TJw4UZJ04cIFbdq0SfX19WpqatKVK1dUVVXl5JQBAIAlHI2YRYsWKTEx\n",
              "cdhfX1NTo4KCAsXHx8vlcmnt2rXav3//oNt3d3ers7MzZOnr6xv28wMAgLFrTFwT09zcLJ/Pp9zc\n",
              "XO3cuTO4PhAIhLyLk5ycrEAgMOh+KioqFBsbG7I0NDQ4OncAADA6Rj1ifD6fLl26pJMnT+rQoUPa\n",
              "tWuXXnzxxWHtq7y8XB0dHSFLXl5ehGcMAADGglGPmJiYGMXGxkqSEhMT9eijj6q+vl6S5PV6dfHi\n",
              "xeC2fr9fXq930H15PB7FxMSELG6329kXAAAARsWoR0xra6v6+/slSV1dXTp8+LBycnIkScuWLVNd\n",
              "XZ3a2tpkjNGuXbu0YsWK0ZwuAAAYIxyNmNLSUiUmJurSpUt6+OGHlZqaKkkqKipSXV2dJOngwYO6\n",
              "9957lZWVpfnz52vx4sVatWqVJGnWrFnavHmzFi5cqNTUVE2fPl2lpaVOThkAAFjCZYwxoz0JJ5WV\n",
              "lWn79u0R32/yd45EfJ8f8W/9smP7BgDgdjHqHycBAAAMBxEDAACsRMQAAAArETEAAMBKRAwAALAS\n",
              "EQMAAKxExAAAACsRMQAAwEpEDAAAsBIRAwAArETEAAAAKxExAADASkQMAACwEhEDAACsRMQAAAAr\n",
              "ETEAAMBKRAwAALASEQMAAKxExAAAACsRMQAAwEpEDAAAsBIRAwAArETEAAAAKxExAADASkQMAACw\n",
              "EhEDAACsRMQAAAArETEAAMBKRAwAALASEQMAAKxExAAAACsRMQAAwEpEDAAAsBIRAwAArETEAAAA\n",
              "KzkaMevXr1dycrJcLpcaGxsH3Oa1115TXl6e5syZo7lz52rDhg3q7++XJPn9frndbmVnZweX5uZm\n",
              "J6cMAAAs4WjELF++XMeOHVNSUtKg20yZMkUHDhzQmTNn9M477+jNN9/UT37yk+B4dHS0Ghsbg0tK\n",
              "SoqTUwYAAJaIcnLnixYtuuk2OTk5wX/feeedys7Olt/vH9bzdXd3q7u7O2RdX1/fsPYFAADGtjF1\n",
              "TUxbW5tqamr0la98Jbju6tWrys3Nlc/n05YtW4aMkoqKCsXGxoYsDQ0NIzF1AAAwwsZMxHR2duqr\n",
              "X/2qNmzYoPvvv1+SlJCQoMuXL+v48eM6evSo6uvrtW3btkH3UV5ero6OjpAlLy9vpF4CAAAYQWMi\n",
              "Yrq6upSfn68lS5aorKwsuN7j8SguLk6SNHXqVK1evVr19fWD7sfj8SgmJiZkcbvdjs8fAACMvFGP\n",
              "mA8++ED5+fnKz8/X008/HTLW3t6unp4eSdevd6mtrQ25hgYAAIxfjkZMaWmpEhMTdenSJT388MNK\n",
              "TU2VJBUVFamurk6StGPHDjU0NKi2tjb4a9TPPvusJOnYsWPKyclRVlaWfD6f4uPjtXHjRienDAAA\n",
              "LOEyxpjRnoSTysrKtH379ojvN/k7RyK+z4/4t37ZsX0DAHC7GPWPkwAAAIaDiAEAAFYiYgAAgJWI\n",
              "GAAAYKWwI+aXv/ylE/MAAAAIS9gRs2XLFmVkZGjHjh3q7Ox0Yk4AAAA3FXbE/OY3v9GBAwf0xz/+\n",
              "Uenp6XryySd15swZJ+YGAAAwqGFdE5OTk6Pnn39er7zyig4fPqz77rtPixcv1h/+8IdIzw8AAGBA\n",
              "w4qYo0ePasmSJSosLNQ3v/lNtbW1qbS0VH/3d38X6fkBAAAMKCrcL/jsZz+re+65R+vXr1dhYWHw\n",
              "BovLly9XdXV1xCcIAAAwkLAjZt++fZo3b96AYy+//PInnhAAAMCtCPvjpHfeeUfvv/9+8PGf//xn\n",
              "Pf/88xGdFAAAwM2EHTE7d+7U1KlTg4+nTZumnTt3RnRSAAAANxN2xAx00+u+vr6ITAYAAOBWhR0x\n",
              "CQkJevHFF4OPf/aznykhISGikwIAALiZsC/s/dGPfqQlS5Zow4YNkqS77rpLv/jFLyI+MQAAgKGE\n",
              "HTGzZ8/WmTNndPbsWUlSRkZG8NesAQAARkrYESNJLpdLkydPVm9vry5fvixJ8nq9EZ0YAADAUMKO\n",
              "mBdeeEHr16/XHXfcoQkTrl9S43K51N7eHvHJAQAADCbsiPne976n48ePKyMjw4n5AAAA3JKwfzvp\n",
              "nnvuIWAAAMCoCztili5dqh/96Edqb29XZ2dncAEAABhJYX+ctHHjRklSWVmZXC6XjDFyuVz8wTsA\n",
              "ADCiwo6Y/v5+J+YBAAAQlrA/TpKu3wTy3/7t3yRJ//M//6PW1taITgoAAOBmhnUDyNWrV+uZZ56R\n",
              "dP0u1v/wD/8Q6XkBAAAMKeyIqaqq0m9/+1vFxMRIklJSUvRf//VfEZ8YAADAUMKOGI/Ho4kTJ4as\n",
              "i4oa1h/+BQAAGLawI2b69Ok6d+6cXC6XpOt/wZdbDgAAgJE2rLtYP/roo3r33Xc1c+ZMxcTE6PDh\n",
              "w07MDQAAYFBhR0xqaqrefvttnT17VsYY7mINAABGRdgREwgEJEmTJk2SJO5iDQAARkXYETNv3rzg\n",
              "X+r98MMP9b//+7+aNm0ad7EGAAAjKuyI+b+/Tl1bW6tTp05FbEIAAAC3Ylh/sffjCgsLdeTIkUjM\n",
              "BQAA4JaFHTEfv3P1X/7yF73yyiuD3sV6/fr1Sk5OlsvlUmNj46D7rK6uVlpamlJSUlRcXKyenp5b\n",
              "GgMAAONX2BEzefJkTZkyRZMnT1ZcXJzKysr04x//eMBtly9frmPHjikpKWnQ/V24cEGbNm1SfX29\n",
              "mpqadOXKFVVVVd10DAAAjG9hR0x/f7/6+vrU39+vnp4enTlzRvn5+QNuu2jRIiUmJg65v5qaGhUU\n",
              "FCg+Pl4ul0tr167V/v37bzo2kO7u7pB3ijo7O9XX1xfuSwQAABYY9fsFBAKBkHdqkpOTg7/GPdTY\n",
              "QCoqKrR58+aQdfPnz4/wjJ2X/B1nrjHyb/2yI/uVnJuz5Oy8AYwuG3/e2eh2Pc5hvxMzYcIEud3u\n",
              "G5aP1o+m8vJydXR0hCx5eXmjOicAAOCMsN+J2bJli65du6ZvfOMbkqRdu3Zp4sSJ+ta3vjWsCXi9\n",
              "XjU3Nwcf+/3+4B/OG2psIB6PRx6PJ2TdaIcVAABwRtjvxBw6dEjPPvusEhMTlZiYqO9///uqra3V\n",
              "pEmTgn/FNxzLli1TXV2d2traZIzRrl27tGLFipuOAQCA8S3siOnq6gr567zt7e3q6uoacNvS0lIl\n",
              "Jibq0qVLevjhh5WamipJKioqUl1dnSRp1qxZ2rx5sxYuXKjU1FRNnz5dpaWlNx0DAADjW9gfJ337\n",
              "299WVlaWvvSlL0mSXnnlFT3zzDMDbltZWTng+t27d4c8Li4uVnFx8YDbDjUGAADGr7AjprS0VAsX\n",
              "LtTrr78uSSorK9PcuXMjPjEAAIChDOtXrKdNm6Z7771XDz74oHp7e/XXv/5Vf/M3fxPpuQEAAAwq\n",
              "7GtiampqNH/+fK1atUqSdPr0aS1dujTS8wIAABhS2BFTUVGhkydPavLkyZKkrKwsXbx4MdLzAgAA\n",
              "GFLYEeN2uzVt2rSQdXyUBAAARlrYERMdHa0rV67I5XJJkl599VVNnTo14hMDAAAYStgX9v7gBz/Q\n",
              "I488ovfee0+f//zndeHCBR054tx9cwAAAAYSVsR8dAfr119/XW+++aaMMVqwYEHw+hgAAICRElbE\n",
              "TJgwQSUlJTp16pQeeeQRp+YEAABwU2FfE5OWlqampiYn5gIAAHDLwr4m5v3331d2drYWLFigu+++\n",
              "O7i+trY2ohMDAAAYyi1HTElJiaqqqvTEE0+ooKBAU6ZMcXJeAAAAQ7rliDlx4oQk6YknnpDP59PJ\n",
              "kycdmxQAAMDNhH1NjCQZYyI9DwAAgLDc8jsx165d0x/+8AcZY/Thhx8G//2R++67z5EJAgAADCSs\n",
              "iCkoKAg+/vi/XS6X3nvvvcjODAAAYAi3HDF+v9/BaQAAAIRnWNfEAAAAjDYiBgAAWImIAQAAViJi\n",
              "AACAlYgYAABgJSIGAABYiYgBAABWImIAAICViBgAAGAlIgYAAFiJiAEAAFYiYgAAgJWIGAAAYCUi\n",
              "BgAAWImIAQAAViJiAACAlYgYAABgJSIGAABYydGIOX/+vBYsWKD09HTl5ubq9OnTN2yzZ88eZWdn\n",
              "B5d77rlHhYWFkiS/3y+32x0y3tzc7OSUAQCAJaKc3HlpaalKSkq0cuVK1dTUaOXKlTp+/HjINqtW\n",
              "rdKqVauCjzMzM/XYY48FH0dHR6uxsdHJaQIAAAs59k5Me3u7Tpw4occff1yStGzZMrW0tKipqWnQ\n",
              "r3n77bfV3t6ugoKCYT1nd3e3Ojs7Q5a+vr5h7QsAAIxtjkVMS0uLEhISFBV1/c0el8slr9erQCAw\n",
              "6NdUV1fr61//uu64447guqtXryo3N1c+n09btmwZMkoqKioUGxsbsjQ0NETuRQEAgDFjzFzYe/Xq\n",
              "VR04cEBr1qwJrktISNDly5d1/PhxHT16VPX19dq2bdug+ygvL1dHR0fIkpeXNxLTBwAAI8yxiJk5\n",
              "c6ZaW1vV29srSTLGKBAIyOv1Drj9Sy+9pLlz52rOnDnBdR6PR3FxcZKkqVOnavXq1aqvrx/0OT0e\n",
              "j2JiYkIWt9sdwVcFAADGCsciJi4uTj6fT/v27ZMkHTx4UImJiUpNTR1w++rq6pB3YaTr19X09PRI\n",
              "un69S21trXJycpyaMgAAsIijHydVVlaqsrJS6enp2rp1q/bs2SNJKioqUl1dXXC7s2fPqrGxUV/7\n",
              "2tdCvv7YsWPKyclRVlaWfD6f4uPjtXHjRienDAAALOHor1hnZGTorbfeumH97t27b9iuq6vrhu0K\n",
              "CwuDfzMGAADg48bMhb0AAADhIGIAAICViBgAAGAlIgYAAFiJiAEAAFYiYgAAgJWIGAAAYCUiBgAA\n",
              "WImIAQAAViJiAACAlYgYAABgJSIGAABYiYgBAABWImIAAICViBgAAGAlIgYAAFiJiAEAAFYiYgAA\n",
              "gJWIGAAAYCUiBgAAWImIAQAAViJiAACAlYgYAABgJSIGAABYiYgBAABWImIAAICViBgAAGAlIgYA\n",
              "AFiJiAEAAFYiYgAAgJWIGAAAYCUiBgAAWImIAQAAViJiAACAlYgYAABgJUcj5vz581qwYIHS09OV\n",
              "m5ur06dP37DNG2+8oYkTJyo7Ozu4XLt2LTheXV2ttLQ0paSkqLi4WD09PU5OGQAAWMLRiCktLVVJ\n",
              "SYnOnTunp556SitXrhxwu4yMDDU2NgaXiRMnSpIuXLigTZs2qb6+Xk1NTbpy5YqqqqqcnDIAALCE\n",
              "YxHT3t6uEydO6PHHH5ckLVu2TC0tLWpqarrlfdTU1KigoEDx8fFyuVxau3at9u/fP+j23d3d6uzs\n",
              "DFn6+vo+8WsBAABjj2MR09LSooSEBEVFRUmSXC6XvF6vAoHADds2NzfL5/MpNzdXO3fuDK4PBAJK\n",
              "SkoKPk5OTh7w6z9SUVGh2NjYkKWhoSGCrwoAAIwVo35hr8/n06VLl3Ty5EkdOnRIu3bt0osvvjis\n",
              "fZWXl6ujoyNkycvLi/CMAQDAWOBYxMycOVOtra3q7e2VJBljFAgE5PV6Q7aLiYlRbGysJCkxMVGP\n",
              "Pvqo6uvrJUler1cXL14Mbuv3+2/4+o/zeDyKiYkJWdxud6RfGgAAGAMci5i4uDj5fD7t27dPknTw\n",
              "4EElJiYqNTU1ZLvW1lb19/dLkrq6unT48GHl5ORIun4dTV1dndra2mSM0a5du7RixQqnpgwAACzi\n",
              "6MdJlZWVqqysVHp6urZu3ao9e/ZIkoqKilRXVyfpetzce++9ysrK0vz587V48WKtWrVKkjRr1ixt\n",
              "3rxZCxcuVGpqqqZPn67S0lInpwwAACwR5eTOMzIy9NZbb92wfvfu3cF/r1u3TuvWrRt0H8XFxSou\n",
              "LnZkfgAAwF6jfmEvAADAcBAxAADASkQMAACwEhEDAACsRMQAAAArETEAAMBKRAwAALASEQMAAKxE\n",
              "xAAAACsRMQAAwEpEDAAAsBIRAwAArETEAAAAKxExAADASkQMAACwEhEDAACsRMQAAAArETEAAMBK\n",
              "RAwAALASEQMAAKxExAAAACsRMQAAwEpEDAAAsBIRAwAArETEAAAAKxExAADASkQMAACwEhEDAACs\n",
              "RMQAAAArETEAAMBKRAwAALASEQMAAKxExAAAACsRMQAAwEpEDAAAsJKjEXP+/HktWLBA6enpys3N\n",
              "1enTp2/Y5rXXXlNeXp7mzJmjuXPnasOGDerv75ck+f1+ud1uZWdnB5fm5mYnpwwAACzhaMSUlpaq\n",
              "pKRE586d01NPPaWVK1fesM2UKVN04MABnTlzRu+8847efPNN/eQnPwmOR0dHq7GxMbikpKQ4OWUA\n",
              "AGAJxyKmvb1dJ06c0OOPPy5JWrZsmVpaWtTU1BSyXU5OjmbNmiVJuvPOO5WdnS2/3z+s5+zu7lZn\n",
              "Z2fI0tfX94leBwAAGJsci5iWlhYlJCQoKipKkuRyueT1ehUIBAb9mra2NtXU1OgrX/lKcN3Vq1eV\n",
              "m5srn8+nLVu2DBklFRUVio2NDVkaGhoi96IAAMCYMWYu7O3s7NRXv/pVbdiwQffff78kKSEhQZcv\n",
              "X9bx48d19OhR1dfXa9u2bYPuo7y8XB0dHSFLXl7eSL0EAAAwghyLmJkzZ6q1tVW9vb2SJGOMAoGA\n",
              "vF7vDdt2dXUpPz9fS5YsUVlZWXC9x+NRXFycJGnq1KlavXq16uvrB31Oj8ejmJiYkMXtdkf4lQEA\n",
              "gLHAsYiJi4uTz+fTvn37JEkHDx5UYmKiUlNTQ7b74IMPlJ+fr/z8fD399NMhY+3t7erp6ZF0/XqX\n",
              "2tpa5eTkODVlAABgEUc/TqqsrFRlZaXS09O1detW7dmzR5JUVFSkuro6SdKOHTvU0NCg2tra4K9R\n",
              "P/vss5KkY8eOKScnR1lZWfL5fIqPj9fGjRudnDIAALBElJM7z8jI0FtvvXXD+t27dwf/vXHjxkHD\n",
              "pLCwUIWFhY7NDwAA2GvMXNgLAAAQDiIGAABYiYgBAABWImIAAICViBgAAGAlIgYAAFiJiAEAAFYi\n",
              "YgAAgJWIGAAAYCUiBgAAWImIAQAAViJiAACAlYgYAABgJSIGAABYiYgBAABWImIAAICViBgAAGAl\n",
              "IgYAAFiJiAEAAFYiYgAAgJWIGAAAYCUiBgAAWImIAQAAViJiAACAlYgYAABgJSIGAABYiYgBAABW\n",
              "ImIAAICViBgAAGAlIgYAAFiJiAEAAFYiYgAAgJWIGAAAYCUiBgAAWImIAQAAVnI0Ys6fP68FCxYo\n",
              "PT1dubm5On369IDbVVdXKy0tTSkpKSouLlZPT88tjQEAgPHL0YgpLS1VSUmJzp07p6eeekorV668\n",
              "YZsLFy5o06ZNqq+vV1NTk65cuaKqqqqbjgEAgPHNsYhpb2/XiRMn9Pjjj0uSli1bppaWFjU1NYVs\n",
              "V1NTo4KCAsXHx8vlcmnt2rXav3//TccG0t3drc7OzpClr6/PqZcIAABGUZRTO25paVFCQoKioq4/\n",
              "hcvlktfrVSAQUGpqanC7QCCgpKSk4OPk5GQFAoGbjg2koqJCmzdvDlk3e/ZslZWVReQ1faSvr08J\n",
              "DQ3Ky8uT2+2O6L6dVFb2qmP7LvyEX9/X16eGQY6pk/O+XQ11PDE8HNPI+uh4LnHoeI7HnxtDnaOf\n",
              "9Gf0YJw8zklJSfqnf/qnIbdxLGJGQ3l5+Q3B4vF45PF4Ivo8nZ2dio2N1S9/+UvFxMREdN/jFcc0\n",
              "sjiekccxjSyOZ+SNx2PqWMTMnDlTra2t6u3tVVRUlIwxCgQC8nq9Idt5vV41NzcHH/v9/uA2Q40N\n",
              "xIlgAQAAY5Nj18TExcXJ5/Np3759kqSDBw8qMTEx5KMk6fq1MnV1dWpra5MxRrt27dKKFStuOgYA\n",
              "AMY3R387qbKyUpWVlUpPT9fWrVu1Z88eSVJRUZHq6uokSbNmzdLmzZu1cOFCpaamavr06SotLb3p\n",
              "GAAAGN8cvSYmIyNDb7311g3rd+/eHfK4uLhYxcXFA+5jqLHR4vF49N3vfpePriKIYxpZHM/I45hG\n",
              "Fscz8sbjMXUZY8xoTwIAACBc3HYAAABYiYgBAABWImIAAICViBgAAGAlIiZMt3pn7vHsww8/1NKl\n",
              "S5Wenq6srCwtXrw4eM+s9vZ25efnKy0tTZmZmfrP//zP4NcNd2y82bNnj1wul37+859L4pgOV3d3\n",
              "t9atW6e0tDTde++9wfu8DfU9Ptyx8eI//uM/5PP5lJ2drczMTO3du1cS5+itWr9+vZKTk+VyudTY\n",
              "2Bhc78Q5educrwZheeihh8yePXuMMca89NJL5v777x/dCY1B165dM0eOHDH9/f3GGGP+5V/+xTzw\n",
              "wAPGGGNWrVplvvvd7xpjjGloaDCf/vSnzV//+tdPNDaeXLhwwXzuc58z8+fPN4cOHTLGcEyH61vf\n",
              "+pZZt25d8DxtbW01xgz9PT7csfGgv7/fTJkyxZw6dcoYc/1c9Xg8prOzk3P0Fv361782LS0tJikp\n",
              "yfzud78LrnfinLxdzlciJgxXrlwx0dHRpqenxxhz/Zv2U5/6lDl//vwoz2xsO378uElKSjLGGDNp\n",
              "0qTgfxbGGJObm2t+9atffaKx8aKvr8988YtfNCdOnDAPPPBAMGI4puH74IMPTHR0tOno6AhZP9T3\n",
              "+HDHxov+/n4zdepU8+tf/9oYY8ypU6fMjBkzTHd3N+domD4eMU6ck7fT+Xpb3QDSabd6Z26E2rFj\n",
              "h5YsWaI///nP6unpUXx8fHDsozuTD3dsPNm+fbsWLlyoefPmBddxTIenublZU6dO1XPPPaejR49q\n",
              "4sSJeuaZZzR58uRBv8djY2OHNTZefja4XC797Gc/U2FhoSZNmqS//OUvqq2tVVdXF+foJzDU/zvD\n",
              "PSdvp/OViIGjnnvuOTU1NenVV1/VtWvXRns61vrjH/+ogwcP3vbXBIyU3t5eXbx4UXPmzNHWrVv1\n",
              "u9/9TosXL9aRI0dGe2rW6u3t1fe//33V1tZq0aJFOn78uAoKCkKu7QAijQt7w/DxO3NLGvTO3Lju\n",
              "hz/8oWpra/Xyyy/rrrvu0rRp0xQVFaW2trbgNh/dmXy4Y+NFfX29/H6/0tLSlJycrN/+9rcqKSnR\n",
              "iy++yDEdBq/XqwkTJuixxx6TJOXk5Ogzn/mMLl68OOj3+FDf//xskBobG/WnP/1JixYtkiTl5uYq\n",
              "MTFRv//97zlHP4Hhnnfj5nwdvU+y7PTAAw+EXAw1b9680Z3QGLVt2zbj8/nM+++/H7L+iSeeCLlQ\n",
              "b8aMGcEL9YY7Nh59/JoYjunwLF682Bw5csQYY8x7771npk2bZi5dujTk9/hwx8aDtrY2c/fdd5sz\n",
              "Z84YY4w5f/68mTJlirl48SLnaJj+74W9TpyTt8v5SsSE6d133zXz5883aWlpZt68eeb3v//9aE9p\n",
              "zGlpaTGSzKxZs0xWVpbJysoyeXl5xpjrP+gWL15sUlNTzZw5c8xrr70W/Lrhjo1HH48YjunwNDc3\n",
              "mwcffNBkZmaa++67z9TU1Bhjhv4eH+7YePHv//7vweOZmZlpfvrTnxpjOEdvVUlJifn0pz9t3G63\n",
              "iYuLMykpKcYYZ87J2+V85QaQAADASlwTAwAArETEAAAAKxExAADASkQMAACwEhEDAACsRMQAAAAr\n",
              "ETEAAMBKRAwAALASEQMAAKxExAAAACv9Pxfv40t8r2weAAAAAElFTkSuQmCC\n",
              "\">\n",
              "      </div>\n",
              "      <script type=\"text/javascript\">\n",
              "        (() => {\n",
              "          const chartElement = document.getElementById(\"chart-7712c6b5-f6c1-4a3f-bc7a-662f0f0c658b\");\n",
              "          async function getCodeForChartHandler(event) {\n",
              "            const chartCodeResponse =  await google.colab.kernel.invokeFunction(\n",
              "                'getCodeForChart', [\"chart-7712c6b5-f6c1-4a3f-bc7a-662f0f0c658b\"], {});\n",
              "            const responseJson = chartCodeResponse.data['application/json'];\n",
              "            await google.colab.notebook.addCell(responseJson.code, 'code');\n",
              "          }\n",
              "          chartElement.onclick = getCodeForChartHandler;\n",
              "        })();\n",
              "      </script>\n",
              "      <style>\n",
              "        .colab-quickchart-chart-with-code  {\n",
              "            display: block;\n",
              "            float: left;\n",
              "            border: 1px solid transparent;\n",
              "        }\n",
              "\n",
              "        .colab-quickchart-chart-with-code:hover {\n",
              "            cursor: pointer;\n",
              "            border: 1px solid #aaa;\n",
              "        }\n",
              "      </style>"
            ]
          },
          "metadata": {}
        },
        {
          "output_type": "display_data",
          "data": {
            "text/plain": [
              "<google.colab._quickchart_helpers.SectionTitle at 0x7a5158e65480>"
            ],
            "text/html": [
              "<h4 class=\"colab-quickchart-section-title\">Values</h4>\n",
              "<style>\n",
              "  .colab-quickchart-section-title {\n",
              "      clear: both;\n",
              "  }\n",
              "</style>"
            ]
          },
          "metadata": {}
        },
        {
          "output_type": "display_data",
          "data": {
            "text/plain": [
              "from matplotlib import pyplot as plt\n",
              "y['count'].plot(kind='line', figsize=(8, 4), title='count')\n",
              "plt.gca().spines[['top', 'right']].set_visible(False)"
            ],
            "text/html": [
              "      <div class=\"colab-quickchart-chart-with-code\" id=\"chart-b8cfbd02-639e-4faa-8432-c8f7a101ff65\">\n",
              "        <img style=\"width: 180px;\" src=\"data:image/png;base64,iVBORw0KGgoAAAANSUhEUgAAAqwAAAF5CAYAAABa2XgxAAAAOXRFWHRTb2Z0d2FyZQBNYXRwbG90\n",
              "bGliIHZlcnNpb24zLjcuMSwgaHR0cHM6Ly9tYXRwbG90bGliLm9yZy/bCgiHAAAACXBIWXMAAA9h\n",
              "AAAPYQGoP6dpAAA/OklEQVR4nO3deVic9b3//9c9MzDDNhDWQALZIGSFGJs0jWaxpm1q69KY2NU2\n",
              "rVattZ5e0ePSGpcea2qP5hxPPf1qPD1qj+f4O9FEbbX2VKtZXKNtEjULhARCFnbCHgZm5v79AUyY\n",
              "BJCQgXuA5+O6uID7c3PPe7wzzMs3n/v+GKZpmgIAAADClM3qAgAAAIC+EFgBAAAQ1gisAAAACGsE\n",
              "VgAAAIQ1AisAAADCGoEVAAAAYY3ACgAAgLBGYAUAAEBYI7ACAAAgrBFYAQAAENYIrAAwwpWUlMgw\n",
              "DBUVFVldCgAMCIEVAAAAYY3ACgBD4OTJk7rrrrs0depUxcXFafLkyXr66aclSU899ZRmzZolt9ut\n",
              "WbNmBbZL0pYtW2QYhrxeb2DbU089pfHjxwe+X716tb7xjW/opptuUlJSktLS0rR27drA+MyZMyVJ\n",
              "+fn5io2N1Q033DDYTxcAQsphdQEAMBr88Ic/VGFhoV566SVNmzZNZWVlKi8v16ZNm3TzzTfrhRde\n",
              "0NKlS/Xmm2/qiiuuUHx8vK644op+H/+FF17Q008/rUceeUQ7duzQ4sWL9fnPf14XXXSR9uzZo0mT\n",
              "Jmn37t3Kzs4evCcJAIOEDisADLLq6mr993//t377299q+vTpMgxDGRkZmjt3rjZs2KBrrrlGF198\n",
              "sex2u5YtW6ZrrrlGjz322Fk9xgUXXKBvfOMbstvt+tznPqc5c+Zox44dg/SMAGBoEVgBYJAVFxdL\n",
              "knJzc88YO3LkiKZMmRK0LTs7W6WlpWf1GBkZGUHfx8TEqLGx8SwrBYDwRGAFgEE2ceJESVJhYeEZ\n",
              "Y5mZmTp48GDQtoMHDyorK0uSFBcXJ0lqbm4OjB8/fvysHt9m41c9gOGN32IAMMhSUlL0zW9+Uz/+\n",
              "8Y9VUFAgSSorK9Pf//53XXvttfrP//xPbdmyRT6fT2+88YZ+97vf6brrrpOkwEVajz/+uPx+v3bt\n",
              "2qUNGzac9ePbbLbAYwPAcENgBYAh8MQTT2jJkiX68pe/rNjYWF1wwQXas2ePVq1apYcfflg33nij\n",
              "EhIS9JOf/ESPPPKIVqxYIamjw/r0009rw4YNcrvduvPOOwNhtr+ioqL0wAMP6Nprr1VCQoJuvPHG\n",
              "wXiKADBoDNM0TauLAAAAAHpDhxUAAABhjcAKAACAsEZgBQAAQFgjsAIAACCsEVgBAAAQ1gisAAAA\n",
              "CGsEVgAAAIS1ER1YH3nkEatLAAAAwDka0YH18OHDVpcAAACAczSiAysAAACGPwIrAAAAwhqBFQAA\n",
              "AGGNwAoAAICwRmAFAABAWCOwAgAAIKwRWAEAABDWCKwAAAAIawRWAAAAhDUCKwAAAMIagTVE3jlY\n",
              "rSaP1+oyAAAARhyH1QWMBDVNHn37P96X3TD0mYljtDQ3VUtzU5SbFifDMKwuDwAAYFgjsIbAsbqT\n",
              "mpAYrZKaFr13qFbvHarVr17dr7Ful5ZMTdHS3BRdkJMstyvC6lIBAACGHcM0TdPqIgbLmjVrtH79\n",
              "+iF7vJLqZm0pqNTWwiq9e6hGre3+wJjdZuj8rDFakpuiJVNTNDPDTfcVAACgHwisg6S13acdxbXa\n",
              "UlClLYWVOlTVHDSeEufUkqkd4XVRTrISoiMtqRMAACDcEViHyJHaFm0prNLWgkq9c7BGLW2+wJjN\n",
              "kM7LGhOYPjArI142G91XAAAAicBqCY/Xpw9LTgSmDxRWNAWNJ8VEanFneF2Uk6LEGLqvAABg9CKw\n",
              "hoFjdSe1taBKWwsr9XZRTdDtsQxDyhufoKWdATZvfILsdF8BAMAoQmANM21ev/52+IS2FlZpS0Gl\n",
              "9pc3Bo2PiY7QopxT3deUOKdFlQIAAAwNAmuYK69v1bbCjgu3th+oVmNr8OIEs8fFa2nnnQfmZCbI\n",
              "YWctCAAAMLIQWIcRr8+vnUfqtKWgUlsKqrTneEPQuNvl0KLOOw8snZqiVLfLokoBAABCh8A6jFU2\n",
              "tmpbYbW2FHR0X+tPtgeNz0h3a0luR3idO2GMIui+AgCAYYjAOkL4/KZ2HanT1s47D3x0rF7dz2yc\n",
              "06ELspM7pg/kpig9Psq6YgEAAM4CgXWEqmnyaNuBKm0tqNK2A9WqbW4LGs9NiwvMff3MxERFOui+\n",
              "AgCA8ERgHQV8flOfHKsPrLq160hdUPc1JtKuhdnJgYULxo+Jtq5YAACA0zisLgCDz24zlJ+ZoPzM\n",
              "BP3DshydaG7T9qKOua/bCqtU3dSm1/ZW6LW9FZKk7NTYQHidPylRTofd4mcAAABGs7P6O/DNN9+s\n",
              "iRMnyjAM7dq1K7D9wIEDWrhwoaZOnap58+Zpz549gzqGczMmJlKX5Wdo/VVztONny/TyTy7UrV+c\n",
              "qs9MGCObIRVVNul3bxXr6t/t0Jz7XtMPnvpAv3+3RKU1LVaXDgAARqGzCqwrV67UW2+9pQkTJgRt\n",
              "v/7663XdddepsLBQt99+u1avXj2oYwgdm83QrHHxuunzOXr+Rwu1c+0X9e/fmqtV549XapxTJ9t9\n",
              "emN/pe5+aY8W//ObuuihLbr3D3u0paBSre0+q8sHAACjwIDmsE6cOFEvvvii5syZo8rKSmVnZ6u2\n",
              "tlYOh0OmaSo9PV1vvfWW3G53yMeys7P7XSdzWM+NaZraV9aoLYWV2lpQpb8dPiGv/9Q/F6fDpgWT\n",
              "k7Q0N0VLc1M1MSlahsGysQAAILTOeQ7rkSNHlJ6eLoej41CGYSgrK0ulpaWKj48P+VhvgdXj8cjj\n",
              "8QRt8/noAJ4LwzA0I8OtGRlu3bg0Ww2t7XqnqLpz2dgqldW3amthlbYWVum+P+5VVmJ0Z3hN0YLJ\n",
              "SYqOZIo0AAA4dyMmUaxbt0733Xdf0LYFCxZYVM3I5HZFaPmsdC2flS7TNFVY0aSthR2rbn1QUqvS\n",
              "2hb9/t3D+v27hxXpsOmzkxIDF29NSYml+woAAAbknANrZmamysrK5PV6A3++Ly0tVVZWltxud8jH\n",
              "enPnnXdqzZo1QdvWrl17rk8PvTAMQ7lj45Q7Nk7XLZ6iJo9X7x6sCSwbe6zupLYfqNb2A9W6/5V9\n",
              "GpcQFVh1a2F2smKdI+b/lQAAwCA759SQmpqquXPn6plnntHq1au1adMmjR8/PvCn+8EY64nT6ZTT\n",
              "6QzaZrdzO6ahEut06Asz0vSFGWkyTVMHq5q1pXPVrfeLa3Ws7qT+5/1S/c/7pYqwG/rMhMTA3Nep\n",
              "aXRfAQBA787qoqvrr79er7zyisrLy5WUlKS4uDgVFRWpoKBAq1evVk1Njdxut5588knNnj1bkgZl\n",
              "rL+46Co8tLR59d6hGm0tqNKWwiodPu32WOnxrsDUgYXZyXK7IiyqFAAAhCNWusKQK65u1taCSm0p\n",
              "rNK7B2vk8foDYw6bobkTxgSWjZ2R7qb7CgDAKEdghaVa2316v7i2Y/pAQZUOVTcHjafGObVkaoqW\n",
              "5KZoUXaK4qPpvgIAMNoQWBFWSmtaAnceeOdgjU52W5zAZkhzs8Z0Th9I1cwMt2w2uq8AAIx0BFaE\n",
              "LY/Xpw+KTwQu3jpQ2RQ0nhwbqcU5Hd3XxTkpGhMTaVGlAABgMBFYMWwcPdHSsVBBQZXeLqpWc9up\n",
              "7qthSPnjEwJ3Hpg9Ll52uq8AAIwIBFYMS21evz48XBsIsPvLG4PGx0RHaHHnnQcW5aQoOdbZy5EA\n",
              "AEC4I7BiRCirP6ltnUvGvnWgWo0eb2DMMKTZ4+K1tPPirTmZY+i+AgAwjBBYMeK0+/zaWVoXWHVr\n",
              "b1lD0Hh8VIQW5SQH7j6QGueyqFIAANAfBFaMeJUNrdpa2LFowfbCKjW0eoPGZ2a4A3cemJuVIIfd\n",
              "ZlGlAACgJwRWjCpen1+7j9ZpS0GVthZW6aOj9UHjcS6HLsxO7ly4IFVj4+m+AgBgNQIrRrXqJo+2\n",
              "FXaE122FVTrR0h40Pm1snJbkpmjp1FSdP2GMIh10XwEAGGoEVqCTz2/qo6N1HdMHCqq0+2idur86\n",
              "Yp0OLZySpKW5qVqSm6JxCVHWFQsAwCjisLoAIFzYbYbOyxqj87LG6KfLpqq2uU3bD3TcNmtrYZVq\n",
              "mtv0l70V+sveCklSTmpsYOrAvElj5HTYLX4GAACMTARWoBeJMZG6fM44XT5nnPx+U3uON3TceaCw\n",
              "SjtLT+hAZZMOVDbpie3Fio60a+GUpMDFW5mJ0VaXDwDAiMGUAGAA6lvatb3oVPe1stETND45OaZj\n",
              "7mtuqj47KVGuCLqvAAAMFB1WYADioyP01bwMfTUvQ6Zpam9ZQ2Du698On9Ch6mYdqm7Wk2+XyBVh\n",
              "04LJSZ0LF6RqUnKM1eUDADCs0GEFQqyhtV3vFFVrS0FHgC1vaA0an5AUHVh163OTkxUVSfcVAIC+\n",
              "EFiBQWSapgormgKrbn14uFbtvlMvuUiHTZ+dlBiY+zolJUaGwbKxAAB0R2AFhlCTx9vRfS3smP96\n",
              "rO5k0Pj4MVGB8LpwSpJinMzaAQCAwApYxDRNHaxqCqy69f6hWrX5/IHxSLtN8yaNCQTYnNRYuq8A\n",
              "gFGJwAqEiZY2r949WBO4eKu0tiVoPCPepSWd9329IDtJca4IiyoFAGBo8fdGIExERzp08fQ0XTw9\n",
              "TaZpqri6ORBe3ztUo+P1rXp2xxE9u+OIHDZD508Y07Hq1tQUTU+Po/sKABix6LACw0Bru0/vHaoJ\n",
              "TB8orm4OGk9zO7Vkakf39cKcZMVH0X0FAIwcdFiBYcAVYdfS3FQtzU2VJB2uOdV9fedgtSoaPNr4\n",
              "4VFt/PCo7DZDc7MSAnNfZ6S7ZbPRfQUADF90WIFhrrXdpw9KagPd16LKpqDx5FinFk9N1tLcVC3O\n",
              "SVZCdKRFlQIAMDAEVmCEOVLboq2FHeH1naJqNbf5AmM2Q8rPTNDSqalampui2ePi6b4CAMIegRUY\n",
              "wdq8fn1YUhuYPlBQ0Rg0nhgTqcU5Hd3XRTnJSop1WlQpAAC9I7ACo8jxupPa1hle3y6qVqPHGxgz\n",
              "DClvXLyWdN55YE5mgux0XwEAYYDACoxS7T6//n74hLZ0Bth9ZQ1B4wnREVqUk9J594EUpcTRfQUA\n",
              "WIPACkCSVNHQ2jH3taBK2w9UqaHVGzQ+a5w7cOeB8zIT5LDbLKoUADDaEFgBnMHr82vXkbrAnQc+\n",
              "PlYfNB7ncmhRTrKWTk3V4qkpGhvvsqhSAMBoQGAF8KmqGj3afqBj6sC2A1Wqa2kPGp82Nq7zPrEp\n",
              "On/CGEXQfQUAhBCBFcBZ8flNfXS0o/u6pbBKHx2tU/ffIrFOhy7ITgosG5uREGVdsQCAEYHACuCc\n",
              "1Da3neq+FlapprktaHxqWmwgvH5m4hg5HXaLKgUADFcszQrgnCTGROryOeN0+Zxx8vtNfXK8PjD3\n",
              "dWfpCRVWNKmwokkbth1SdKRdC6cka0luipZOTVFmYrTV5QMAhgECK4CQsdkM5Y1PUN74BN18cY7q\n",
              "Wtq0/UB1YOWtqkaPXt9Xodf3VUiSpqTEaEnnqlvzJyXKFUH3FQBwJgIrgEGTEB2pS/MzdGl+hvx+\n",
              "U3vLGgK3zvpb6QkdrGrWwapi/efbxXJF2PS5yUmBi7cmJMVYXT4AIEwQWAEMCZvN0Kxx8Zo1Ll4/\n",
              "vihb9Sfb9XZRtbYWVGlLYaUqGjx6s6BKbxZUSZImJkV3zH3NTdGCSUmKiqT7CgCjFRddAbCcaZra\n",
              "X96orYVV2lJQqQ9LTsjrP/Wryemw6bOTkzoXLkjR5OQYGQbLxgLAaEFgBRB2Glvb9c7Bmo6Ltwoq\n",
              "dby+NWg8MzGqI7xOTdXC7CRFR/LHIgAYyQisAMKaaZoqqmwK3HlgR3Gt2nz+wHik3aZ5k8Zo6dRU\n",
              "XTw9VZNTYi2sFgAwGAisAIaVZo9X7x6s6Zg+UFipI7UnA2OGIT37wwVaMDnJwgoBAKHG39EADCsx\n",
              "ToeWzUjTshlpMk1Th6qb9dD/FejVT8plqOO+sACAkYUFvwEMW4ZhKD4qQu8X10qSblyaralpcRZX\n",
              "BQAINQIrgGHLNE39bPPHqm1u07Sxcbr54hyrSwIADIKQBtY//elPmjt3rubMmaNZs2bp6aefliRV\n",
              "VlZq+fLlysnJ0axZs7Rt27bAzwx0DABe3HVMf9lboQi7ofVXzVGkg/8HB4CRKGRzWE3T1He+8x1t\n",
              "2bJFeXl5Kikp0bRp07RixQrdcccdWrBggf785z/rgw8+0Ne+9jUVFxcrIiJiwGMARrfy+lbd/dIe\n",
              "SdI/XJyjGRluiysCAAyWkF50ZRiG6urqJEkNDQ1KSkqS0+nUxo0bVVRUJEmaN2+eMjIytHXrVi1b\n",
              "tmzAY6fzeDzyeDxB23w+XyifHoAwYZqmbt/0kRpbvcofH68blkyxuiQAwCAKWWA1DEP/+7//qxUr\n",
              "VigmJkYnTpzQ5s2b1djYqPb2do0dOzaw78SJE1VaWqqampoBjfVk3bp1uu+++4K2LViwIFRPD0AY\n",
              "+f8+OKKthVVyOmx6+Ko5ctiZCgAAI1nIfst7vV7df//92rx5sw4fPqy//vWvuvrqq+X1ekP1EH26\n",
              "8847VV9fH/Qxf/78IXlsAEPnSG2L7n95ryTpH7+Uq+xUFgoAgJEuZIF1165dOn78uBYvXiyp40/4\n",
              "48eP10cffSSHw6Hy8vLAviUlJcrKylJSUtKAxnridDrldruDPux2e6ieHoAw4PebuvW53Wpu82n+\n",
              "xET94IJJVpcEABgCIQusmZmZKisr0759+yRJRUVFOnjwoHJzc7Vq1So99thjkqQPPvhAx44d05Il\n",
              "SyRpwGMARp+n3y3R+8W1io60659X5clmM6wuCQAwBEI2hzUtLU0bNmzQVVddJZvNJr/fr0cffVRZ\n",
              "WVl68MEHdfXVVysnJ0eRkZF65plnAlf6D3QMwOhysKpJv3p1vyTpZ5dM14SkGIsrAgAMFcM0TdPq\n",
              "IgbLmjVrtH79eqvLAHCOfH5TKx97RztL67QoJ1m//8F8GQbdVQAYLbi0FkDY27DtkHaW1inO6dCD\n",
              "V+YRVgFglCGwAghr+8sb9C+vFUqS7rlspjISoiyuCAAw1AisAMJWm9evWzbuVpvPr2XT03Tl3HFW\n",
              "lwQAsACBFUDYevTNIu053qCE6Ag9sGIWUwEAYJQisAIISx8frde/v9mxNPP9V8xSapzL4ooAAFYh\n",
              "sAIIO63tPq3ZuEs+v6mv5qXrq3kZVpcEALAQgRVA2PmX1wp1oLJJybFO/dPls6wuBwBgMQIrgLDy\n",
              "YUmtNmw/JEn61YrZGhMTaXFFAACrEVgBhI2WNq9ufW63TFNaef54LZuRZnVJAIAwQGAFEDYefHW/\n",
              "SmpalBHv0t2XzrC6HABAmCCwAggLbxdV6+l3D0uSHlyZJ7crwuKKAADhgsAKwHKNre267fmPJEnf\n",
              "WZClRTkpFlcEAAgnBFYAlrv/5X06VndSWYnRuvPL060uBwAQZgisACz1xv4K/e+HR2QY0kOr8hXj\n",
              "dFhdEgAgzBBYAVimrqVNt2/6WJJ0zQWTNH9SosUVAQDCEYEVgGXu+cMeVTV6NCUlRrd+KdfqcgAA\n",
              "YYrACsASf/q4TC/tOi67zdDDV82RK8JudUkAgDBFYAUw5KoaPbrrxU8kSTcunaI5mQnWFgQACGsE\n",
              "VgBDyjRN/fyFj1Xb3Kbp6W795PM5VpcEAAhzBFYAQ+rFXcf0l70VirAbenhVviId/BoCAPSNdwoA\n",
              "Q6as/qTufmmPJOmny6ZqRobb4ooAAMMBgRXAkDBNU7dv+liNrV7lZybo+sWTrS4JADBMEFgBDIln\n",
              "dxzRtsIqOR02PbwqXw47v34AAP3DOwaAQXektkW/fGWvJOkfv5Sr7NRYiysCAAwnBFYAg8rvN3Xr\n",
              "c7vV3ObT/EmJ+sEFk6wuCQAwzBBYAQyqp94p0fvFtYqOtOuhlfmy2QyrSwIADDMEVgCD5mBVkx78\n",
              "835J0s8uma6spGiLKwIADEcEVgCDwuvz69bndsvj9WtRTrK+/dksq0sCAAxTBFYAg2LD9kPaWVqn\n",
              "OJdDD16ZJ8NgKgAAYGAIrABCbn95g/7ltUJJ0j2XzlRGQpTFFQEAhjMCK4CQavP6dcvG3Wr3mVo2\n",
              "PU1Xzh1ndUkAgGGOwAogpB59s0h7jjdoTHSEHlgxi6kAAIBzRmAFEDIfHa3Tv79ZJEn6pytmKTXO\n",
              "ZXFFAICRgMAKICRa231as3G3fH5TX81L11fzMqwuCQAwQhBYAYTEv7xWqKLKJiXHOvVPl8+yuhwA\n",
              "wAhCYAVwzj4sqdWG7YckSb9aMVtjYiItrggAMJIQWAGck5Y2r255brdMU1p5/ngtm5FmdUkAgBGG\n",
              "wArgnPzq1f06XNOijHiX7r50htXlAABGIAIrgAF7u6hav3/3sCTp1yvz5XZFWFwRAGAkIrACGJCG\n",
              "1nbd9vxHkqSrF0zQhTnJFlcEABipCKwABuT+l/fqWN1JZSVG644vT7O6HADACEZgBXDW/rqvQhs/\n",
              "PCrDkB5ala8Yp8PqkgAAIxiBFcBZOdHcpjs2fyxJuvbCSZo/KdHiigAAI11IA6vH49FNN92knJwc\n",
              "zZ49W9/5znckSQcOHNDChQs1depUzZs3T3v27An8zEDHAFjjnj/sUVWjR1NSYnTLF3OtLgcAMAqE\n",
              "NLDecccdMgxDhYWF+vjjj/XQQw9Jkq6//npdd911Kiws1O23367Vq1cHfmagYwCG3p8+LtMfdh+X\n",
              "3Wbo4avmyBVht7okAMAoYJimaYbiQM3NzUpPT9fRo0fldrsD2ysrK5Wdna3a2lo5HA6Zpqn09HS9\n",
              "9dZbcrvdAxrLzs7uV01r1qzR+vXrQ/H0gFGvqtGjL/3rNtU2t+knn8+muwoAGDIhu1Li4MGDSkxM\n",
              "1AMPPKDXX39dUVFRuvfee5WQkKD09HQ5HB0PZRiGsrKyVFpaqvj4+AGN9RRYPR6PPB5P0Dafzxeq\n",
              "pweMaqZp6ucvfKza5jZNT3frJ5/PsbokAMAoErIpAV6vV4cPH9aMGTP04Ycf6t/+7d/09a9/XV6v\n",
              "N1QP0ad169YpPj4+6GPHjh1D8tjASPfCzmP6y94KRdgNrb8qX5EOrtcEAAydkL3rZGVlyWaz6dvf\n",
              "/rYk6bzzztOkSZN0+PBhlZWVBYKraZoqLS1VVlaWMjMzBzTWkzvvvFP19fVBH/Pnzw/V0wNGrbL6\n",
              "k7rnDx0XPP502VRNT3d/yk8AABBaIQusycnJuvjii/V///d/kqTi4mIVFxfrggsu0Ny5c/XMM89I\n",
              "kjZt2qTx48crOztbqampAxrridPplNvtDvqw27kgBDgXpmnq9k0fq7HVq/zMBF2/eLLVJQEARqGQ\n",
              "XXQlSYcOHdI111yj6upq2Ww23X333bryyitVUFCg1atXq6amRm63W08++aRmz54tSQMe6w8uugLO\n",
              "zf+8X6qfvfCxnA6bXrl5kbJTY60uCQAwCoU0sIYbAiswcKU1LVr+yDa1tPl011em69pFdFcBANbg\n",
              "ygkAZ/D7Tf3j87vV0ubT/EmJ+sEFk6wuCQAwihFYAZzhqXdK9H5xraIj7XpoZb5sNsPqkgAAoxiB\n",
              "FUCQg1VNevDP+yVJP7tkurKSoi2uCAAw2hFYAQR4fX7dsnG3PF6/FuUk69uf7fk2cgAADCUCK4CA\n",
              "x7cd0q4jdYpzOfTglXkyDKYCAACsR2AFIEnaX96gf329UJJ076UzlZEQZXFFAAB0ILACUJvXrzX/\n",
              "u1vtPlPLpqdpxdxxVpcEAEAAgRWAHn3jgPaWNWhMdIQeWDGLqQAAgLBCYAVGuY+O1unftxyUJN1/\n",
              "xWylxrksrggAgGAEVmAUa233ac3G3fL5TV2an6Gv5KVbXRIAAGcgsAKj2PrXClVU2aSUOKd+cdlM\n",
              "q8sBAKBHBFZglPqgpFZPbD8kSVr3tdkaExNpcUUAAPSMwAqMQi1tXt363G6ZprTq/PFaNiPN6pIA\n",
              "AOgVgRUYhX716n4drmlRRrxLay+dYXU5AAD0icAKjDJvHajW7989LEn69cp8uV0RFlcEAEDfCKzA\n",
              "KNLQ2q7bnt8tSbp6wQRdmJNscUUAAHw6Aiswitz/8l4dr2/VhKRo3fHlaVaXAwBAvxBYgVHir/sq\n",
              "tPHDozIM6aFV+YpxOqwuCQCAfiGwAqPAieY23bH5Y0nStRdO0ryJiRZXBABA/xFYgVHg7j/sUVWj\n",
              "R9mpsbrli7lWlwMAwFkhsAIj3CsflemPu4/LbjP08Kp8uSLsVpcEAMBZIbACI1hVo0d3vdgxFeDG\n",
              "pVOUn5lgbUEAAAwAgRUYoUzT1M9e+FgnWto1Pd2tn3w+x+qSAAAYEAIrMEK9sPOYXttboQi7ofVX\n",
              "5SvSwcsdADA88Q4GjEBl9Sd1zx/2SJJ+umyqpqe7La4IAICBI7ACI4xpmrrt+Y/U2OpVfmaCrl88\n",
              "2eqSAAA4JwRWYIT5nx2l2n6gWk6HTQ+vypfDzsscADC88U4GjCClNS365Sv7JEm3LZ+m7NRYiysC\n",
              "AODcEViBEcLvN3Xr87vV0ubT/EmJ+v7CiVaXBABASBBYgRHiyXdKtKO4VtGRdj20Ml82m2F1SQAA\n",
              "hASBFRgBDlY16dd/3i9J+vlXpisrKdriigAACB0CKzDMeX1+3bJxtzxevxblJOtb87OsLgkAgJAi\n",
              "sALD3OPbDmnXkTrFuRz69co8GQZTAQAAIwuBFRjG9pU16F9fL5Qk3XvpTKXHR1lcEQAAoUdgBYap\n",
              "Nm/HVIB2n6kvzEjTirnjrC4JAIBBQWAFhqlH3zigvWUNGhMdoQe+NpupAACAEYvACgxDu4/U6d+3\n",
              "HJQk3X/FbKXEOS2uCACAwUNgBYaZ1nafbnlut3x+U5fmZ+greelWlwQAwKAisALDzPrXClVU2aSU\n",
              "OKd+cdlMq8sBAGDQEViBYeSDklo9sf2QJOlXK2ZrTEykxRUBADD4CKzAMNHs8eqWjbtlmtKq88fr\n",
              "4ulpVpcEAMCQILACw8SvXt2v0toWZcS7tPbSGVaXAwDAkCGwAsPAWweq9V/vHZYk/XplvtyuCIsr\n",
              "AgBg6BBYgTDX0Nqu257fLUm6esEEXZiTbHFFAAAMrZAH1ieffFKGYejFF1+UJFVWVmr58uXKycnR\n",
              "rFmztG3btsC+Ax0DRpN/+uNeHa9v1YSkaN3x5WlWlwMAwJALaWAtKSnRE088oQULFgS23XHHHVqw\n",
              "YIEOHDigJ598Ut/61rfU3t5+TmPAaPHXfRV67m9HZRjSQ6vyFeN0WF0SAABDLmSB1e/369prr9Vv\n",
              "fvMbOZ2nVt3ZuHGjbrjhBknSvHnzlJGRoa1bt57TWE88Ho8aGhqCPnw+X6ieHjDkTjS36Y7NH0uS\n",
              "rr1wkuZNTLS4IgAArBGywLp+/XpdcMEFOv/88wPbampq1N7errFjxwa2TZw4UaWlpQMe6826desU\n",
              "Hx8f9LFjx45QPT1gyN39hz2qavQoOzVWt3wx1+pyAACwTEgC6yeffKJNmzbprrvuCsXhBuTOO+9U\n",
              "fX190Mf8+fMtqwc4F698VKY/7j4uu83Qw6vy5YqwW10SAACWCUlg3b59u0pKSpSTk6OJEyfqvffe\n",
              "03XXXaeNGzfK4XCovLw8sG9JSYmysrKUlJQ0oLHeOJ1Oud3uoA+7nTd5DD9VjR7d9WLHVIAfL52i\n",
              "/MwEawsCAMBiIQmsP/rRj1RWVqaSkhKVlJRowYIF2rBhg370ox9p1apVeuyxxyRJH3zwgY4dO6Yl\n",
              "S5ZI0oDHgJHKNE3dufljnWhp14x0t276fI7VJQEAYLlBv+T4wQcf1NVXX62cnBxFRkbqmWeeUURE\n",
              "xDmNASPV5r8f0+v7KhRhN/TwVfmKdHCrZAAADNM0TauLGCxr1qzR+vXrrS4D6Jey+pP64r9sU2Or\n",
              "V//4pVz9+KJsq0sCACAs0L4BwoBpmrrt+Y/U2OrVnMwEXb94stUlAQAQNgisQBj4nx2l2n6gWk6H\n",
              "TQ9flS+HnZcmAABdeFcELFZa06JfvrJPknTb8mmakhJrcUUAAIQXAitgIb/f1K3P71ZLm0+fnZSo\n",
              "7y+caHVJAACEHQIrYKEn3ynRjuJaRUfa9dCqfNlshtUlAQAQdgisgEWKKpv06z/vlyT9/CvTlZkY\n",
              "bXFFAACEJwIrYAGvz69bntstj9evRTnJ+tb83ldxAwBgtCOwAhZ4fNsh7T5SpziXQ79emSfDYCoA\n",
              "AAC9IbACQ2xfWYP+9fVCSdK9l85UenyUxRUBABDeCKzAEGrz+rVm4261+0x9YUaaVswdZ3VJAACE\n",
              "PQIrMIR+88YB7Str0JjoCD3wtdlMBQAAoB8IrMAQ2X2kTr/dclCS9MuvzVZKnNPiigAAGB4IrMAQ\n",
              "aG336ZbndsvnN3VpfoYumZ1udUkAAAwbBFZgCDz8lwIVVTYpJc6pX1w20+pyAAAYVgiswCDbUVyr\n",
              "/3irWJL0qxWzNSYm0uKKAAAYXgiswCBq9nh163O7ZZrSVZ8Zr4unp1ldEgAAww6BFRhEv3p1v0pr\n",
              "W5QR79JdX51hdTkAAAxLBFZgkGw/UKX/eu+wJOnXK/PldkVYXBEAAMMTgRUYBA2t7brt+Y8kSd/9\n",
              "3ARdmJNscUUAAAxfBFZgEPzTH/eqrL5VE5KidceXp1ldDgAAwxqBFQix1/dW6Lm/HZVhSA+tyld0\n",
              "pMPqkgAAGNYIrEAInWhu0x2bP5Yk/XDRZM2bmGhxRQAADH8EViCE1r70iaqbPMpOjdWaL0y1uhwA\n",
              "AEYEAisQIi9/dFwvf1Qmu83Q+qvy5YqwW10SAAAjAoEVCIHKxlatffETSdKPl05R3vgEawsCAGAE\n",
              "IbAC58g0Tf1s8yc60dKuGelu3fT5HKtLAgBgRCGwAudo89+P6fV9FYqwG1r/9XxFOnhZAQAQSryz\n",
              "AufgeN1J3fvHPZKkny6bqmlj3RZXBADAyENgBQbINE3dvukjNbZ6NSczQdcvnmx1SQAAjEgEVmCA\n",
              "/vv9Um0/UC2nw6aHr8qXw87LCQCAwcA7LDAApTUteuBP+yRJty2fpikpsRZXBADAyEVgBc6S32/q\n",
              "1ud2q6XNp89OStT3F060uiQAAEY0Aitwlv7z7WLtKKlVdKRdD63Kl81mWF0SAAAjGoEVOAtFlU36\n",
              "9f8VSJLu+soMZSZGW1wRAAAjH4EV6Cevz69bntutNq9fi6em6JvzM60uCQCAUYHACvTT49sOafeR\n",
              "OsW5HHrwytkyDKYCAAAwFAisQD/sPd6gf329UJJ032UzlR4fZXFFAACMHgRW4FO0ef1as3GX2n2m\n",
              "vjgjTV87b5zVJQEAMKoQWIFP8Zs3Dmh/eaPGREfol19jKgAAAEONwAr0YdeROv12y0FJ0i+/Nlsp\n",
              "cU6LKwIAYPQhsAK9aG336ZaNu+Tzm7osP0OXzE63uiQAAEYlAivQi4f/UqCDVc1KiXPqF5fPtLoc\n",
              "AABGLQIr0IMdxbX6j7eKJUm/WjFbCdGRFlcEAMDoFbLA2traqiuuuEJTp05Vfn6+vvCFL6ioqEiS\n",
              "VFlZqeXLlysnJ0ezZs3Stm3bAj830DFgsDR7vLr1ud0yTemqz4zXxdPTrC4JAIBRLaQd1uuuu04F\n",
              "BQXavXu3Lr/8cl177bWSpDvuuEMLFizQgQMH9OSTT+pb3/qW2tvbz2kMGCzrXt2n0toWjUuI0tqv\n",
              "zrC6HAAARr2QBVaXy6VLLrkkcMufBQsWqKSkRJK0ceNG3XDDDZKkefPmKSMjQ1u3bj2nMWAwbD9Q\n",
              "pWfeK5Uk/XplnuJcERZXBAAAHIN14EceeUSXX365ampq1N7errFjxwbGJk6cqNLS0gGP9cTj8cjj\n",
              "8QRt8/l8IX5WGMkaWtt12/MfSZK++7kJuiA72eKKAACANEgXXT3wwAMqKirSunXrBuPwPVq3bp3i\n",
              "4+ODPnbs2DFkj4/h7xd/3Kuy+lZNSIrWHV+eZnU5AACgU8g7rA899JA2b96s119/XdHR0YqOjpbD\n",
              "4VB5eXmgW1pSUqKsrCwlJSUNaKwnd955p9asWRO0be3ataF+ehih/na4Vs//7agkqa6lXd/5j/eV\n",
              "5nYpNc6pVLdLaW6X0txOpcZ1fI6PimDFKwAAhkhIA+v69ev17LPP6vXXX1dCQkJg+6pVq/TYY4/p\n",
              "3nvv1QcffKBjx45pyZIl5zR2OqfTKaczeBUiu90eyqeHESzCblOs06Emj1f1J9v199K6PvePdNiC\n",
              "AmzH546AGwi3bpfcLgfBFgCAc2SYpmmG4kBHjx5VZmamJk+erLi4OEkdIfL9999XRUWFrr76ahUX\n",
              "FysyMlKPPvqoLrroIkka8Fh/rFmzRuvXrw/F08Mo0Ob1q7KxVZWNHlU2tKqiwaOKzs+Vja2qbPCo\n",
              "orFVdS39v1OF02ELCrDdA21anKtjm9upOCfBFgCA3oQssIYjAisGQ2u7T1WNHSG2K9RWNnZ+7vZ9\n",
              "/cn+B9uoCHvPodbtUkrge5dinYN2nSQAAGGLdz/gLLki7MpMjFZmYnSf+7W2+wJd2a4g2/3rrpDb\n",
              "2OrVyXafSmpaVFLT0ucxYyLtZ4Ta1LiOLm1XqE2NcyqGYAsAGEF4VwMGiSvCrqykaGUl9R1sW9q8\n",
              "qmzwBAJsV5gNTEvoDLlNHq+a23wqrm5WcXVzn8eMdTo6QmxcT9MRTn0dFck8bwBA+COwAhaLjnRo\n",
              "YrJDE5Nj+tyv2eMNCrVVjafm2HZ9X97QqpY2n5o8XjVVeXWoqu9gG+dyBAXY1MDc2s5w2/m1K4Jg\n",
              "CwCwDoEVGCZinA5Ncjo06VOCbZPHG5hP2zHPtuvCsa55th3fn2z3qbHVq8bWJhVVNvV5THdnsA2E\n",
              "2l6mJTgdBFsAQOgRWIERJtbpUGxKrKakxPa6j2maavR0TkXonFtb0eDpNuf2VOfW4/WrodWrhtYm\n",
              "HfiUYJsQHRHoynbd8qsr1KbEdX0m2AIAzg6BFRiFDMOQ2xUhtytC2al9B9uGVm8gwAbfGeHUrb4q\n",
              "Gjxq8/pV19KuupZ2FVQ09vn4iTGRpxZliDsz1HbdHSHCPiiL8QEAhhkCK4BeGYah+KgIxUdFKCct\n",
              "rtf9TNNU/cn2bnNsT00/6L6tsrFV7T5Ttc1tqm1u0/7yvoNtUkxk50pjp+bWdg+5qW6nkmMJtgAw\n",
              "0hFYAZwzwzCUEB2phOhITf2UYFvX0h7oygZfPNaxreset+0+UzXNbappbtO+sr4eW0qKcXbOpe0K\n",
              "ssEhN83tUlJMpBwEWwAYlgisAIaMYRgaExOpMTGRmja29/38flMnWtqCVxnrPte287ZflY0e+fym\n",
              "qps8qm7yaE8fj20zpORYZ7c7IXRfVvdUxzYpxim7jVXHACCcEFgBhB2bzVBSrFNJsU7NkLvX/fz+\n",
              "ji5sUKjtNte26y4J1U1t8vnNjqDb6NEnauj1mHaboeTYyM47IbiC7mfbfeWxpJhI2Qi2ADAkCKwA\n",
              "hi2bzVBKXMedB2Zm9L6fz2+qptlzxipjFQ2eoHm21U0dHduO6QoeSfW9HtPR+dinFmXoCrYupXQL\n",
              "uWOiCbYAcK4IrABGPLvN6OiWxrk0a1x8r/t5ff6Oju1pUxCqus25rWjwqKbZI6/fVFl9q8rqW/t8\n",
              "7Ai7oZRY56l5tZ0BN7XzvrZd0xLGREfIMAi2ANATAisAdHLYbYEFEmar92Db7vOrpqnt1MVijR5V\n",
              "dVtKtyvkVje1qd1n6nh9q45/SrCNtNs6pxv0HmrT3E7FRxFsAYw+BFYAOEsRdpvGxrs0Nt7V535t\n",
              "Xr+qm05NQ+i+IENg5bFGj2qb29Tm8+tY3UkdqzvZ5zEjHbagAJvaOQ0haOUxt0tul4NgC2DEILAC\n",
              "wCCJdNiUkRCljISoPvfzeH2dt/PqJdR2dm7rWtrV5vXrSO1JHantO9g6HbagANs90HbdJSHV7VSc\n",
              "k2ALIPwRWAHAYk6HXePHRGv8mOg+92tt9wXuU1sRWFb3VKjt2l5/sl0er1+ltS0qrW3p85hREfae\n",
              "Q223OyKkuV2KdfJ2AcA6/AYCgGHCFWFXZmK0MhM/PdhWnraUbkVj6xnbGlu9OtnuU0lNi0pq+g62\n",
              "MZH2M0JtareFGbqmJcQQbAEMAn6zAMAI44qwKyspWllJfQfbk22+4FAbtPJYxzSEqgaPGj1eNbf5\n",
              "VFzdrOLq5j6PGet0BN27Njjknvo6KtIeyqcMYIQjsALAKBUVadeEpBhNSIrpc79mjzfoIrHKbkvp\n",
              "di3aUN7QqpY2n5o8XjVVeXWoqu9gG+dyBAXY1NOW0u362hVBsAVAYAUAfIoYp0OTnA5NSu472DZ5\n",
              "vIGLxrpWGetaSrdjnm3H9yfbfWps9aqxtUlFlU19HtPdGWwDobaXaQlOB8EWGMkIrACAkIh1OhSb\n",
              "EqvJKbG97mOappo83m4XjXUtq+vp/Lqji1te3yqP16+GVq8aWpt04FOCbUJ0RKArm9ptKd00t1Mp\n",
              "cV2fCbbAcEVgBQAMGcMwFOeKUJwrQtmpfQfbhlZv0NK5XXNtA/NsO+fftnn9qmtpV11LuwoqGvt8\n",
              "/MSYyFOLMsSdGWq77o4QYbeF+qkDOAcEVgBA2DEMQ/FREYqPilBOWlyv+5mmqfqT7b2H2oaulcc8\n",
              "avP5VdvcptrmNu0v7zvYJsVEnlpOt6tz2y3kprqdSo4l2AJDhcAKABi2DMNQQnSkEqIjNfVTgm1d\n",
              "S3ugKxvcue26mKxj7m27z1RNc5tqmtu0r6yvx5aSYpydc2m7gmxwyE1zu5QUEykHwRY4JwRWAMCI\n",
              "ZxiGxsREakxMpKaN7X0/v9/UiZa2oDsgdL+PbUXjqbDr85uqbvKousmjPX08ts2QkmOd3e6E0H1Z\n",
              "3VMd26QYp+w2Vh0DekJgBQCgk81mKCnWqaRYp2bI3et+fr+p2pa2U0vnnjbXtivsVjV1BNvKzqV3\n",
              "P1FDr8e02wwlx0Z23gnBFXQ/2+4rjyXFRMpGsMUoQ2AFAOAs2WyGkmM75rHOzOh9P5/fVE2z58yV\n",
              "xxo8qur2fXVnsK3ovGOCVN/rMR02Qylx3Rdl6Aq2LqV0C7ljogm2GDkIrAAADBK7zejolsa5JMX3\n",
              "up+384Kw7kvpnh5qKxo8qmn2yOs3VVbfqrL61j4fO8JuKCXWeWpebWfATe28r23XtIQx0REyDIIt\n",
              "whuBFQAAiznsto6Oqdul2Z8SbKub2k67WOzUUrpdndzqpja1+0wdr2/V8U8JtpF2W+d0g95DbZrb\n",
              "qfgogi2sQ2AFAGCYcNhtGhvv0th4V5/7tXn9qm46c5Wx7nNtKxs9qm1uU5vPr2N1J3Ws7mSfx4x0\n",
              "2IICbGrnNISglcfcLsVHRYTyKQOSCKwAAIw4kQ6bMhKilJEQ1ed+bV6/qpqCQ233ubZdHdsTLe1q\n",
              "8/p1pPakjtT2HWy/+7kJ+sXls0L5dAACKwAAo1Wkw6a0OKdshtT1x37TNOXzd1ww5vObavf71dLm\n",
              "k8fr79cx2/q5H3A2CKwAAIxApmmq0dOxvG15vUflnfNey+tbg76ubvLIb/bvmHEuh8a6O6YkpLld\n",
              "Gut2KS2+43PH106lxDoH94lhVCKwAgAwzHh9HX/KL6/vHkI9ga8rGjpCaUubr1/Hc9iMjrmoneEz\n",
              "LRBKnYFgOjbepehIYgOswb88AADCRFdXtKKzC1pe33Fx1GB3RZNjnNyzFWGNwAoAwBAYqq7o6R1S\n",
              "uqIYCfhXDADAOeipK9oVPsvrPYGvq5s8MvvZFXW7HN1CJ11RgMAKAEAvvD5/x5/kG1pVEQiidEWB\n",
              "ocYrAgAw6gxWV7R7R3RsfMfKVXRFgXNHYAUAjCjtPr+qunVFyzvDZ0eH1ENXFBiGeHUBAIYF0zTV\n",
              "0OpVRber5QejKxrcIaUrCoQDAisAICy0tvu0t6zhjK5oeeeSoeX1rTrZ3v+uaJq7I3DSFQWGP16p\n",
              "AICw8M0n3tPO0rpzPk5MpF1pbpci7Da1ef06XndSlY0e7StrkMNuyGGzyWEzTn1tN2S3GYro/Lpj\n",
              "7NQ+dptNETZDdvuZ+9hthiK672MzFGHvdsyufWzd9z1tH5stcOyufQyDji7QHYEVABAW8scnqLi6\n",
              "WT5fx/r1Pr+pdl8//7bfTXObT4eqmwehwqFj7wq/ttOCb+dnh/3MEHwqZHd+Pm3/4LGew3nwWLft\n",
              "3Y4ZPGbr4ed6OH737TaDKRY4a2EfWA8cOKDvfe97qq6uVnx8vJ566inNnDnT6rIAACF272Uzde9l\n",
              "wb/fTdOUz2/K2/kRHGZPhVqv3y+vr3Mfv1/tPrPHfbq+7mkf72n7d9+n+/FP38frNzvHTn3d/Zjd\n",
              "f9brC96/t0Du83c8bttQ/Ie3gM1QcHc7KBCf1t0+rQMeHOCDu9sOuy2oi30q9AcH6O7HtHcP4fae\n",
              "j3l6R/5UV7znfewE8pAL+8B6/fXX67rrrtPq1av1/PPPa/Xq1frggw+sLgsAMAQMo6vDZ3Ulg+f0\n",
              "QOztCsQ9BNz+7tMx1i2sd9vH5/er3X8qrPd0zNMDfU/H9J1WT/dj+rrV09MSsn5TavP51c8bNQw7\n",
              "hqHTwnAPwbfP7vapsN5TdzsorNtP/7ngQN+9Y376tJTu+3TflhAdoeRYp9X/GYOEdWCtrKzUhx9+\n",
              "qL/85S+SpCuvvFI33XSTioqKlJ2dHbSvx+ORx+MJ2ubzjdBXAgBgxOj4879dzrB+Rx44f7dOc6Bj\n",
              "fXrIPq3rHLRP92Dctd1nnjbW/Ri9Hb97aO8M4v7T9+8eyDsCevf9gz53BnRfD4nc7Azk8klqH/r/\n",
              "5ufq25/N0i+/NtvqMoKE9cvjyJEjSk9Pl8PRUaZhGMrKylJpaekZgXXdunW67777grYtWLBgyGoF\n",
              "AABnstkMRdoMRcpmdSmDoiuQBzrQ3aatBHWgz+hS97DPad3t4OAdvE/P4fy0EH/GttNDf3Cw7wrr\n",
              "sWH4f0/hV9EA3XnnnVqzZk3QtrVr11pUDQAAGA26ArkkRWkEz12xWFgH1szMTJWVlcnr9crhcMg0\n",
              "TZWWliorK+uMfZ1Op5zO4PkWdjv/cAAAAIa7sO7Pp6amau7cuXrmmWckSZs2bdL48ePPmA4AAACA\n",
              "kSusO6yS9Pjjj2v16tV64IEH5Ha79eSTT1pdEgAAAIZQ2AfW3Nxcvfvuu1aXAQAAAIuE9ZQAAAAA\n",
              "gMAKAACAsEZgBQAAQFgjsAIAACCsEVgBAAAQ1gisAAAACGsEVgAAAIQ1AisAAADCmmGapml1EYNl\n",
              "xYoVmjhx4pA8ls/n044dOzR//nzZ7fYheUyEFudweOP8DX+cw+GPczj8WXEOJ0yYoH/4h3/oc58R\n",
              "HViHUkNDg+Lj41VfXy+32211ORgAzuHwxvkb/jiHwx/ncPgL13PIlAAAAACENQIrAAAAwhqBFQAA\n",
              "AGGNwBoiTqdT99xzj5xOp9WlYIA4h8Mb52/44xwOf5zD4S9czyEXXQEAACCs0WEFAABAWCOwAgAA\n",
              "IKwRWAEAABDWCKxn4eabb9bEiRNlGIZ27drV636/+93vlJOToylTpuiHP/yh2tvbh65I9Kk/53DL\n",
              "li2KiorSnDlzAh8nT54c2kLRo9bWVl1xxRWaOnWq8vPz9YUvfEFFRUU97vvyyy9r2rRpysnJ0YoV\n",
              "K9TQ0DDE1aIn/T2HJSUlstvtQa/DgwcPWlAxevLFL35ReXl5mjNnjhYtWqSdO3f2uB/vh+GrP+cw\n",
              "rN4PTfTb1q1bzSNHjpgTJkwwd+7c2eM+hw4dMtPT082ysjLT7/ebl156qfnoo48ObaHoVX/O4Ztv\n",
              "vmnm5+cPaV3on5MnT5qvvPKK6ff7TdM0zd/85jfmkiVLztivsbHRTE1NNfft22eapmn++Mc/Nm+9\n",
              "9dahLBW96O85LC4uNuPj44e2OPTbiRMnAl9v3rzZzMvLO2Mf3g/DW3/OYTi9H9JhPQuLFy/W+PHj\n",
              "+9zn+eef12WXXaaxY8fKMAzdcMMNevbZZ4eoQnya/pxDhC+Xy6VLLrlEhmFIkhYsWKCSkpIz9nv1\n",
              "1Vd13nnnadq0aZKkG2+8kddhmOjvOUR4S0hICHxdX18fOJ/d8X4Y3vpzDsOJw+oCRprS0lJNmDAh\n",
              "8P3EiRNVWlpqYUUYiIMHD2ru3Lmy2+36/ve/rxtvvNHqktCDRx55RJdffvkZ23t6HZaVlcnr9crh\n",
              "4NdeOOntHEpSc3Oz5s2bJ5/PpyuuuEI///nPZbfbh7hC9Oa73/2u3nzzTUnSn/70pzPGeT8Mf592\n",
              "DqXweT/kNzdwmrlz5+ro0aOKj4/X0aNHdckllyg5OVlXXXWV1aWhmwceeEBFRUX661//anUpGKC+\n",
              "zmF6erqOHTum1NRU1dbW6utf/7oefvhh3XbbbRZUip78/ve/lyQ9/fTTuv3223sNPAhfn3YOw+n9\n",
              "kCkBIZaVlaXDhw8Hvi8pKVFWVpaFFeFsud1uxcfHS5LGjx+vb37zm9q+fbvFVaG7hx56SJs3b9ar\n",
              "r76q6OjoM8Z7eh2mp6fTXQ0jn3YOnU6nUlNTJUmJiYn6wQ9+wOswTH3ve9/Tm2++qZqamqDtvB8O\n",
              "H72dw3B6PySwhtiVV16pP/zhDyovL5dpmnrsscf0jW98w+qycBbKysrk9/slSY2NjXr55Zd13nnn\n",
              "WVwVuqxfv17PPvusXnvttaA5WN0tX75cf//737V//35J0m9/+1teh2GkP+ewsrIycEW5x+PR5s2b\n",
              "eR2Gibq6Oh0/fjzw/YsvvqikpCQlJiYG7cf7Yfjq7zkMq/dDq6/6Gk6uu+46c9y4cabdbjdTU1PN\n",
              "KVOmmKZpmtdcc4350ksvBfbbsGGDOXnyZHPy5MnmD37wA7Otrc2qknGa/pzD3/zmN+aMGTPMvLw8\n",
              "c8aMGeY999wTuKIZ1jpy5IgpyZw8ebKZn59v5ufnm/PnzzdN0zTXrl1r/r//9/8C+7700ktmbm6u\n",
              "OWXKFPPyyy836+rqrCob3fT3HG7atMmcOXNm4HV40003ma2trVaWjk4lJSXmvHnzzFmzZpl5eXnm\n",
              "xRdfHLjrCu+Hw0N/z2E4vR8apmma1kRlAAAA4NMxJQAAAABhjcAKAACAsEZgBQALvPTSS5o+fbrm\n",
              "zJkjwzBUV1dndUkAELYIrABggccee0x33323du3aFfJj+3y+kB8TAKxEYAWAIXbzzTdr+/bt+tnP\n",
              "fqaFCxcGjX344YdauHCh8vLyNH/+fL399tuBsf/6r/9SXl6e8vLy9JWvfEXHjh2TJD311FO66KKL\n",
              "dOWVV2r27NnasWOH7r///kAHd86cOUH3wwSA4Ya7BACABZYuXaqf/vSnuuKKK2QYhk6cOKHo6Ghl\n",
              "Z2friSee0Je+9CW99dZbWrlypYqKilRSUqJly5bpb3/7m8aNG6df/vKXeuutt/Tqq6/qqaee0o03\n",
              "3qidO3cqNzdXJ06c0KRJk1RWVqaoqCi1tLTIZrPJ5XJZ/bQBYEDosAJAmCgoKJDNZtOXvvQlSdKF\n",
              "F16otLQ07dq1S2+++aaWL1+ucePGSZJuvPFGvfHGG4E//y9cuFC5ubmSOlanycnJ0Xe+8x09/vjj\n",
              "qq2tJawCGNYIrAAQxgzD6Nf22NjYwNd2u13vvfeefvrTn6qyslILFixgWVMAwxqBFQDCRG5urvx+\n",
              "v1577TVJ0jvvvKPy8nLNmTNHF110kf785z8HllN87LHHdPHFF8tut59xnMbGRlVUVGjRokVau3at\n",
              "LrzwQu3cuXNInwsAhJLD6gIAAB0iIyO1efNm3Xzzzbrlllvkcrn0/PPPKzY2VrNmzdI///M/a/ny\n",
              "5ZKkzMxMPfHEEz0ep76+XitXrlRzc7MMw1BOTo6+973vDeVTAYCQ4qIrAAAAhDWmBAAAACCsEVgB\n",
              "AAAQ1gisAAAACGsEVgAAAIQ1AisAAADCGoEVAAAAYY3ACgAAgLBGYAUAAEBYI7ACAAAgrBFYAQAA\n",
              "ENYIrAAAAAhr/z+9Oh6TvjFMywAAAABJRU5ErkJggg==\n",
              "\">\n",
              "      </div>\n",
              "      <script type=\"text/javascript\">\n",
              "        (() => {\n",
              "          const chartElement = document.getElementById(\"chart-b8cfbd02-639e-4faa-8432-c8f7a101ff65\");\n",
              "          async function getCodeForChartHandler(event) {\n",
              "            const chartCodeResponse =  await google.colab.kernel.invokeFunction(\n",
              "                'getCodeForChart', [\"chart-b8cfbd02-639e-4faa-8432-c8f7a101ff65\"], {});\n",
              "            const responseJson = chartCodeResponse.data['application/json'];\n",
              "            await google.colab.notebook.addCell(responseJson.code, 'code');\n",
              "          }\n",
              "          chartElement.onclick = getCodeForChartHandler;\n",
              "        })();\n",
              "      </script>\n",
              "      <style>\n",
              "        .colab-quickchart-chart-with-code  {\n",
              "            display: block;\n",
              "            float: left;\n",
              "            border: 1px solid transparent;\n",
              "        }\n",
              "\n",
              "        .colab-quickchart-chart-with-code:hover {\n",
              "            cursor: pointer;\n",
              "            border: 1px solid #aaa;\n",
              "        }\n",
              "      </style>"
            ]
          },
          "metadata": {}
        }
      ],
      "source": [
        "#Enter Your Code, Execute and take the Screenshot\n",
        "y = df['floors'].value_counts().to_frame()\n",
        "y"
      ]
    },
    {
      "cell_type": "markdown",
      "metadata": {
        "id": "65fa2cf4-355a-43ae-bc72-62078f48e550"
      },
      "source": [
        "### Question 4\n",
        "\n",
        "Use the function <code>boxplot</code> in the seaborn library  to  determine whether houses with a waterfront view or without a waterfront view have more price outliers. Take a screenshot of your code and boxplot. You will need to submit the screenshot for the final project.\n"
      ]
    },
    {
      "cell_type": "code",
      "execution_count": null,
      "metadata": {
        "colab": {
          "base_uri": "https://localhost:8080/",
          "height": 486
        },
        "id": "a80f35cd-d32b-432f-9ad7-bfec44040b19",
        "outputId": "0f17ec74-4716-442d-af45-fb31f9073afb"
      },
      "outputs": [
        {
          "output_type": "execute_result",
          "data": {
            "text/plain": [
              "<Axes: xlabel='waterfront', ylabel='price'>"
            ]
          },
          "metadata": {},
          "execution_count": 32
        },
        {
          "output_type": "display_data",
          "data": {
            "text/plain": [
              "<Figure size 640x480 with 1 Axes>"
            ],
            "image/png": "[encoded data removed]"
          },
          "metadata": {}
        }
      ],
      "source": [
        "sns.boxplot(x = 'waterfront',  y = 'price', data = df)"
      ]
    },
    {
      "cell_type": "markdown",
      "metadata": {
        "id": "2390aae0-e92f-4df7-89d1-62c6872b7f5b"
      },
      "source": [
        "### Question 5\n",
        "\n",
        "Use the function <code>regplot</code>  in the seaborn library  to  determine if the feature <code>sqft_above</code> is negatively or positively correlated with price. Take a screenshot of your code and scatterplot. You will need to submit the screenshot for the final project.\n"
      ]
    },
    {
      "cell_type": "code",
      "execution_count": null,
      "metadata": {
        "colab": {
          "base_uri": "https://localhost:8080/",
          "height": 486
        },
        "id": "f5015f08-d5c9-4870-9692-ef88771c3e02",
        "outputId": "3f5c9de1-8f55-4fa3-95a7-26a823fc5060"
      },
      "outputs": [
        {
          "output_type": "execute_result",
          "data": {
            "text/plain": [
              "<Axes: xlabel='sqft_above', ylabel='price'>"
            ]
          },
          "metadata": {},
          "execution_count": 33
        },
        {
          "output_type": "display_data",
          "data": {
            "text/plain": [
              "<Figure size 640x480 with 1 Axes>"
            ],
            "image/png": "[encoded data removed]"
          },
          "metadata": {}
        }
      ],
      "source": [
        "#Enter Your Code, Execute and take the Screenshot\n",
        "sns.regplot(x = 'sqft_above', y = 'price', data = df)"
      ]
    },
    {
      "cell_type": "markdown",
      "metadata": {
        "id": "cfd81bef-dc34-4f4b-9512-f182dd224d1a"
      },
      "source": [
        "We can use the Pandas method <code>corr()</code>  to find the feature other than price that is most correlated with price.\n"
      ]
    },
    {
      "cell_type": "code",
      "execution_count": null,
      "metadata": {
        "colab": {
          "base_uri": "https://localhost:8080/"
        },
        "id": "14d41b61-acc2-43d9-98c8-a303efc221af",
        "outputId": "629775c7-0f37-40ae-9a3a-44aa15afc5f4"
      },
      "outputs": [
        {
          "output_type": "execute_result",
          "data": {
            "text/plain": [
              "zipcode         -0.053203\n",
              "long             0.021626\n",
              "condition        0.036362\n",
              "yr_built         0.054012\n",
              "sqft_lot15       0.082447\n",
              "sqft_lot         0.089661\n",
              "yr_renovated     0.126434\n",
              "floors           0.256794\n",
              "waterfront       0.266369\n",
              "lat              0.307003\n",
              "bedrooms         0.308797\n",
              "sqft_basement    0.323816\n",
              "view             0.397293\n",
              "bathrooms        0.525738\n",
              "sqft_living15    0.585379\n",
              "sqft_above       0.605567\n",
              "grade            0.667434\n",
              "sqft_living      0.702035\n",
              "price            1.000000\n",
              "Name: price, dtype: float64"
            ]
          },
          "metadata": {},
          "execution_count": 36
        }
      ],
      "source": [
        "#df.corr()['price'].sort_values()\n",
        "df = df.drop('date', axis=1)\n",
        "df.corr()['price'].sort_values()"
      ]
    },
    {
      "cell_type": "markdown",
      "metadata": {
        "id": "a12abdce-4932-40a4-afaa-76ea504cbea5"
      },
      "source": [
        "# Module 4: Model Development\n"
      ]
    },
    {
      "cell_type": "markdown",
      "metadata": {
        "id": "ae9a434a-8f5c-4831-aa30-4cd6978a91a9"
      },
      "source": [
        "We can Fit a linear regression model using the  longitude feature <code>'long'</code> and  caculate the R^2.\n"
      ]
    },
    {
      "cell_type": "code",
      "execution_count": null,
      "metadata": {
        "colab": {
          "base_uri": "https://localhost:8080/"
        },
        "id": "539abddc-a483-4b4e-ae3e-d874efd45bcc",
        "outputId": "e320c5d3-c964-457f-a053-2361afa1c78d"
      },
      "outputs": [
        {
          "output_type": "execute_result",
          "data": {
            "text/plain": [
              "0.00046769430149007363"
            ]
          },
          "metadata": {},
          "execution_count": 37
        }
      ],
      "source": [
        "X = df[['long']]\n",
        "Y = df['price']\n",
        "lm = LinearRegression()\n",
        "lm.fit(X,Y)\n",
        "lm.score(X, Y)"
      ]
    },
    {
      "cell_type": "markdown",
      "metadata": {
        "id": "90b7c066-1f79-46ba-ba9b-d603a6168ec8"
      },
      "source": [
        "### Question  6\n",
        "\n",
        "Fit a linear regression model to predict the <code>'price'</code> using the feature <code>'sqft_living'</code> then calculate the R^2. Take a screenshot of your code and the value of the R^2. You will need to submit it for the final project.\n"
      ]
    },
    {
      "cell_type": "markdown",
      "source": [],
      "metadata": {
        "id": "dVFspaNq7M2_"
      }
    },
    {
      "cell_type": "code",
      "execution_count": null,
      "metadata": {
        "colab": {
          "base_uri": "https://localhost:8080/"
        },
        "id": "1ab6ba5c-667e-48d7-a4dc-ce2eb42b3103",
        "outputId": "3db876de-7d6a-4eaa-94aa-5c0d588a2114"
      },
      "outputs": [
        {
          "output_type": "stream",
          "name": "stdout",
          "text": [
            "[287555.06702451 677621.82640197 172499.40418656 ... 242655.29616092\n",
            " 405416.96554144 242655.29616092]\n"
          ]
        },
        {
          "output_type": "execute_result",
          "data": {
            "text/plain": [
              "0.4928532179037931"
            ]
          },
          "metadata": {},
          "execution_count": 38
        }
      ],
      "source": [
        "#Enter Your Code, Execute and take the\n",
        "lm.fit(df[['sqft_living']],df['price'])\n",
        "yhat_a = lm.predict(df[['sqft_living']])\n",
        "print(yhat_a)\n",
        "lm.score(df[['sqft_living']],df['price'])"
      ]
    },
    {
      "cell_type": "markdown",
      "metadata": {
        "id": "59d36397-b687-473a-b8ac-da1f4b3f1fcc"
      },
      "source": [
        "### Question 7\n",
        "\n",
        "Fit a linear regression model to predict the <code>'price'</code> using the list of features:\n"
      ]
    },
    {
      "cell_type": "code",
      "execution_count": null,
      "metadata": {
        "id": "f1842b23-3e4b-4e39-999e-eff311849c6f"
      },
      "outputs": [],
      "source": [
        "features =[\"floors\", \"waterfront\",\"lat\" ,\"bedrooms\" ,\"sqft_basement\" ,\"view\" ,\"bathrooms\",\"sqft_living15\",\"sqft_above\",\"grade\",\"sqft_living\"]"
      ]
    },
    {
      "cell_type": "markdown",
      "metadata": {
        "id": "06854a02-7d32-46c5-834d-65c2787efa41"
      },
      "source": [
        "Then calculate the R^2. Take a screenshot of your code and the value of the R^2. You will need to submit it for the final project.\n"
      ]
    },
    {
      "cell_type": "code",
      "execution_count": null,
      "metadata": {
        "colab": {
          "base_uri": "https://localhost:8080/"
        },
        "id": "e597943e-5256-4a21-92a2-9cac73aee8c9",
        "outputId": "4bf4a4a4-b971-447f-e530-d4712f38b82c"
      },
      "outputs": [
        {
          "output_type": "execute_result",
          "data": {
            "text/plain": [
              "0.6576722447699446"
            ]
          },
          "metadata": {},
          "execution_count": 40
        }
      ],
      "source": [
        "#Enter Your Code, Execute and take the Screenshot\n",
        "lm.fit(df[features], df['price'])\n",
        "lm.score(df[features], df['price'])"
      ]
    },
    {
      "cell_type": "markdown",
      "metadata": {
        "id": "d68afd8e-39ff-4217-84ae-7b7a8d8b3fce"
      },
      "source": [
        "### This will help with Question 8\n",
        "\n",
        "Create a list of tuples, the first element in the tuple contains the name of the estimator:\n",
        "\n",
        "<code>'scale'</code>\n",
        "\n",
        "<code>'polynomial'</code>\n",
        "\n",
        "<code>'model'</code>\n",
        "\n",
        "The second element in the tuple  contains the model constructor\n",
        "\n",
        "<code>StandardScaler()</code>\n",
        "\n",
        "<code>PolynomialFeatures(include_bias=False)</code>\n",
        "\n",
        "<code>LinearRegression()</code>\n"
      ]
    },
    {
      "cell_type": "code",
      "execution_count": null,
      "metadata": {
        "id": "8443c709-404d-4cec-926f-55881c90f2e2"
      },
      "outputs": [],
      "source": [
        "Input=[('scale',StandardScaler()),('polynomial', PolynomialFeatures(include_bias=False)),('model',LinearRegression())]"
      ]
    },
    {
      "cell_type": "markdown",
      "metadata": {
        "id": "fd29edec-ff32-46dc-a367-17676a635020"
      },
      "source": [
        "### Question 8\n",
        "\n",
        "Use the list to create a pipeline object to predict the 'price', fit the object using the features in the list <code>features</code>, and calculate the R^2. Take a screenshot of your code and the value of the R^2. You will need to submit it for the final project.\n"
      ]
    },
    {
      "cell_type": "code",
      "execution_count": null,
      "metadata": {
        "colab": {
          "base_uri": "https://localhost:8080/"
        },
        "id": "6cedf83d-3bad-48af-8f8c-0c219976a7e7",
        "outputId": "59cc6d00-56ce-48b0-9bd2-40f792a38f34"
      },
      "outputs": [
        {
          "output_type": "execute_result",
          "data": {
            "text/plain": [
              "0.7513410648797747"
            ]
          },
          "metadata": {},
          "execution_count": 42
        }
      ],
      "source": [
        "#Enter Your Code, Execute and take the Screenshot\n",
        "from sklearn.pipeline import Pipeline\n",
        "from sklearn.preprocessing import StandardScaler\n",
        "\n",
        "W = df[features]\n",
        "y = df['price']\n",
        "Input=[('scale',StandardScaler()),('polynomial', PolynomialFeatures(include_bias=False)),('model',LinearRegression())]\n",
        "pipe = Pipeline(Input)\n",
        "pipe.fit(W,y)\n",
        "pipe.score(W,y)"
      ]
    },
    {
      "cell_type": "markdown",
      "metadata": {
        "id": "a48bf7af-f8db-4ab3-b738-89173af3370e"
      },
      "source": [
        "# Module 5: Model Evaluation and Refinement\n"
      ]
    },
    {
      "cell_type": "markdown",
      "metadata": {
        "id": "4e8cc46c-8fce-4c89-926f-143e4c3b42b4"
      },
      "source": [
        "Import the necessary modules:\n"
      ]
    },
    {
      "cell_type": "code",
      "execution_count": null,
      "metadata": {
        "colab": {
          "base_uri": "https://localhost:8080/"
        },
        "id": "8aa6b1ba-ed54-48b0-8fcb-0379d16bc941",
        "outputId": "3a36542e-c2a7-47c1-d89e-1b35b225981b"
      },
      "outputs": [
        {
          "output_type": "stream",
          "name": "stdout",
          "text": [
            "done\n"
          ]
        }
      ],
      "source": [
        "from sklearn.model_selection import cross_val_score\n",
        "from sklearn.model_selection import train_test_split\n",
        "print(\"done\")"
      ]
    },
    {
      "cell_type": "markdown",
      "metadata": {
        "id": "193bee6c-893e-4df8-90d7-d326657e660d"
      },
      "source": [
        "We will split the data into training and testing sets:\n"
      ]
    },
    {
      "cell_type": "code",
      "execution_count": null,
      "metadata": {
        "colab": {
          "base_uri": "https://localhost:8080/"
        },
        "id": "7bd848db-0ae4-4556-b014-01a13229beac",
        "outputId": "7c7a4a53-894e-431b-e4f7-85e07ad33076"
      },
      "outputs": [
        {
          "output_type": "stream",
          "name": "stdout",
          "text": [
            "number of test samples: 3242\n",
            "number of training samples: 18371\n"
          ]
        }
      ],
      "source": [
        "features =[\"floors\", \"waterfront\",\"lat\" ,\"bedrooms\" ,\"sqft_basement\" ,\"view\" ,\"bathrooms\",\"sqft_living15\",\"sqft_above\",\"grade\",\"sqft_living\"]\n",
        "X = df[features]\n",
        "Y = df['price']\n",
        "\n",
        "x_train, x_test, y_train, y_test = train_test_split(X, Y, test_size=0.15, random_state=1)\n",
        "\n",
        "\n",
        "print(\"number of test samples:\", x_test.shape[0])\n",
        "print(\"number of training samples:\",x_train.shape[0])"
      ]
    },
    {
      "cell_type": "markdown",
      "metadata": {
        "id": "65c8e152-2509-4b5b-a9a1-9441e0525de3"
      },
      "source": [
        "### Question 9\n",
        "\n",
        "Create and fit a Ridge regression object using the training data, set the regularization parameter to 0.1, and calculate the R^2 using the test data. Take a screenshot of your code and the value of the R^2. You will need to submit it for the final project.\n"
      ]
    },
    {
      "cell_type": "code",
      "execution_count": null,
      "metadata": {
        "id": "b7f93208-f8d0-48a6-bedb-437335b7d4ad"
      },
      "outputs": [],
      "source": [
        "from sklearn.linear_model import Ridge"
      ]
    },
    {
      "cell_type": "code",
      "execution_count": null,
      "metadata": {
        "colab": {
          "base_uri": "https://localhost:8080/"
        },
        "id": "2198e158-c786-41e5-bcc8-307ab5d37aa1",
        "outputId": "e20349c0-921f-454f-d5a7-4fa730ae4bdc"
      },
      "outputs": [
        {
          "output_type": "execute_result",
          "data": {
            "text/plain": [
              "0.6535654800366465"
            ]
          },
          "metadata": {},
          "execution_count": 46
        }
      ],
      "source": [
        "#Enter Your Code, Execute and take the Screenshot\n",
        "Ridge_test = Ridge(alpha = 0.1)\n",
        "Ridge_test.fit(x_test, y_test)\n",
        "Ridge_test.score(x_test, y_test)"
      ]
    },
    {
      "cell_type": "markdown",
      "metadata": {
        "id": "76d066ec-134f-4e5d-9fc5-db0fd490dc28"
      },
      "source": [
        "### Question 10\n",
        "\n",
        "Perform a second order polynomial transform on both the training data and testing data. Create and fit a Ridge regression object using the training data, set the regularisation parameter to 0.1, and calculate the R^2 utilising the test data provided. Take a screenshot of your code and the R^2. You will need to submit it for the final project.\n"
      ]
    },
    {
      "cell_type": "code",
      "execution_count": null,
      "metadata": {
        "colab": {
          "base_uri": "https://localhost:8080/"
        },
        "id": "6b30f634-4606-491c-b5db-d1b9004d059e",
        "outputId": "1e42ae49-2ea4-421e-c08e-99d1ed17fe81"
      },
      "outputs": [
        {
          "output_type": "execute_result",
          "data": {
            "text/plain": [
              "0.7418167438683128"
            ]
          },
          "metadata": {},
          "execution_count": 47
        }
      ],
      "source": [
        "#Enter Your Code, Execute and take the Screenshot\n",
        "pr = PolynomialFeatures(degree=2)\n",
        "x_train_pr = pr.fit_transform(x_train)\n",
        "x_test_pr = pr.fit_transform(x_test)\n",
        "pr\n",
        "Ridge_test.fit(x_train_pr, y_train)\n",
        "Ridge_test.score(x_train_pr, y_train)"
      ]
    },
    {
      "cell_type": "markdown",
      "metadata": {
        "id": "7195d051-d5e9-43cc-80e7-c6b504a10e62"
      },
      "source": [
        "<p>Once you complete your notebook you will have to share it. You can download the notebook by navigating to \"File\" and clicking on \"Download\" button.\n",
        "        <p><img width=\"600\" src=\"https://cf-courses-data.s3.us.cloud-object-storage.appdomain.cloud/IBMDeveloperSkillsNetwork-DA0101EN-SkillsNetwork/labs/Module%206/images/DA0101EN_FA_Image21.png\" alt=\"share notebook\" style=\"display: block; margin-left: auto; margin-right: auto;\"></p>\n",
        "        <p></p>\n",
        "<p>This will save the (.ipynb) file on your computer. Once saved, you can upload this file in the \"My Submission\" tab, of the \"Peer-graded Assignment\" section.  \n",
        "          \n"
      ]
    },
    {
      "cell_type": "markdown",
      "metadata": {
        "id": "1f84350d-1740-40a2-acb9-9da04034fb48"
      },
      "source": [
        "<h2>About the Authors:</h2>\n",
        "\n",
        "<a href=\"https://www.linkedin.com/in/joseph-s-50398b136/?utm_medium=Exinfluencer&utm_source=Exinfluencer&utm_content=000026UJ&utm_term=10006555&utm_id=NA-SkillsNetwork-Channel-SkillsNetworkCoursesIBMDeveloperSkillsNetworkDA0101ENSkillsNetwork20235326-2022-01-01\">Joseph Santarcangelo</a> has a PhD in Electrical Engineering, his research focused on using machine learning, signal processing, and computer vision to determine how videos impact human cognition. Joseph has been working for IBM since he completed his PhD.\n"
      ]
    },
    {
      "cell_type": "markdown",
      "metadata": {
        "id": "9c17095c-18b5-4d43-946f-3c73e45c950e"
      },
      "source": [
        "Other contributors: <a href=\"https://www.linkedin.com/in/michelleccarey/?utm_medium=Exinfluencer&utm_source=Exinfluencer&utm_content=000026UJ&utm_term=10006555&utm_id=NA-SkillsNetwork-Channel-SkillsNetworkCoursesIBMDeveloperSkillsNetworkDA0101ENSkillsNetwork20235326-2022-01-01\">Michelle Carey</a>, <a href=\"https://www.linkedin.com/in/jiahui-mavis-zhou-a4537814a?utm_medium=Exinfluencer&utm_source=Exinfluencer&utm_content=000026UJ&utm_term=10006555&utm_id=NA-SkillsNetwork-Channel-SkillsNetworkCoursesIBMDeveloperSkillsNetworkDA0101ENSkillsNetwork20235326-2022-01-01\">Mavis Zhou</a>\n"
      ]
    },
    {
      "cell_type": "markdown",
      "metadata": {
        "id": "2aa46ad2-dd75-4a4f-9d26-22208babbd9a"
      },
      "source": [
        "## Change Log\n",
        "\n",
        "| Date (YYYY-MM-DD) | Version | Changed By      | Change Description                           |\n",
        "| ----------------- | ------- | --------------- | -------------------------------------------- |\n",
        "| 2020-12-01        | 2.2     | Aije Egwaikhide | Coverted Data describtion from text to table |\n",
        "| 2020-10-06        | 2.1     | Lakshmi Holla   | Changed markdown instruction of Question1    |\n",
        "| 2020-08-27        | 2.0     | Malika Singla   | Added lab to GitLab                          |\n",
        "| 2022-06-13        | 2.3     | Svitlana Kramar | Updated Notebook sharing instructions        |\n",
        "| <hr>              |         |                 |                                              |\n",
        "\n",
        "## <h3 align=\"center\"> © IBM Corporation 2020. All rights reserved. <h3/>\n",
        "\n",
        "<p>\n"
      ]
    },
    {
      "cell_type": "code",
      "execution_count": null,
      "metadata": {
        "id": "80294e41-78bc-48ed-8658-e31f165ebf92"
      },
      "outputs": [],
      "source": []
    }
  ],
  "metadata": {
    "kernelspec": {
      "display_name": "Python 3 (ipykernel)",
      "language": "python",
      "name": "python3"
    },
    "language_info": {
      "codemirror_mode": {
        "name": "ipython",
        "version": 3
      },
      "file_extension": ".py",
      "mimetype": "text/x-python",
      "name": "python",
      "nbconvert_exporter": "python",
      "pygments_lexer": "ipython3",
      "version": "3.8.6"
    },
    "colab": {
      "provenance": []
    }
  },
  "nbformat": 4,
  "nbformat_minor": 0
}